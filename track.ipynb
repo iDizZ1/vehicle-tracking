{
 "cells": [
  {
   "cell_type": "code",
   "execution_count": 2,
   "metadata": {},
   "outputs": [
    {
     "name": "stdout",
     "output_type": "stream",
     "text": [
      "loading Roboflow workspace...\n",
      "loading Roboflow project...\n"
     ]
    }
   ],
   "source": [
    "from ultralytics import YOLO\n",
    "from dotenv import load_dotenv\n",
    "import os\n",
    "from roboflow import Roboflow\n",
    "\n",
    "\n",
    "load_dotenv()\n",
    "api_key = os.getenv(\"API_KEY\")\n",
    "\n",
    "model = YOLO(\"runs/detect/train4/weights/best.pt\")\n",
    "\n",
    "rf = Roboflow(api_key=api_key)\n",
    "\n",
    "project = rf.workspace(\"vehicle-mscoco\").project(\"vehicles-coco\")\n",
    "version = project.version(2)\n",
    "dataset = version.download(\"yolov11\")\n"
   ]
  },
  {
   "cell_type": "markdown",
   "metadata": {},
   "source": []
  },
  {
   "cell_type": "code",
   "execution_count": 13,
   "metadata": {},
   "outputs": [
    {
     "name": "stdout",
     "output_type": "stream",
     "text": [
      "New https://pypi.org/project/ultralytics/8.3.51 available  Update with 'pip install -U ultralytics'\n",
      "Ultralytics 8.3.39  Python-3.12.0 torch-2.5.1+cu124 CUDA:0 (NVIDIA GeForce RTX 3060 Ti, 8191MiB)\n",
      "\u001b[34m\u001b[1mengine\\trainer: \u001b[0mtask=detect, mode=train, model=yolo11m.pt, data=Vehicles-coco-2\\data.yaml, epochs=150, time=None, patience=100, batch=8, imgsz=640, save=True, save_period=-1, cache=False, device=None, workers=8, project=None, name=train4, exist_ok=False, pretrained=True, optimizer=auto, verbose=True, seed=0, deterministic=True, single_cls=False, rect=False, cos_lr=False, close_mosaic=10, resume=False, amp=True, fraction=1.0, profile=False, freeze=None, multi_scale=False, overlap_mask=True, mask_ratio=4, dropout=0.0, val=True, split=val, save_json=False, save_hybrid=False, conf=None, iou=0.7, max_det=300, half=False, dnn=False, plots=True, source=None, vid_stride=1, stream_buffer=False, visualize=False, augment=False, agnostic_nms=False, classes=None, retina_masks=False, embed=None, show=False, save_frames=False, save_txt=False, save_conf=False, save_crop=False, show_labels=True, show_conf=True, show_boxes=True, line_width=None, format=torchscript, keras=False, optimize=False, int8=False, dynamic=False, simplify=True, opset=None, workspace=None, nms=False, lr0=0.01, lrf=0.01, momentum=0.937, weight_decay=0.0005, warmup_epochs=3.0, warmup_momentum=0.8, warmup_bias_lr=0.1, box=7.5, cls=0.5, dfl=1.5, pose=12.0, kobj=1.0, nbs=64, hsv_h=0.015, hsv_s=0.7, hsv_v=0.4, degrees=0.0, translate=0.1, scale=0.5, shear=0.0, perspective=0.0, flipud=0.0, fliplr=0.5, bgr=0.0, mosaic=1.0, mixup=0.0, copy_paste=0.0, copy_paste_mode=flip, auto_augment=randaugment, erasing=0.4, crop_fraction=1.0, cfg=None, tracker=botsort.yaml, save_dir=runs\\detect\\train4\n",
      "Overriding model.yaml nc=80 with nc=4\n",
      "\n",
      "                   from  n    params  module                                       arguments                     \n",
      "  0                  -1  1      1856  ultralytics.nn.modules.conv.Conv             [3, 64, 3, 2]                 \n",
      "  1                  -1  1     73984  ultralytics.nn.modules.conv.Conv             [64, 128, 3, 2]               \n",
      "  2                  -1  1    111872  ultralytics.nn.modules.block.C3k2            [128, 256, 1, True, 0.25]     \n",
      "  3                  -1  1    590336  ultralytics.nn.modules.conv.Conv             [256, 256, 3, 2]              \n",
      "  4                  -1  1    444928  ultralytics.nn.modules.block.C3k2            [256, 512, 1, True, 0.25]     \n",
      "  5                  -1  1   2360320  ultralytics.nn.modules.conv.Conv             [512, 512, 3, 2]              \n",
      "  6                  -1  1   1380352  ultralytics.nn.modules.block.C3k2            [512, 512, 1, True]           \n",
      "  7                  -1  1   2360320  ultralytics.nn.modules.conv.Conv             [512, 512, 3, 2]              \n",
      "  8                  -1  1   1380352  ultralytics.nn.modules.block.C3k2            [512, 512, 1, True]           \n",
      "  9                  -1  1    656896  ultralytics.nn.modules.block.SPPF            [512, 512, 5]                 \n",
      " 10                  -1  1    990976  ultralytics.nn.modules.block.C2PSA           [512, 512, 1]                 \n",
      " 11                  -1  1         0  torch.nn.modules.upsampling.Upsample         [None, 2, 'nearest']          \n",
      " 12             [-1, 6]  1         0  ultralytics.nn.modules.conv.Concat           [1]                           \n",
      " 13                  -1  1   1642496  ultralytics.nn.modules.block.C3k2            [1024, 512, 1, True]          \n",
      " 14                  -1  1         0  torch.nn.modules.upsampling.Upsample         [None, 2, 'nearest']          \n",
      " 15             [-1, 4]  1         0  ultralytics.nn.modules.conv.Concat           [1]                           \n",
      " 16                  -1  1    542720  ultralytics.nn.modules.block.C3k2            [1024, 256, 1, True]          \n",
      " 17                  -1  1    590336  ultralytics.nn.modules.conv.Conv             [256, 256, 3, 2]              \n",
      " 18            [-1, 13]  1         0  ultralytics.nn.modules.conv.Concat           [1]                           \n",
      " 19                  -1  1   1511424  ultralytics.nn.modules.block.C3k2            [768, 512, 1, True]           \n",
      " 20                  -1  1   2360320  ultralytics.nn.modules.conv.Conv             [512, 512, 3, 2]              \n",
      " 21            [-1, 10]  1         0  ultralytics.nn.modules.conv.Concat           [1]                           \n",
      " 22                  -1  1   1642496  ultralytics.nn.modules.block.C3k2            [1024, 512, 1, True]          \n",
      " 23        [16, 19, 22]  1   1414108  ultralytics.nn.modules.head.Detect           [4, [256, 512, 512]]          \n",
      "YOLO11m summary: 409 layers, 20,056,092 parameters, 20,056,076 gradients, 68.2 GFLOPs\n",
      "\n",
      "Transferred 643/649 items from pretrained weights\n",
      "Freezing layer 'model.23.dfl.conv.weight'\n",
      "\u001b[34m\u001b[1mAMP: \u001b[0mrunning Automatic Mixed Precision (AMP) checks...\n",
      "\u001b[34m\u001b[1mAMP: \u001b[0mchecks passed \n"
     ]
    },
    {
     "name": "stderr",
     "output_type": "stream",
     "text": [
      "\u001b[34m\u001b[1mtrain: \u001b[0mScanning C:\\Users\\Ivan\\Desktop\\card\\Vehicles-coco-2\\train\\labels.cache... 13300 images, 0 backgrounds, 0 corrupt: 100%|██████████| 13300/13300 [00:00<?, ?it/s]"
     ]
    },
    {
     "name": "stdout",
     "output_type": "stream",
     "text": [
      "\u001b[34m\u001b[1mtrain: \u001b[0mWARNING  C:\\Users\\Ivan\\Desktop\\card\\Vehicles-coco-2\\train\\images\\000000099844_jpg.rf.a6e49a101154c78a342399f1861d9448.jpg: 2 duplicate labels removed\n"
     ]
    },
    {
     "name": "stderr",
     "output_type": "stream",
     "text": [
      "\n",
      "\u001b[34m\u001b[1mval: \u001b[0mScanning C:\\Users\\Ivan\\Desktop\\card\\Vehicles-coco-2\\valid\\labels.cache... 3798 images, 0 backgrounds, 0 corrupt: 100%|██████████| 3798/3798 [00:00<?, ?it/s]\n"
     ]
    },
    {
     "name": "stdout",
     "output_type": "stream",
     "text": [
      "Plotting labels to runs\\detect\\train4\\labels.jpg... \n",
      "\u001b[34m\u001b[1moptimizer:\u001b[0m 'optimizer=auto' found, ignoring 'lr0=0.01' and 'momentum=0.937' and determining best 'optimizer', 'lr0' and 'momentum' automatically... \n",
      "\u001b[34m\u001b[1moptimizer:\u001b[0m SGD(lr=0.01, momentum=0.9) with parameter groups 106 weight(decay=0.0), 113 weight(decay=0.0005), 112 bias(decay=0.0)\n",
      "Image sizes 640 train, 640 val\n",
      "Using 8 dataloader workers\n",
      "Logging results to \u001b[1mruns\\detect\\train4\u001b[0m\n",
      "Starting training for 150 epochs...\n",
      "\n",
      "      Epoch    GPU_mem   box_loss   cls_loss   dfl_loss  Instances       Size\n"
     ]
    },
    {
     "name": "stderr",
     "output_type": "stream",
     "text": [
      "      1/150      4.42G      1.093      1.378      1.203         28        640: 100%|██████████| 1663/1663 [06:36<00:00,  4.20it/s]\n",
      "                 Class     Images  Instances      Box(P          R      mAP50  mAP50-95): 100%|██████████| 238/238 [00:44<00:00,  5.29it/s]\n"
     ]
    },
    {
     "name": "stdout",
     "output_type": "stream",
     "text": [
      "                   all       3798      14361      0.641       0.55        0.6      0.398\n",
      "\n",
      "      Epoch    GPU_mem   box_loss   cls_loss   dfl_loss  Instances       Size\n"
     ]
    },
    {
     "name": "stderr",
     "output_type": "stream",
     "text": [
      "      2/150      4.53G      1.223      1.433      1.293         23        640: 100%|██████████| 1663/1663 [06:16<00:00,  4.42it/s]\n",
      "                 Class     Images  Instances      Box(P          R      mAP50  mAP50-95): 100%|██████████| 238/238 [00:45<00:00,  5.19it/s]\n"
     ]
    },
    {
     "name": "stdout",
     "output_type": "stream",
     "text": [
      "                   all       3798      14361      0.601      0.463        0.5      0.319\n",
      "\n",
      "      Epoch    GPU_mem   box_loss   cls_loss   dfl_loss  Instances       Size\n"
     ]
    },
    {
     "name": "stderr",
     "output_type": "stream",
     "text": [
      "      3/150       4.6G      1.398      1.737      1.418         24        640: 100%|██████████| 1663/1663 [06:10<00:00,  4.49it/s]\n",
      "                 Class     Images  Instances      Box(P          R      mAP50  mAP50-95): 100%|██████████| 238/238 [00:43<00:00,  5.45it/s]\n"
     ]
    },
    {
     "name": "stdout",
     "output_type": "stream",
     "text": [
      "                   all       3798      14361      0.448      0.368      0.354      0.202\n",
      "\n",
      "      Epoch    GPU_mem   box_loss   cls_loss   dfl_loss  Instances       Size\n"
     ]
    },
    {
     "name": "stderr",
     "output_type": "stream",
     "text": [
      "      4/150      4.56G      1.505      1.927      1.507         28        640: 100%|██████████| 1663/1663 [06:06<00:00,  4.54it/s]\n",
      "                 Class     Images  Instances      Box(P          R      mAP50  mAP50-95): 100%|██████████| 238/238 [00:47<00:00,  5.04it/s]\n"
     ]
    },
    {
     "name": "stdout",
     "output_type": "stream",
     "text": [
      "                   all       3798      14361      0.494      0.393      0.402      0.236\n",
      "\n",
      "      Epoch    GPU_mem   box_loss   cls_loss   dfl_loss  Instances       Size\n"
     ]
    },
    {
     "name": "stderr",
     "output_type": "stream",
     "text": [
      "      5/150      4.61G      1.451      1.823      1.469         21        640: 100%|██████████| 1663/1663 [07:24<00:00,  3.74it/s]\n",
      "                 Class     Images  Instances      Box(P          R      mAP50  mAP50-95): 100%|██████████| 238/238 [01:07<00:00,  3.51it/s]\n"
     ]
    },
    {
     "name": "stdout",
     "output_type": "stream",
     "text": [
      "                   all       3798      14361       0.53      0.437      0.456      0.285\n",
      "\n",
      "      Epoch    GPU_mem   box_loss   cls_loss   dfl_loss  Instances       Size\n"
     ]
    },
    {
     "name": "stderr",
     "output_type": "stream",
     "text": [
      "      6/150      4.59G      1.399      1.739       1.44         40        640: 100%|██████████| 1663/1663 [07:48<00:00,  3.55it/s]\n",
      "                 Class     Images  Instances      Box(P          R      mAP50  mAP50-95): 100%|██████████| 238/238 [01:07<00:00,  3.51it/s]\n"
     ]
    },
    {
     "name": "stdout",
     "output_type": "stream",
     "text": [
      "                   all       3798      14361      0.586      0.458      0.494      0.313\n",
      "\n",
      "      Epoch    GPU_mem   box_loss   cls_loss   dfl_loss  Instances       Size\n"
     ]
    },
    {
     "name": "stderr",
     "output_type": "stream",
     "text": [
      "      7/150      4.61G      1.353      1.656      1.408         27        640: 100%|██████████| 1663/1663 [05:28<00:00,  5.06it/s]\n",
      "                 Class     Images  Instances      Box(P          R      mAP50  mAP50-95): 100%|██████████| 238/238 [00:40<00:00,  5.85it/s]\n"
     ]
    },
    {
     "name": "stdout",
     "output_type": "stream",
     "text": [
      "                   all       3798      14361      0.606      0.459       0.51      0.328\n",
      "\n",
      "      Epoch    GPU_mem   box_loss   cls_loss   dfl_loss  Instances       Size\n"
     ]
    },
    {
     "name": "stderr",
     "output_type": "stream",
     "text": [
      "      8/150      4.59G      1.321       1.59      1.384         26        640: 100%|██████████| 1663/1663 [05:31<00:00,  5.01it/s]\n",
      "                 Class     Images  Instances      Box(P          R      mAP50  mAP50-95): 100%|██████████| 238/238 [00:42<00:00,  5.65it/s]\n"
     ]
    },
    {
     "name": "stdout",
     "output_type": "stream",
     "text": [
      "                   all       3798      14361        0.6      0.483      0.521       0.34\n",
      "\n",
      "      Epoch    GPU_mem   box_loss   cls_loss   dfl_loss  Instances       Size\n"
     ]
    },
    {
     "name": "stderr",
     "output_type": "stream",
     "text": [
      "      9/150      4.59G        1.3      1.551      1.369         11        640: 100%|██████████| 1663/1663 [07:32<00:00,  3.68it/s]\n",
      "                 Class     Images  Instances      Box(P          R      mAP50  mAP50-95): 100%|██████████| 238/238 [00:51<00:00,  4.62it/s]\n"
     ]
    },
    {
     "name": "stdout",
     "output_type": "stream",
     "text": [
      "                   all       3798      14361      0.603      0.493      0.538      0.352\n",
      "\n",
      "      Epoch    GPU_mem   box_loss   cls_loss   dfl_loss  Instances       Size\n"
     ]
    },
    {
     "name": "stderr",
     "output_type": "stream",
     "text": [
      "     10/150      4.59G      1.282      1.508      1.357         37        640: 100%|██████████| 1663/1663 [09:00<00:00,  3.08it/s]\n",
      "                 Class     Images  Instances      Box(P          R      mAP50  mAP50-95): 100%|██████████| 238/238 [00:43<00:00,  5.45it/s]\n"
     ]
    },
    {
     "name": "stdout",
     "output_type": "stream",
     "text": [
      "                   all       3798      14361      0.661      0.502      0.566       0.37\n",
      "\n",
      "      Epoch    GPU_mem   box_loss   cls_loss   dfl_loss  Instances       Size\n"
     ]
    },
    {
     "name": "stderr",
     "output_type": "stream",
     "text": [
      "     11/150      4.59G      1.263      1.482      1.346         31        640: 100%|██████████| 1663/1663 [05:32<00:00,  5.01it/s]\n",
      "                 Class     Images  Instances      Box(P          R      mAP50  mAP50-95): 100%|██████████| 238/238 [00:42<00:00,  5.64it/s]\n"
     ]
    },
    {
     "name": "stdout",
     "output_type": "stream",
     "text": [
      "                   all       3798      14361      0.645      0.529      0.584      0.387\n",
      "\n",
      "      Epoch    GPU_mem   box_loss   cls_loss   dfl_loss  Instances       Size\n"
     ]
    },
    {
     "name": "stderr",
     "output_type": "stream",
     "text": [
      "     12/150      4.54G      1.252      1.446      1.334         22        640: 100%|██████████| 1663/1663 [05:28<00:00,  5.06it/s]\n",
      "                 Class     Images  Instances      Box(P          R      mAP50  mAP50-95): 100%|██████████| 238/238 [00:42<00:00,  5.61it/s]\n"
     ]
    },
    {
     "name": "stdout",
     "output_type": "stream",
     "text": [
      "                   all       3798      14361      0.642      0.525      0.579      0.386\n",
      "\n",
      "      Epoch    GPU_mem   box_loss   cls_loss   dfl_loss  Instances       Size\n"
     ]
    },
    {
     "name": "stderr",
     "output_type": "stream",
     "text": [
      "     13/150      4.59G      1.229      1.422      1.324         28        640: 100%|██████████| 1663/1663 [05:30<00:00,  5.03it/s]\n",
      "                 Class     Images  Instances      Box(P          R      mAP50  mAP50-95): 100%|██████████| 238/238 [00:39<00:00,  5.99it/s]\n"
     ]
    },
    {
     "name": "stdout",
     "output_type": "stream",
     "text": [
      "                   all       3798      14361      0.647      0.527      0.579      0.388\n",
      "\n",
      "      Epoch    GPU_mem   box_loss   cls_loss   dfl_loss  Instances       Size\n"
     ]
    },
    {
     "name": "stderr",
     "output_type": "stream",
     "text": [
      "     14/150      4.59G      1.231      1.402       1.32         36        640: 100%|██████████| 1663/1663 [05:20<00:00,  5.19it/s]\n",
      "                 Class     Images  Instances      Box(P          R      mAP50  mAP50-95): 100%|██████████| 238/238 [00:39<00:00,  5.98it/s]\n"
     ]
    },
    {
     "name": "stdout",
     "output_type": "stream",
     "text": [
      "                   all       3798      14361      0.676      0.525      0.592      0.397\n",
      "\n",
      "      Epoch    GPU_mem   box_loss   cls_loss   dfl_loss  Instances       Size\n"
     ]
    },
    {
     "name": "stderr",
     "output_type": "stream",
     "text": [
      "     15/150      4.58G       1.21      1.376      1.309         20        640: 100%|██████████| 1663/1663 [05:17<00:00,  5.23it/s]\n",
      "                 Class     Images  Instances      Box(P          R      mAP50  mAP50-95): 100%|██████████| 238/238 [00:40<00:00,  5.87it/s]\n"
     ]
    },
    {
     "name": "stdout",
     "output_type": "stream",
     "text": [
      "                   all       3798      14361      0.663      0.548      0.605      0.411\n",
      "\n",
      "      Epoch    GPU_mem   box_loss   cls_loss   dfl_loss  Instances       Size\n"
     ]
    },
    {
     "name": "stderr",
     "output_type": "stream",
     "text": [
      "     16/150      4.59G      1.193      1.352      1.294         21        640: 100%|██████████| 1663/1663 [05:18<00:00,  5.22it/s]\n",
      "                 Class     Images  Instances      Box(P          R      mAP50  mAP50-95): 100%|██████████| 238/238 [00:40<00:00,  5.89it/s]\n"
     ]
    },
    {
     "name": "stdout",
     "output_type": "stream",
     "text": [
      "                   all       3798      14361       0.68      0.533      0.608      0.411\n",
      "\n",
      "      Epoch    GPU_mem   box_loss   cls_loss   dfl_loss  Instances       Size\n"
     ]
    },
    {
     "name": "stderr",
     "output_type": "stream",
     "text": [
      "     17/150      4.58G       1.19      1.322      1.291         21        640: 100%|██████████| 1663/1663 [05:27<00:00,  5.09it/s]\n",
      "                 Class     Images  Instances      Box(P          R      mAP50  mAP50-95): 100%|██████████| 238/238 [00:40<00:00,  5.86it/s]\n"
     ]
    },
    {
     "name": "stdout",
     "output_type": "stream",
     "text": [
      "                   all       3798      14361      0.673      0.563      0.624      0.426\n",
      "\n",
      "      Epoch    GPU_mem   box_loss   cls_loss   dfl_loss  Instances       Size\n"
     ]
    },
    {
     "name": "stderr",
     "output_type": "stream",
     "text": [
      "     18/150      4.57G      1.184      1.314      1.292         18        640: 100%|██████████| 1663/1663 [05:30<00:00,  5.04it/s]\n",
      "                 Class     Images  Instances      Box(P          R      mAP50  mAP50-95): 100%|██████████| 238/238 [00:42<00:00,  5.61it/s]\n"
     ]
    },
    {
     "name": "stdout",
     "output_type": "stream",
     "text": [
      "                   all       3798      14361      0.685      0.568      0.636      0.436\n",
      "\n",
      "      Epoch    GPU_mem   box_loss   cls_loss   dfl_loss  Instances       Size\n"
     ]
    },
    {
     "name": "stderr",
     "output_type": "stream",
     "text": [
      "     19/150      4.59G      1.175      1.302      1.282         11        640: 100%|██████████| 1663/1663 [05:39<00:00,  4.89it/s]\n",
      "                 Class     Images  Instances      Box(P          R      mAP50  mAP50-95): 100%|██████████| 238/238 [00:43<00:00,  5.45it/s]\n"
     ]
    },
    {
     "name": "stdout",
     "output_type": "stream",
     "text": [
      "                   all       3798      14361      0.693      0.564      0.637      0.439\n",
      "\n",
      "      Epoch    GPU_mem   box_loss   cls_loss   dfl_loss  Instances       Size\n"
     ]
    },
    {
     "name": "stderr",
     "output_type": "stream",
     "text": [
      "     20/150      4.54G      1.171      1.298      1.275         15        640: 100%|██████████| 1663/1663 [05:33<00:00,  4.99it/s]\n",
      "                 Class     Images  Instances      Box(P          R      mAP50  mAP50-95): 100%|██████████| 238/238 [00:43<00:00,  5.50it/s]\n"
     ]
    },
    {
     "name": "stdout",
     "output_type": "stream",
     "text": [
      "                   all       3798      14361      0.686      0.573      0.641      0.441\n",
      "\n",
      "      Epoch    GPU_mem   box_loss   cls_loss   dfl_loss  Instances       Size\n"
     ]
    },
    {
     "name": "stderr",
     "output_type": "stream",
     "text": [
      "     21/150       4.6G       1.16      1.271       1.27         19        640: 100%|██████████| 1663/1663 [05:43<00:00,  4.84it/s]\n",
      "                 Class     Images  Instances      Box(P          R      mAP50  mAP50-95): 100%|██████████| 238/238 [00:41<00:00,  5.67it/s]\n"
     ]
    },
    {
     "name": "stdout",
     "output_type": "stream",
     "text": [
      "                   all       3798      14361      0.703       0.58      0.649      0.447\n",
      "\n",
      "      Epoch    GPU_mem   box_loss   cls_loss   dfl_loss  Instances       Size\n"
     ]
    },
    {
     "name": "stderr",
     "output_type": "stream",
     "text": [
      "     22/150      4.57G      1.156      1.247      1.264         14        640: 100%|██████████| 1663/1663 [05:25<00:00,  5.12it/s]\n",
      "                 Class     Images  Instances      Box(P          R      mAP50  mAP50-95): 100%|██████████| 238/238 [00:40<00:00,  5.85it/s]\n"
     ]
    },
    {
     "name": "stdout",
     "output_type": "stream",
     "text": [
      "                   all       3798      14361       0.69      0.591      0.656      0.455\n",
      "\n",
      "      Epoch    GPU_mem   box_loss   cls_loss   dfl_loss  Instances       Size\n"
     ]
    },
    {
     "name": "stderr",
     "output_type": "stream",
     "text": [
      "     23/150      4.58G      1.146      1.241      1.258          7        640: 100%|██████████| 1663/1663 [05:21<00:00,  5.17it/s]\n",
      "                 Class     Images  Instances      Box(P          R      mAP50  mAP50-95): 100%|██████████| 238/238 [00:39<00:00,  5.99it/s]\n"
     ]
    },
    {
     "name": "stdout",
     "output_type": "stream",
     "text": [
      "                   all       3798      14361      0.704      0.584      0.658      0.459\n",
      "\n",
      "      Epoch    GPU_mem   box_loss   cls_loss   dfl_loss  Instances       Size\n"
     ]
    },
    {
     "name": "stderr",
     "output_type": "stream",
     "text": [
      "     24/150       4.6G      1.132      1.228      1.252         34        640: 100%|██████████| 1663/1663 [05:18<00:00,  5.22it/s]\n",
      "                 Class     Images  Instances      Box(P          R      mAP50  mAP50-95): 100%|██████████| 238/238 [00:40<00:00,  5.94it/s]\n"
     ]
    },
    {
     "name": "stdout",
     "output_type": "stream",
     "text": [
      "                   all       3798      14361      0.701      0.597      0.661      0.461\n",
      "\n",
      "      Epoch    GPU_mem   box_loss   cls_loss   dfl_loss  Instances       Size\n"
     ]
    },
    {
     "name": "stderr",
     "output_type": "stream",
     "text": [
      "     25/150      4.58G      1.135      1.221      1.255         23        640: 100%|██████████| 1663/1663 [05:08<00:00,  5.38it/s]\n",
      "                 Class     Images  Instances      Box(P          R      mAP50  mAP50-95): 100%|██████████| 238/238 [00:38<00:00,  6.17it/s]\n"
     ]
    },
    {
     "name": "stdout",
     "output_type": "stream",
     "text": [
      "                   all       3798      14361      0.716      0.593      0.666      0.463\n",
      "\n",
      "      Epoch    GPU_mem   box_loss   cls_loss   dfl_loss  Instances       Size\n"
     ]
    },
    {
     "name": "stderr",
     "output_type": "stream",
     "text": [
      "     26/150      4.58G      1.139      1.215      1.251         15        640: 100%|██████████| 1663/1663 [05:08<00:00,  5.40it/s]\n",
      "                 Class     Images  Instances      Box(P          R      mAP50  mAP50-95): 100%|██████████| 238/238 [00:38<00:00,  6.18it/s]\n"
     ]
    },
    {
     "name": "stdout",
     "output_type": "stream",
     "text": [
      "                   all       3798      14361      0.725      0.588      0.671      0.468\n",
      "\n",
      "      Epoch    GPU_mem   box_loss   cls_loss   dfl_loss  Instances       Size\n"
     ]
    },
    {
     "name": "stderr",
     "output_type": "stream",
     "text": [
      "     27/150      4.59G      1.124      1.215      1.242          9        640: 100%|██████████| 1663/1663 [05:07<00:00,  5.40it/s]\n",
      "                 Class     Images  Instances      Box(P          R      mAP50  mAP50-95): 100%|██████████| 238/238 [00:38<00:00,  6.18it/s]\n"
     ]
    },
    {
     "name": "stdout",
     "output_type": "stream",
     "text": [
      "                   all       3798      14361       0.72      0.597      0.675      0.474\n",
      "\n",
      "      Epoch    GPU_mem   box_loss   cls_loss   dfl_loss  Instances       Size\n"
     ]
    },
    {
     "name": "stderr",
     "output_type": "stream",
     "text": [
      "     28/150      4.54G       1.12      1.187      1.241         14        640: 100%|██████████| 1663/1663 [05:17<00:00,  5.23it/s]\n",
      "                 Class     Images  Instances      Box(P          R      mAP50  mAP50-95): 100%|██████████| 238/238 [00:40<00:00,  5.85it/s]\n"
     ]
    },
    {
     "name": "stdout",
     "output_type": "stream",
     "text": [
      "                   all       3798      14361      0.733      0.596      0.678      0.475\n",
      "\n",
      "      Epoch    GPU_mem   box_loss   cls_loss   dfl_loss  Instances       Size\n"
     ]
    },
    {
     "name": "stderr",
     "output_type": "stream",
     "text": [
      "     29/150      4.57G      1.113      1.182      1.239         18        640: 100%|██████████| 1663/1663 [05:25<00:00,  5.11it/s]\n",
      "                 Class     Images  Instances      Box(P          R      mAP50  mAP50-95): 100%|██████████| 238/238 [00:40<00:00,  5.86it/s]\n"
     ]
    },
    {
     "name": "stdout",
     "output_type": "stream",
     "text": [
      "                   all       3798      14361      0.721      0.604      0.684      0.479\n",
      "\n",
      "      Epoch    GPU_mem   box_loss   cls_loss   dfl_loss  Instances       Size\n"
     ]
    },
    {
     "name": "stderr",
     "output_type": "stream",
     "text": [
      "     30/150      4.58G      1.114       1.17      1.233         12        640: 100%|██████████| 1663/1663 [05:26<00:00,  5.09it/s]\n",
      "                 Class     Images  Instances      Box(P          R      mAP50  mAP50-95): 100%|██████████| 238/238 [00:40<00:00,  5.82it/s]\n"
     ]
    },
    {
     "name": "stdout",
     "output_type": "stream",
     "text": [
      "                   all       3798      14361      0.719      0.612      0.684      0.483\n",
      "\n",
      "      Epoch    GPU_mem   box_loss   cls_loss   dfl_loss  Instances       Size\n"
     ]
    },
    {
     "name": "stderr",
     "output_type": "stream",
     "text": [
      "     31/150      4.59G      1.104      1.165      1.228         28        640: 100%|██████████| 1663/1663 [05:25<00:00,  5.10it/s]\n",
      "                 Class     Images  Instances      Box(P          R      mAP50  mAP50-95): 100%|██████████| 238/238 [00:40<00:00,  5.88it/s]\n"
     ]
    },
    {
     "name": "stdout",
     "output_type": "stream",
     "text": [
      "                   all       3798      14361      0.728      0.609      0.687      0.486\n",
      "\n",
      "      Epoch    GPU_mem   box_loss   cls_loss   dfl_loss  Instances       Size\n"
     ]
    },
    {
     "name": "stderr",
     "output_type": "stream",
     "text": [
      "     32/150      4.58G      1.098      1.157      1.226         16        640: 100%|██████████| 1663/1663 [05:24<00:00,  5.13it/s]\n",
      "                 Class     Images  Instances      Box(P          R      mAP50  mAP50-95): 100%|██████████| 238/238 [00:39<00:00,  6.04it/s]\n"
     ]
    },
    {
     "name": "stdout",
     "output_type": "stream",
     "text": [
      "                   all       3798      14361       0.73      0.612      0.689      0.484\n",
      "\n",
      "      Epoch    GPU_mem   box_loss   cls_loss   dfl_loss  Instances       Size\n"
     ]
    },
    {
     "name": "stderr",
     "output_type": "stream",
     "text": [
      "     33/150      4.57G      1.094      1.151      1.221         15        640: 100%|██████████| 1663/1663 [05:15<00:00,  5.28it/s]\n",
      "                 Class     Images  Instances      Box(P          R      mAP50  mAP50-95): 100%|██████████| 238/238 [00:39<00:00,  6.03it/s]\n"
     ]
    },
    {
     "name": "stdout",
     "output_type": "stream",
     "text": [
      "                   all       3798      14361      0.736      0.606      0.692       0.49\n",
      "\n",
      "      Epoch    GPU_mem   box_loss   cls_loss   dfl_loss  Instances       Size\n"
     ]
    },
    {
     "name": "stderr",
     "output_type": "stream",
     "text": [
      "     34/150      4.57G      1.091      1.148      1.221          7        640: 100%|██████████| 1663/1663 [05:19<00:00,  5.20it/s]\n",
      "                 Class     Images  Instances      Box(P          R      mAP50  mAP50-95): 100%|██████████| 238/238 [00:40<00:00,  5.91it/s]\n"
     ]
    },
    {
     "name": "stdout",
     "output_type": "stream",
     "text": [
      "                   all       3798      14361      0.733      0.614      0.694      0.493\n",
      "\n",
      "      Epoch    GPU_mem   box_loss   cls_loss   dfl_loss  Instances       Size\n"
     ]
    },
    {
     "name": "stderr",
     "output_type": "stream",
     "text": [
      "     35/150      4.58G      1.088      1.127      1.213         15        640: 100%|██████████| 1663/1663 [05:28<00:00,  5.06it/s]\n",
      "                 Class     Images  Instances      Box(P          R      mAP50  mAP50-95): 100%|██████████| 238/238 [00:42<00:00,  5.65it/s]\n"
     ]
    },
    {
     "name": "stdout",
     "output_type": "stream",
     "text": [
      "                   all       3798      14361      0.734      0.618      0.698      0.495\n",
      "\n",
      "      Epoch    GPU_mem   box_loss   cls_loss   dfl_loss  Instances       Size\n"
     ]
    },
    {
     "name": "stderr",
     "output_type": "stream",
     "text": [
      "     36/150      4.55G      1.085      1.123      1.213         34        640: 100%|██████████| 1663/1663 [05:32<00:00,  5.01it/s]\n",
      "                 Class     Images  Instances      Box(P          R      mAP50  mAP50-95): 100%|██████████| 238/238 [00:42<00:00,  5.64it/s]\n"
     ]
    },
    {
     "name": "stdout",
     "output_type": "stream",
     "text": [
      "                   all       3798      14361      0.747      0.611      0.699      0.496\n",
      "\n",
      "      Epoch    GPU_mem   box_loss   cls_loss   dfl_loss  Instances       Size\n"
     ]
    },
    {
     "name": "stderr",
     "output_type": "stream",
     "text": [
      "     37/150      4.56G      1.082      1.108      1.216         12        640: 100%|██████████| 1663/1663 [05:38<00:00,  4.91it/s]\n",
      "                 Class     Images  Instances      Box(P          R      mAP50  mAP50-95): 100%|██████████| 238/238 [00:42<00:00,  5.63it/s]\n"
     ]
    },
    {
     "name": "stdout",
     "output_type": "stream",
     "text": [
      "                   all       3798      14361      0.745      0.622      0.701      0.497\n",
      "\n",
      "      Epoch    GPU_mem   box_loss   cls_loss   dfl_loss  Instances       Size\n"
     ]
    },
    {
     "name": "stderr",
     "output_type": "stream",
     "text": [
      "     38/150      4.57G      1.076      1.116      1.214         29        640: 100%|██████████| 1663/1663 [05:26<00:00,  5.09it/s]\n",
      "                 Class     Images  Instances      Box(P          R      mAP50  mAP50-95): 100%|██████████| 238/238 [00:40<00:00,  5.95it/s]\n"
     ]
    },
    {
     "name": "stdout",
     "output_type": "stream",
     "text": [
      "                   all       3798      14361      0.749      0.621      0.703        0.5\n",
      "\n",
      "      Epoch    GPU_mem   box_loss   cls_loss   dfl_loss  Instances       Size\n"
     ]
    },
    {
     "name": "stderr",
     "output_type": "stream",
     "text": [
      "     39/150      4.58G      1.075      1.099      1.207         21        640: 100%|██████████| 1663/1663 [05:22<00:00,  5.15it/s]\n",
      "                 Class     Images  Instances      Box(P          R      mAP50  mAP50-95): 100%|██████████| 238/238 [00:40<00:00,  5.95it/s]\n"
     ]
    },
    {
     "name": "stdout",
     "output_type": "stream",
     "text": [
      "                   all       3798      14361      0.745       0.62      0.706      0.503\n",
      "\n",
      "      Epoch    GPU_mem   box_loss   cls_loss   dfl_loss  Instances       Size\n"
     ]
    },
    {
     "name": "stderr",
     "output_type": "stream",
     "text": [
      "     40/150      4.58G      1.066      1.094      1.208         24        640: 100%|██████████| 1663/1663 [05:22<00:00,  5.16it/s]\n",
      "                 Class     Images  Instances      Box(P          R      mAP50  mAP50-95): 100%|██████████| 238/238 [00:40<00:00,  5.90it/s]\n"
     ]
    },
    {
     "name": "stdout",
     "output_type": "stream",
     "text": [
      "                   all       3798      14361      0.748      0.625      0.708      0.504\n",
      "\n",
      "      Epoch    GPU_mem   box_loss   cls_loss   dfl_loss  Instances       Size\n"
     ]
    },
    {
     "name": "stderr",
     "output_type": "stream",
     "text": [
      "     41/150      4.58G      1.075      1.099      1.207          7        640: 100%|██████████| 1663/1663 [05:22<00:00,  5.15it/s]\n",
      "                 Class     Images  Instances      Box(P          R      mAP50  mAP50-95): 100%|██████████| 238/238 [00:39<00:00,  5.96it/s]\n"
     ]
    },
    {
     "name": "stdout",
     "output_type": "stream",
     "text": [
      "                   all       3798      14361      0.743      0.627      0.707      0.505\n",
      "\n",
      "      Epoch    GPU_mem   box_loss   cls_loss   dfl_loss  Instances       Size\n"
     ]
    },
    {
     "name": "stderr",
     "output_type": "stream",
     "text": [
      "     42/150      4.57G      1.056       1.08      1.195         28        640: 100%|██████████| 1663/1663 [05:23<00:00,  5.15it/s]\n",
      "                 Class     Images  Instances      Box(P          R      mAP50  mAP50-95): 100%|██████████| 238/238 [00:39<00:00,  5.96it/s]\n"
     ]
    },
    {
     "name": "stdout",
     "output_type": "stream",
     "text": [
      "                   all       3798      14361      0.746      0.626      0.711      0.508\n",
      "\n",
      "      Epoch    GPU_mem   box_loss   cls_loss   dfl_loss  Instances       Size\n"
     ]
    },
    {
     "name": "stderr",
     "output_type": "stream",
     "text": [
      "     43/150      4.58G      1.063      1.078      1.197         18        640: 100%|██████████| 1663/1663 [05:22<00:00,  5.16it/s]\n",
      "                 Class     Images  Instances      Box(P          R      mAP50  mAP50-95): 100%|██████████| 238/238 [00:40<00:00,  5.90it/s]\n"
     ]
    },
    {
     "name": "stdout",
     "output_type": "stream",
     "text": [
      "                   all       3798      14361      0.751      0.629      0.713       0.51\n",
      "\n",
      "      Epoch    GPU_mem   box_loss   cls_loss   dfl_loss  Instances       Size\n"
     ]
    },
    {
     "name": "stderr",
     "output_type": "stream",
     "text": [
      "     44/150      4.53G      1.053      1.065      1.194         17        640: 100%|██████████| 1663/1663 [05:22<00:00,  5.16it/s]\n",
      "                 Class     Images  Instances      Box(P          R      mAP50  mAP50-95): 100%|██████████| 238/238 [00:40<00:00,  5.89it/s]\n"
     ]
    },
    {
     "name": "stdout",
     "output_type": "stream",
     "text": [
      "                   all       3798      14361      0.762      0.619      0.713      0.513\n",
      "\n",
      "      Epoch    GPU_mem   box_loss   cls_loss   dfl_loss  Instances       Size\n"
     ]
    },
    {
     "name": "stderr",
     "output_type": "stream",
     "text": [
      "     45/150      4.58G      1.057      1.068      1.196         28        640: 100%|██████████| 1663/1663 [05:22<00:00,  5.16it/s]\n",
      "                 Class     Images  Instances      Box(P          R      mAP50  mAP50-95): 100%|██████████| 238/238 [00:39<00:00,  5.96it/s]\n"
     ]
    },
    {
     "name": "stdout",
     "output_type": "stream",
     "text": [
      "                   all       3798      14361      0.758       0.63      0.715      0.513\n",
      "\n",
      "      Epoch    GPU_mem   box_loss   cls_loss   dfl_loss  Instances       Size\n"
     ]
    },
    {
     "name": "stderr",
     "output_type": "stream",
     "text": [
      "     46/150      4.57G      1.046       1.06      1.192         12        640: 100%|██████████| 1663/1663 [05:21<00:00,  5.17it/s]\n",
      "                 Class     Images  Instances      Box(P          R      mAP50  mAP50-95): 100%|██████████| 238/238 [00:40<00:00,  5.91it/s]\n"
     ]
    },
    {
     "name": "stdout",
     "output_type": "stream",
     "text": [
      "                   all       3798      14361      0.755      0.631      0.716      0.515\n",
      "\n",
      "      Epoch    GPU_mem   box_loss   cls_loss   dfl_loss  Instances       Size\n"
     ]
    },
    {
     "name": "stderr",
     "output_type": "stream",
     "text": [
      "     47/150      4.58G      1.047      1.056      1.191         26        640: 100%|██████████| 1663/1663 [05:20<00:00,  5.18it/s]\n",
      "                 Class     Images  Instances      Box(P          R      mAP50  mAP50-95): 100%|██████████| 238/238 [00:39<00:00,  5.96it/s]\n"
     ]
    },
    {
     "name": "stdout",
     "output_type": "stream",
     "text": [
      "                   all       3798      14361      0.768      0.632      0.718      0.515\n",
      "\n",
      "      Epoch    GPU_mem   box_loss   cls_loss   dfl_loss  Instances       Size\n"
     ]
    },
    {
     "name": "stderr",
     "output_type": "stream",
     "text": [
      "     48/150      4.56G      1.043      1.049       1.19         23        640: 100%|██████████| 1663/1663 [05:23<00:00,  5.14it/s]\n",
      "                 Class     Images  Instances      Box(P          R      mAP50  mAP50-95): 100%|██████████| 238/238 [00:40<00:00,  5.92it/s]\n"
     ]
    },
    {
     "name": "stdout",
     "output_type": "stream",
     "text": [
      "                   all       3798      14361      0.766      0.633       0.72      0.519\n",
      "\n",
      "      Epoch    GPU_mem   box_loss   cls_loss   dfl_loss  Instances       Size\n"
     ]
    },
    {
     "name": "stderr",
     "output_type": "stream",
     "text": [
      "     49/150      4.57G      1.038      1.035      1.183         16        640: 100%|██████████| 1663/1663 [05:22<00:00,  5.15it/s]\n",
      "                 Class     Images  Instances      Box(P          R      mAP50  mAP50-95): 100%|██████████| 238/238 [00:40<00:00,  5.95it/s]\n"
     ]
    },
    {
     "name": "stdout",
     "output_type": "stream",
     "text": [
      "                   all       3798      14361      0.757      0.641      0.722      0.518\n",
      "\n",
      "      Epoch    GPU_mem   box_loss   cls_loss   dfl_loss  Instances       Size\n"
     ]
    },
    {
     "name": "stderr",
     "output_type": "stream",
     "text": [
      "     50/150      4.57G      1.041      1.036      1.185         64        640: 100%|██████████| 1663/1663 [05:22<00:00,  5.16it/s]\n",
      "                 Class     Images  Instances      Box(P          R      mAP50  mAP50-95): 100%|██████████| 238/238 [00:40<00:00,  5.92it/s]\n"
     ]
    },
    {
     "name": "stdout",
     "output_type": "stream",
     "text": [
      "                   all       3798      14361      0.768       0.63      0.721      0.517\n",
      "\n",
      "      Epoch    GPU_mem   box_loss   cls_loss   dfl_loss  Instances       Size\n"
     ]
    },
    {
     "name": "stderr",
     "output_type": "stream",
     "text": [
      "     51/150      4.57G      1.032      1.032      1.184         22        640: 100%|██████████| 1663/1663 [05:23<00:00,  5.14it/s]\n",
      "                 Class     Images  Instances      Box(P          R      mAP50  mAP50-95): 100%|██████████| 238/238 [00:40<00:00,  5.92it/s]\n"
     ]
    },
    {
     "name": "stdout",
     "output_type": "stream",
     "text": [
      "                   all       3798      14361      0.768      0.635      0.723       0.52\n",
      "\n",
      "      Epoch    GPU_mem   box_loss   cls_loss   dfl_loss  Instances       Size\n"
     ]
    },
    {
     "name": "stderr",
     "output_type": "stream",
     "text": [
      "     52/150      4.55G       1.03      1.016      1.175         14        640: 100%|██████████| 1663/1663 [05:22<00:00,  5.15it/s]\n",
      "                 Class     Images  Instances      Box(P          R      mAP50  mAP50-95): 100%|██████████| 238/238 [00:39<00:00,  5.96it/s]\n"
     ]
    },
    {
     "name": "stdout",
     "output_type": "stream",
     "text": [
      "                   all       3798      14361      0.768      0.637      0.726      0.522\n",
      "\n",
      "      Epoch    GPU_mem   box_loss   cls_loss   dfl_loss  Instances       Size\n"
     ]
    },
    {
     "name": "stderr",
     "output_type": "stream",
     "text": [
      "     53/150      4.58G      1.028      1.017      1.174         23        640: 100%|██████████| 1663/1663 [05:22<00:00,  5.16it/s]\n",
      "                 Class     Images  Instances      Box(P          R      mAP50  mAP50-95): 100%|██████████| 238/238 [00:40<00:00,  5.92it/s]\n"
     ]
    },
    {
     "name": "stdout",
     "output_type": "stream",
     "text": [
      "                   all       3798      14361       0.77      0.636      0.726      0.524\n",
      "\n",
      "      Epoch    GPU_mem   box_loss   cls_loss   dfl_loss  Instances       Size\n"
     ]
    },
    {
     "name": "stderr",
     "output_type": "stream",
     "text": [
      "     54/150      4.59G      1.032      1.016      1.176         23        640: 100%|██████████| 1663/1663 [05:22<00:00,  5.16it/s]\n",
      "                 Class     Images  Instances      Box(P          R      mAP50  mAP50-95): 100%|██████████| 238/238 [00:39<00:00,  5.96it/s]\n"
     ]
    },
    {
     "name": "stdout",
     "output_type": "stream",
     "text": [
      "                   all       3798      14361      0.754      0.644      0.726      0.524\n",
      "\n",
      "      Epoch    GPU_mem   box_loss   cls_loss   dfl_loss  Instances       Size\n"
     ]
    },
    {
     "name": "stderr",
     "output_type": "stream",
     "text": [
      "     55/150      4.58G      1.022      1.006      1.174          9        640: 100%|██████████| 1663/1663 [05:21<00:00,  5.18it/s]\n",
      "                 Class     Images  Instances      Box(P          R      mAP50  mAP50-95): 100%|██████████| 238/238 [00:39<00:00,  5.97it/s]\n"
     ]
    },
    {
     "name": "stdout",
     "output_type": "stream",
     "text": [
      "                   all       3798      14361      0.752      0.647      0.728      0.524\n",
      "\n",
      "      Epoch    GPU_mem   box_loss   cls_loss   dfl_loss  Instances       Size\n"
     ]
    },
    {
     "name": "stderr",
     "output_type": "stream",
     "text": [
      "     56/150      4.58G       1.02      1.002       1.17         30        640: 100%|██████████| 1663/1663 [05:23<00:00,  5.15it/s]\n",
      "                 Class     Images  Instances      Box(P          R      mAP50  mAP50-95): 100%|██████████| 238/238 [00:40<00:00,  5.92it/s]\n"
     ]
    },
    {
     "name": "stdout",
     "output_type": "stream",
     "text": [
      "                   all       3798      14361      0.767      0.639      0.727      0.524\n",
      "\n",
      "      Epoch    GPU_mem   box_loss   cls_loss   dfl_loss  Instances       Size\n"
     ]
    },
    {
     "name": "stderr",
     "output_type": "stream",
     "text": [
      "     57/150      4.58G      1.025     0.9972      1.171         20        640: 100%|██████████| 1663/1663 [05:21<00:00,  5.17it/s]\n",
      "                 Class     Images  Instances      Box(P          R      mAP50  mAP50-95): 100%|██████████| 238/238 [00:39<00:00,  5.96it/s]\n"
     ]
    },
    {
     "name": "stdout",
     "output_type": "stream",
     "text": [
      "                   all       3798      14361      0.755      0.643      0.727      0.525\n",
      "\n",
      "      Epoch    GPU_mem   box_loss   cls_loss   dfl_loss  Instances       Size\n"
     ]
    },
    {
     "name": "stderr",
     "output_type": "stream",
     "text": [
      "     58/150      4.57G      1.021     0.9936      1.168         15        640: 100%|██████████| 1663/1663 [05:21<00:00,  5.18it/s]\n",
      "                 Class     Images  Instances      Box(P          R      mAP50  mAP50-95): 100%|██████████| 238/238 [00:39<00:00,  5.97it/s]\n"
     ]
    },
    {
     "name": "stdout",
     "output_type": "stream",
     "text": [
      "                   all       3798      14361      0.754      0.644      0.726      0.525\n",
      "\n",
      "      Epoch    GPU_mem   box_loss   cls_loss   dfl_loss  Instances       Size\n"
     ]
    },
    {
     "name": "stderr",
     "output_type": "stream",
     "text": [
      "     59/150      4.58G      1.017     0.9855      1.166         29        640: 100%|██████████| 1663/1663 [05:21<00:00,  5.17it/s]\n",
      "                 Class     Images  Instances      Box(P          R      mAP50  mAP50-95): 100%|██████████| 238/238 [00:40<00:00,  5.92it/s]\n"
     ]
    },
    {
     "name": "stdout",
     "output_type": "stream",
     "text": [
      "                   all       3798      14361      0.752      0.645      0.727      0.525\n",
      "\n",
      "      Epoch    GPU_mem   box_loss   cls_loss   dfl_loss  Instances       Size\n"
     ]
    },
    {
     "name": "stderr",
     "output_type": "stream",
     "text": [
      "     60/150      4.54G      1.013       0.98      1.162         18        640: 100%|██████████| 1663/1663 [05:21<00:00,  5.17it/s]\n",
      "                 Class     Images  Instances      Box(P          R      mAP50  mAP50-95): 100%|██████████| 238/238 [00:40<00:00,  5.92it/s]\n"
     ]
    },
    {
     "name": "stdout",
     "output_type": "stream",
     "text": [
      "                   all       3798      14361      0.762      0.641      0.729      0.525\n",
      "\n",
      "      Epoch    GPU_mem   box_loss   cls_loss   dfl_loss  Instances       Size\n"
     ]
    },
    {
     "name": "stderr",
     "output_type": "stream",
     "text": [
      "     61/150      4.59G       1.01     0.9744      1.159         33        640: 100%|██████████| 1663/1663 [05:22<00:00,  5.16it/s]\n",
      "                 Class     Images  Instances      Box(P          R      mAP50  mAP50-95): 100%|██████████| 238/238 [00:40<00:00,  5.92it/s]\n"
     ]
    },
    {
     "name": "stdout",
     "output_type": "stream",
     "text": [
      "                   all       3798      14361      0.759      0.647       0.73      0.526\n",
      "\n",
      "      Epoch    GPU_mem   box_loss   cls_loss   dfl_loss  Instances       Size\n"
     ]
    },
    {
     "name": "stderr",
     "output_type": "stream",
     "text": [
      "     62/150      4.58G      1.005     0.9681       1.16         10        640: 100%|██████████| 1663/1663 [05:23<00:00,  5.14it/s]\n",
      "                 Class     Images  Instances      Box(P          R      mAP50  mAP50-95): 100%|██████████| 238/238 [00:40<00:00,  5.92it/s]\n"
     ]
    },
    {
     "name": "stdout",
     "output_type": "stream",
     "text": [
      "                   all       3798      14361      0.762      0.646      0.731      0.527\n",
      "\n",
      "      Epoch    GPU_mem   box_loss   cls_loss   dfl_loss  Instances       Size\n"
     ]
    },
    {
     "name": "stderr",
     "output_type": "stream",
     "text": [
      "     63/150      4.57G      1.004     0.9567      1.156         11        640: 100%|██████████| 1663/1663 [05:23<00:00,  5.15it/s]\n",
      "                 Class     Images  Instances      Box(P          R      mAP50  mAP50-95): 100%|██████████| 238/238 [00:39<00:00,  5.96it/s]\n"
     ]
    },
    {
     "name": "stdout",
     "output_type": "stream",
     "text": [
      "                   all       3798      14361       0.77      0.641      0.731      0.527\n",
      "\n",
      "      Epoch    GPU_mem   box_loss   cls_loss   dfl_loss  Instances       Size\n"
     ]
    },
    {
     "name": "stderr",
     "output_type": "stream",
     "text": [
      "     64/150      4.59G      1.001     0.9587      1.157         28        640: 100%|██████████| 1663/1663 [05:21<00:00,  5.17it/s]\n",
      "                 Class     Images  Instances      Box(P          R      mAP50  mAP50-95): 100%|██████████| 238/238 [00:39<00:00,  5.97it/s]\n"
     ]
    },
    {
     "name": "stdout",
     "output_type": "stream",
     "text": [
      "                   all       3798      14361      0.768      0.643      0.731      0.528\n",
      "\n",
      "      Epoch    GPU_mem   box_loss   cls_loss   dfl_loss  Instances       Size\n"
     ]
    },
    {
     "name": "stderr",
     "output_type": "stream",
     "text": [
      "     65/150      4.57G     0.9996     0.9596      1.151         27        640: 100%|██████████| 1663/1663 [05:21<00:00,  5.17it/s]\n",
      "                 Class     Images  Instances      Box(P          R      mAP50  mAP50-95): 100%|██████████| 238/238 [00:40<00:00,  5.92it/s]\n"
     ]
    },
    {
     "name": "stdout",
     "output_type": "stream",
     "text": [
      "                   all       3798      14361      0.766      0.645      0.731      0.529\n",
      "\n",
      "      Epoch    GPU_mem   box_loss   cls_loss   dfl_loss  Instances       Size\n"
     ]
    },
    {
     "name": "stderr",
     "output_type": "stream",
     "text": [
      "     66/150      4.59G     0.9908     0.9484       1.15         17        640: 100%|██████████| 1663/1663 [05:21<00:00,  5.17it/s]\n",
      "                 Class     Images  Instances      Box(P          R      mAP50  mAP50-95): 100%|██████████| 238/238 [00:40<00:00,  5.93it/s]\n"
     ]
    },
    {
     "name": "stdout",
     "output_type": "stream",
     "text": [
      "                   all       3798      14361      0.769      0.643      0.731      0.529\n",
      "\n",
      "      Epoch    GPU_mem   box_loss   cls_loss   dfl_loss  Instances       Size\n"
     ]
    },
    {
     "name": "stderr",
     "output_type": "stream",
     "text": [
      "     67/150      4.59G     0.9888     0.9444      1.147         24        640: 100%|██████████| 1663/1663 [05:21<00:00,  5.17it/s]\n",
      "                 Class     Images  Instances      Box(P          R      mAP50  mAP50-95): 100%|██████████| 238/238 [00:39<00:00,  5.96it/s]\n"
     ]
    },
    {
     "name": "stdout",
     "output_type": "stream",
     "text": [
      "                   all       3798      14361       0.77      0.642      0.731      0.529\n",
      "\n",
      "      Epoch    GPU_mem   box_loss   cls_loss   dfl_loss  Instances       Size\n"
     ]
    },
    {
     "name": "stderr",
     "output_type": "stream",
     "text": [
      "     68/150      4.54G     0.9844     0.9349      1.146         38        640: 100%|██████████| 1663/1663 [05:22<00:00,  5.16it/s]\n",
      "                 Class     Images  Instances      Box(P          R      mAP50  mAP50-95): 100%|██████████| 238/238 [00:40<00:00,  5.92it/s]\n"
     ]
    },
    {
     "name": "stdout",
     "output_type": "stream",
     "text": [
      "                   all       3798      14361      0.772      0.641      0.732       0.53\n",
      "\n",
      "      Epoch    GPU_mem   box_loss   cls_loss   dfl_loss  Instances       Size\n"
     ]
    },
    {
     "name": "stderr",
     "output_type": "stream",
     "text": [
      "     69/150      4.58G      0.987     0.9328      1.145         32        640: 100%|██████████| 1663/1663 [05:22<00:00,  5.16it/s]\n",
      "                 Class     Images  Instances      Box(P          R      mAP50  mAP50-95): 100%|██████████| 238/238 [00:39<00:00,  5.96it/s]\n"
     ]
    },
    {
     "name": "stdout",
     "output_type": "stream",
     "text": [
      "                   all       3798      14361      0.774      0.643      0.732       0.53\n",
      "\n",
      "      Epoch    GPU_mem   box_loss   cls_loss   dfl_loss  Instances       Size\n"
     ]
    },
    {
     "name": "stderr",
     "output_type": "stream",
     "text": [
      "     70/150      4.57G     0.9835     0.9253      1.144          8        640: 100%|██████████| 1663/1663 [05:21<00:00,  5.17it/s]\n",
      "                 Class     Images  Instances      Box(P          R      mAP50  mAP50-95): 100%|██████████| 238/238 [00:39<00:00,  5.96it/s]\n"
     ]
    },
    {
     "name": "stdout",
     "output_type": "stream",
     "text": [
      "                   all       3798      14361      0.774      0.644      0.733      0.531\n",
      "\n",
      "      Epoch    GPU_mem   box_loss   cls_loss   dfl_loss  Instances       Size\n"
     ]
    },
    {
     "name": "stderr",
     "output_type": "stream",
     "text": [
      "     71/150      4.58G      0.977     0.9218      1.139         22        640: 100%|██████████| 1663/1663 [05:22<00:00,  5.16it/s]\n",
      "                 Class     Images  Instances      Box(P          R      mAP50  mAP50-95): 100%|██████████| 238/238 [00:40<00:00,  5.92it/s]\n"
     ]
    },
    {
     "name": "stdout",
     "output_type": "stream",
     "text": [
      "                   all       3798      14361      0.776      0.642      0.734      0.532\n",
      "\n",
      "      Epoch    GPU_mem   box_loss   cls_loss   dfl_loss  Instances       Size\n"
     ]
    },
    {
     "name": "stderr",
     "output_type": "stream",
     "text": [
      "     72/150      4.59G     0.9763     0.9124      1.142         17        640: 100%|██████████| 1663/1663 [05:21<00:00,  5.16it/s]\n",
      "                 Class     Images  Instances      Box(P          R      mAP50  mAP50-95): 100%|██████████| 238/238 [00:40<00:00,  5.93it/s]\n"
     ]
    },
    {
     "name": "stdout",
     "output_type": "stream",
     "text": [
      "                   all       3798      14361      0.779      0.641      0.735      0.532\n",
      "\n",
      "      Epoch    GPU_mem   box_loss   cls_loss   dfl_loss  Instances       Size\n"
     ]
    },
    {
     "name": "stderr",
     "output_type": "stream",
     "text": [
      "     73/150      4.57G     0.9724     0.9121      1.135         16        640: 100%|██████████| 1663/1663 [05:21<00:00,  5.17it/s]\n",
      "                 Class     Images  Instances      Box(P          R      mAP50  mAP50-95): 100%|██████████| 238/238 [00:40<00:00,  5.93it/s]\n"
     ]
    },
    {
     "name": "stdout",
     "output_type": "stream",
     "text": [
      "                   all       3798      14361      0.774      0.645      0.734      0.532\n",
      "\n",
      "      Epoch    GPU_mem   box_loss   cls_loss   dfl_loss  Instances       Size\n"
     ]
    },
    {
     "name": "stderr",
     "output_type": "stream",
     "text": [
      "     74/150      4.57G     0.9725     0.9152      1.138         25        640: 100%|██████████| 1663/1663 [05:23<00:00,  5.14it/s]\n",
      "                 Class     Images  Instances      Box(P          R      mAP50  mAP50-95): 100%|██████████| 238/238 [00:39<00:00,  5.97it/s]\n"
     ]
    },
    {
     "name": "stdout",
     "output_type": "stream",
     "text": [
      "                   all       3798      14361       0.77      0.647      0.735      0.533\n",
      "\n",
      "      Epoch    GPU_mem   box_loss   cls_loss   dfl_loss  Instances       Size\n"
     ]
    },
    {
     "name": "stderr",
     "output_type": "stream",
     "text": [
      "     75/150      4.59G     0.9699     0.9067      1.136         19        640: 100%|██████████| 1663/1663 [05:22<00:00,  5.16it/s]\n",
      "                 Class     Images  Instances      Box(P          R      mAP50  mAP50-95): 100%|██████████| 238/238 [00:40<00:00,  5.92it/s]\n"
     ]
    },
    {
     "name": "stdout",
     "output_type": "stream",
     "text": [
      "                   all       3798      14361      0.771      0.649      0.736      0.533\n",
      "\n",
      "      Epoch    GPU_mem   box_loss   cls_loss   dfl_loss  Instances       Size\n"
     ]
    },
    {
     "name": "stderr",
     "output_type": "stream",
     "text": [
      "     76/150      4.53G     0.9662     0.8943      1.133         13        640: 100%|██████████| 1663/1663 [05:22<00:00,  5.16it/s]\n",
      "                 Class     Images  Instances      Box(P          R      mAP50  mAP50-95): 100%|██████████| 238/238 [00:39<00:00,  5.96it/s]\n"
     ]
    },
    {
     "name": "stdout",
     "output_type": "stream",
     "text": [
      "                   all       3798      14361      0.769      0.651      0.736      0.533\n",
      "\n",
      "      Epoch    GPU_mem   box_loss   cls_loss   dfl_loss  Instances       Size\n"
     ]
    },
    {
     "name": "stderr",
     "output_type": "stream",
     "text": [
      "     77/150      4.58G     0.9613      0.887      1.133         10        640: 100%|██████████| 1663/1663 [05:22<00:00,  5.15it/s]\n",
      "                 Class     Images  Instances      Box(P          R      mAP50  mAP50-95): 100%|██████████| 238/238 [00:39<00:00,  5.97it/s]\n"
     ]
    },
    {
     "name": "stdout",
     "output_type": "stream",
     "text": [
      "                   all       3798      14361      0.762      0.654      0.736      0.533\n",
      "\n",
      "      Epoch    GPU_mem   box_loss   cls_loss   dfl_loss  Instances       Size\n"
     ]
    },
    {
     "name": "stderr",
     "output_type": "stream",
     "text": [
      "     78/150      4.58G     0.9669     0.8898      1.131         38        640: 100%|██████████| 1663/1663 [05:22<00:00,  5.16it/s]\n",
      "                 Class     Images  Instances      Box(P          R      mAP50  mAP50-95): 100%|██████████| 238/238 [00:40<00:00,  5.92it/s]\n"
     ]
    },
    {
     "name": "stdout",
     "output_type": "stream",
     "text": [
      "                   all       3798      14361      0.762      0.656      0.736      0.533\n",
      "\n",
      "      Epoch    GPU_mem   box_loss   cls_loss   dfl_loss  Instances       Size\n"
     ]
    },
    {
     "name": "stderr",
     "output_type": "stream",
     "text": [
      "     79/150      4.58G     0.9558     0.8836      1.128         42        640: 100%|██████████| 1663/1663 [05:24<00:00,  5.12it/s]\n",
      "                 Class     Images  Instances      Box(P          R      mAP50  mAP50-95): 100%|██████████| 238/238 [00:40<00:00,  5.91it/s]\n"
     ]
    },
    {
     "name": "stdout",
     "output_type": "stream",
     "text": [
      "                   all       3798      14361      0.761      0.658      0.737      0.533\n",
      "\n",
      "      Epoch    GPU_mem   box_loss   cls_loss   dfl_loss  Instances       Size\n"
     ]
    },
    {
     "name": "stderr",
     "output_type": "stream",
     "text": [
      "     80/150      4.58G     0.9559     0.8728      1.121         27        640: 100%|██████████| 1663/1663 [05:36<00:00,  4.94it/s]\n",
      "                 Class     Images  Instances      Box(P          R      mAP50  mAP50-95): 100%|██████████| 238/238 [00:42<00:00,  5.60it/s]\n"
     ]
    },
    {
     "name": "stdout",
     "output_type": "stream",
     "text": [
      "                   all       3798      14361      0.762      0.657      0.737      0.534\n",
      "\n",
      "      Epoch    GPU_mem   box_loss   cls_loss   dfl_loss  Instances       Size\n"
     ]
    },
    {
     "name": "stderr",
     "output_type": "stream",
     "text": [
      "     81/150      4.56G     0.9541     0.8736      1.122         18        640: 100%|██████████| 1663/1663 [05:40<00:00,  4.88it/s]\n",
      "                 Class     Images  Instances      Box(P          R      mAP50  mAP50-95): 100%|██████████| 238/238 [00:42<00:00,  5.63it/s]\n"
     ]
    },
    {
     "name": "stdout",
     "output_type": "stream",
     "text": [
      "                   all       3798      14361      0.762      0.657      0.737      0.534\n",
      "\n",
      "      Epoch    GPU_mem   box_loss   cls_loss   dfl_loss  Instances       Size\n"
     ]
    },
    {
     "name": "stderr",
     "output_type": "stream",
     "text": [
      "     82/150      4.55G     0.9544     0.8693      1.124         20        640: 100%|██████████| 1663/1663 [05:36<00:00,  4.94it/s]\n",
      "                 Class     Images  Instances      Box(P          R      mAP50  mAP50-95): 100%|██████████| 238/238 [00:41<00:00,  5.76it/s]\n"
     ]
    },
    {
     "name": "stdout",
     "output_type": "stream",
     "text": [
      "                   all       3798      14361      0.762      0.658      0.737      0.534\n",
      "\n",
      "      Epoch    GPU_mem   box_loss   cls_loss   dfl_loss  Instances       Size\n"
     ]
    },
    {
     "name": "stderr",
     "output_type": "stream",
     "text": [
      "     83/150      4.57G     0.9455     0.8628      1.121         21        640: 100%|██████████| 1663/1663 [05:35<00:00,  4.96it/s]\n",
      "                 Class     Images  Instances      Box(P          R      mAP50  mAP50-95): 100%|██████████| 238/238 [00:41<00:00,  5.76it/s]\n"
     ]
    },
    {
     "name": "stdout",
     "output_type": "stream",
     "text": [
      "                   all       3798      14361      0.766      0.655      0.737      0.535\n",
      "\n",
      "      Epoch    GPU_mem   box_loss   cls_loss   dfl_loss  Instances       Size\n"
     ]
    },
    {
     "name": "stderr",
     "output_type": "stream",
     "text": [
      "     84/150      4.54G     0.9443     0.8646      1.118         16        640: 100%|██████████| 1663/1663 [05:24<00:00,  5.13it/s]\n",
      "                 Class     Images  Instances      Box(P          R      mAP50  mAP50-95): 100%|██████████| 238/238 [00:40<00:00,  5.89it/s]\n"
     ]
    },
    {
     "name": "stdout",
     "output_type": "stream",
     "text": [
      "                   all       3798      14361      0.772      0.653      0.737      0.534\n",
      "\n",
      "      Epoch    GPU_mem   box_loss   cls_loss   dfl_loss  Instances       Size\n"
     ]
    },
    {
     "name": "stderr",
     "output_type": "stream",
     "text": [
      "     85/150      4.58G     0.9392     0.8536      1.119         36        640: 100%|██████████| 1663/1663 [05:26<00:00,  5.09it/s]\n",
      "                 Class     Images  Instances      Box(P          R      mAP50  mAP50-95): 100%|██████████| 238/238 [00:43<00:00,  5.47it/s]\n"
     ]
    },
    {
     "name": "stdout",
     "output_type": "stream",
     "text": [
      "                   all       3798      14361      0.771      0.654      0.738      0.534\n",
      "\n",
      "      Epoch    GPU_mem   box_loss   cls_loss   dfl_loss  Instances       Size\n"
     ]
    },
    {
     "name": "stderr",
     "output_type": "stream",
     "text": [
      "     86/150      4.59G       0.95     0.8549      1.121         30        640: 100%|██████████| 1663/1663 [05:15<00:00,  5.28it/s]\n",
      "                 Class     Images  Instances      Box(P          R      mAP50  mAP50-95): 100%|██████████| 238/238 [00:39<00:00,  6.10it/s]\n"
     ]
    },
    {
     "name": "stdout",
     "output_type": "stream",
     "text": [
      "                   all       3798      14361      0.774      0.651      0.738      0.534\n",
      "\n",
      "      Epoch    GPU_mem   box_loss   cls_loss   dfl_loss  Instances       Size\n"
     ]
    },
    {
     "name": "stderr",
     "output_type": "stream",
     "text": [
      "     87/150      4.58G     0.9372     0.8476      1.113         36        640: 100%|██████████| 1663/1663 [05:10<00:00,  5.36it/s]\n",
      "                 Class     Images  Instances      Box(P          R      mAP50  mAP50-95): 100%|██████████| 238/238 [00:38<00:00,  6.12it/s]\n"
     ]
    },
    {
     "name": "stdout",
     "output_type": "stream",
     "text": [
      "                   all       3798      14361      0.775      0.651      0.738      0.534\n",
      "\n",
      "      Epoch    GPU_mem   box_loss   cls_loss   dfl_loss  Instances       Size\n"
     ]
    },
    {
     "name": "stderr",
     "output_type": "stream",
     "text": [
      "     88/150      4.58G     0.9321     0.8409       1.11         36        640: 100%|██████████| 1663/1663 [05:10<00:00,  5.36it/s]\n",
      "                 Class     Images  Instances      Box(P          R      mAP50  mAP50-95): 100%|██████████| 238/238 [00:39<00:00,  6.10it/s]\n"
     ]
    },
    {
     "name": "stdout",
     "output_type": "stream",
     "text": [
      "                   all       3798      14361      0.774      0.652      0.738      0.534\n",
      "\n",
      "      Epoch    GPU_mem   box_loss   cls_loss   dfl_loss  Instances       Size\n"
     ]
    },
    {
     "name": "stderr",
     "output_type": "stream",
     "text": [
      "     89/150      4.56G     0.9288     0.8376      1.111         23        640: 100%|██████████| 1663/1663 [05:10<00:00,  5.36it/s]\n",
      "                 Class     Images  Instances      Box(P          R      mAP50  mAP50-95): 100%|██████████| 238/238 [00:38<00:00,  6.11it/s]\n"
     ]
    },
    {
     "name": "stdout",
     "output_type": "stream",
     "text": [
      "                   all       3798      14361      0.774      0.652      0.738      0.534\n",
      "\n",
      "      Epoch    GPU_mem   box_loss   cls_loss   dfl_loss  Instances       Size\n"
     ]
    },
    {
     "name": "stderr",
     "output_type": "stream",
     "text": [
      "     90/150      4.57G     0.9332     0.8331       1.11         13        640: 100%|██████████| 1663/1663 [05:10<00:00,  5.36it/s]\n",
      "                 Class     Images  Instances      Box(P          R      mAP50  mAP50-95): 100%|██████████| 238/238 [00:38<00:00,  6.11it/s]\n"
     ]
    },
    {
     "name": "stdout",
     "output_type": "stream",
     "text": [
      "                   all       3798      14361      0.774      0.651      0.737      0.534\n",
      "\n",
      "      Epoch    GPU_mem   box_loss   cls_loss   dfl_loss  Instances       Size\n"
     ]
    },
    {
     "name": "stderr",
     "output_type": "stream",
     "text": [
      "     91/150      4.58G     0.9364     0.8337      1.109         14        640: 100%|██████████| 1663/1663 [05:10<00:00,  5.36it/s]\n",
      "                 Class     Images  Instances      Box(P          R      mAP50  mAP50-95): 100%|██████████| 238/238 [00:38<00:00,  6.13it/s]\n"
     ]
    },
    {
     "name": "stdout",
     "output_type": "stream",
     "text": [
      "                   all       3798      14361      0.775      0.651      0.737      0.534\n",
      "\n",
      "      Epoch    GPU_mem   box_loss   cls_loss   dfl_loss  Instances       Size\n"
     ]
    },
    {
     "name": "stderr",
     "output_type": "stream",
     "text": [
      "     92/150      4.54G     0.9222     0.8233      1.109         14        640: 100%|██████████| 1663/1663 [05:10<00:00,  5.36it/s]\n",
      "                 Class     Images  Instances      Box(P          R      mAP50  mAP50-95): 100%|██████████| 238/238 [00:38<00:00,  6.12it/s]\n"
     ]
    },
    {
     "name": "stdout",
     "output_type": "stream",
     "text": [
      "                   all       3798      14361      0.773      0.652      0.738      0.534\n",
      "\n",
      "      Epoch    GPU_mem   box_loss   cls_loss   dfl_loss  Instances       Size\n"
     ]
    },
    {
     "name": "stderr",
     "output_type": "stream",
     "text": [
      "     93/150      4.57G     0.9227     0.8239      1.103         40        640: 100%|██████████| 1663/1663 [05:30<00:00,  5.04it/s]\n",
      "                 Class     Images  Instances      Box(P          R      mAP50  mAP50-95): 100%|██████████| 238/238 [00:40<00:00,  5.82it/s]\n"
     ]
    },
    {
     "name": "stdout",
     "output_type": "stream",
     "text": [
      "                   all       3798      14361      0.773      0.652      0.738      0.534\n",
      "\n",
      "      Epoch    GPU_mem   box_loss   cls_loss   dfl_loss  Instances       Size\n"
     ]
    },
    {
     "name": "stderr",
     "output_type": "stream",
     "text": [
      "     94/150      4.59G     0.9186     0.8151      1.105         14        640: 100%|██████████| 1663/1663 [05:32<00:00,  5.00it/s]\n",
      "                 Class     Images  Instances      Box(P          R      mAP50  mAP50-95): 100%|██████████| 238/238 [00:43<00:00,  5.52it/s]\n"
     ]
    },
    {
     "name": "stdout",
     "output_type": "stream",
     "text": [
      "                   all       3798      14361      0.772      0.652      0.738      0.534\n",
      "\n",
      "      Epoch    GPU_mem   box_loss   cls_loss   dfl_loss  Instances       Size\n"
     ]
    },
    {
     "name": "stderr",
     "output_type": "stream",
     "text": [
      "     95/150      4.59G     0.9247      0.817      1.104         22        640: 100%|██████████| 1663/1663 [05:37<00:00,  4.93it/s]\n",
      "                 Class     Images  Instances      Box(P          R      mAP50  mAP50-95): 100%|██████████| 238/238 [00:42<00:00,  5.60it/s]\n"
     ]
    },
    {
     "name": "stdout",
     "output_type": "stream",
     "text": [
      "                   all       3798      14361      0.771      0.653      0.738      0.534\n",
      "\n",
      "      Epoch    GPU_mem   box_loss   cls_loss   dfl_loss  Instances       Size\n"
     ]
    },
    {
     "name": "stderr",
     "output_type": "stream",
     "text": [
      "     96/150      4.57G     0.9103     0.8078      1.101         20        640: 100%|██████████| 1663/1663 [05:39<00:00,  4.90it/s]\n",
      "                 Class     Images  Instances      Box(P          R      mAP50  mAP50-95): 100%|██████████| 238/238 [00:41<00:00,  5.75it/s]\n"
     ]
    },
    {
     "name": "stdout",
     "output_type": "stream",
     "text": [
      "                   all       3798      14361      0.775       0.65      0.738      0.535\n",
      "\n",
      "      Epoch    GPU_mem   box_loss   cls_loss   dfl_loss  Instances       Size\n"
     ]
    },
    {
     "name": "stderr",
     "output_type": "stream",
     "text": [
      "     97/150      4.58G     0.9163     0.8006      1.098         32        640: 100%|██████████| 1663/1663 [05:28<00:00,  5.06it/s]\n",
      "                 Class     Images  Instances      Box(P          R      mAP50  mAP50-95): 100%|██████████| 238/238 [00:38<00:00,  6.21it/s]\n"
     ]
    },
    {
     "name": "stdout",
     "output_type": "stream",
     "text": [
      "                   all       3798      14361      0.772      0.652      0.738      0.535\n",
      "\n",
      "      Epoch    GPU_mem   box_loss   cls_loss   dfl_loss  Instances       Size\n"
     ]
    },
    {
     "name": "stderr",
     "output_type": "stream",
     "text": [
      "     98/150      4.57G      0.918      0.801      1.096         17        640: 100%|██████████| 1663/1663 [05:07<00:00,  5.41it/s]\n",
      "                 Class     Images  Instances      Box(P          R      mAP50  mAP50-95): 100%|██████████| 238/238 [00:38<00:00,  6.22it/s]\n"
     ]
    },
    {
     "name": "stdout",
     "output_type": "stream",
     "text": [
      "                   all       3798      14361      0.772      0.652      0.738      0.535\n",
      "\n",
      "      Epoch    GPU_mem   box_loss   cls_loss   dfl_loss  Instances       Size\n"
     ]
    },
    {
     "name": "stderr",
     "output_type": "stream",
     "text": [
      "     99/150      4.58G     0.9071     0.7969      1.094         29        640: 100%|██████████| 1663/1663 [05:07<00:00,  5.41it/s]\n",
      "                 Class     Images  Instances      Box(P          R      mAP50  mAP50-95): 100%|██████████| 238/238 [00:38<00:00,  6.22it/s]\n"
     ]
    },
    {
     "name": "stdout",
     "output_type": "stream",
     "text": [
      "                   all       3798      14361       0.77      0.652      0.738      0.535\n",
      "\n",
      "      Epoch    GPU_mem   box_loss   cls_loss   dfl_loss  Instances       Size\n"
     ]
    },
    {
     "name": "stderr",
     "output_type": "stream",
     "text": [
      "    100/150      4.54G      0.904     0.7883      1.093         12        640: 100%|██████████| 1663/1663 [05:07<00:00,  5.41it/s]\n",
      "                 Class     Images  Instances      Box(P          R      mAP50  mAP50-95): 100%|██████████| 238/238 [00:38<00:00,  6.22it/s]\n"
     ]
    },
    {
     "name": "stdout",
     "output_type": "stream",
     "text": [
      "                   all       3798      14361      0.773       0.65      0.738      0.535\n",
      "\n",
      "      Epoch    GPU_mem   box_loss   cls_loss   dfl_loss  Instances       Size\n"
     ]
    },
    {
     "name": "stderr",
     "output_type": "stream",
     "text": [
      "    101/150      4.58G     0.9055     0.7804      1.089         32        640: 100%|██████████| 1663/1663 [05:07<00:00,  5.41it/s]\n",
      "                 Class     Images  Instances      Box(P          R      mAP50  mAP50-95): 100%|██████████| 238/238 [00:38<00:00,  6.22it/s]\n"
     ]
    },
    {
     "name": "stdout",
     "output_type": "stream",
     "text": [
      "                   all       3798      14361      0.776       0.65      0.738      0.535\n",
      "\n",
      "      Epoch    GPU_mem   box_loss   cls_loss   dfl_loss  Instances       Size\n"
     ]
    },
    {
     "name": "stderr",
     "output_type": "stream",
     "text": [
      "    102/150      4.58G      0.901     0.7739      1.089         22        640: 100%|██████████| 1663/1663 [05:07<00:00,  5.41it/s]\n",
      "                 Class     Images  Instances      Box(P          R      mAP50  mAP50-95): 100%|██████████| 238/238 [00:38<00:00,  6.20it/s]\n"
     ]
    },
    {
     "name": "stdout",
     "output_type": "stream",
     "text": [
      "                   all       3798      14361      0.775       0.65      0.738      0.535\n",
      "\n",
      "      Epoch    GPU_mem   box_loss   cls_loss   dfl_loss  Instances       Size\n"
     ]
    },
    {
     "name": "stderr",
     "output_type": "stream",
     "text": [
      "    103/150      4.57G     0.9004     0.7731      1.087         19        640: 100%|██████████| 1663/1663 [05:07<00:00,  5.41it/s]\n",
      "                 Class     Images  Instances      Box(P          R      mAP50  mAP50-95): 100%|██████████| 238/238 [00:38<00:00,  6.22it/s]\n"
     ]
    },
    {
     "name": "stdout",
     "output_type": "stream",
     "text": [
      "                   all       3798      14361      0.774       0.65      0.738      0.535\n",
      "\n",
      "      Epoch    GPU_mem   box_loss   cls_loss   dfl_loss  Instances       Size\n"
     ]
    },
    {
     "name": "stderr",
     "output_type": "stream",
     "text": [
      "    104/150      4.58G     0.9014     0.7731      1.088         24        640: 100%|██████████| 1663/1663 [05:07<00:00,  5.41it/s]\n",
      "                 Class     Images  Instances      Box(P          R      mAP50  mAP50-95): 100%|██████████| 238/238 [00:38<00:00,  6.22it/s]\n"
     ]
    },
    {
     "name": "stdout",
     "output_type": "stream",
     "text": [
      "                   all       3798      14361      0.775      0.649      0.738      0.535\n",
      "\n",
      "      Epoch    GPU_mem   box_loss   cls_loss   dfl_loss  Instances       Size\n"
     ]
    },
    {
     "name": "stderr",
     "output_type": "stream",
     "text": [
      "    105/150      4.58G     0.8916     0.7647      1.085         21        640: 100%|██████████| 1663/1663 [05:07<00:00,  5.41it/s]\n",
      "                 Class     Images  Instances      Box(P          R      mAP50  mAP50-95): 100%|██████████| 238/238 [00:38<00:00,  6.22it/s]\n"
     ]
    },
    {
     "name": "stdout",
     "output_type": "stream",
     "text": [
      "                   all       3798      14361      0.776      0.649      0.738      0.535\n",
      "\n",
      "      Epoch    GPU_mem   box_loss   cls_loss   dfl_loss  Instances       Size\n"
     ]
    },
    {
     "name": "stderr",
     "output_type": "stream",
     "text": [
      "    106/150      4.57G     0.8855     0.7562      1.078         25        640: 100%|██████████| 1663/1663 [05:07<00:00,  5.41it/s]\n",
      "                 Class     Images  Instances      Box(P          R      mAP50  mAP50-95): 100%|██████████| 238/238 [00:38<00:00,  6.22it/s]\n"
     ]
    },
    {
     "name": "stdout",
     "output_type": "stream",
     "text": [
      "                   all       3798      14361      0.773      0.651      0.738      0.535\n",
      "\n",
      "      Epoch    GPU_mem   box_loss   cls_loss   dfl_loss  Instances       Size\n"
     ]
    },
    {
     "name": "stderr",
     "output_type": "stream",
     "text": [
      "    107/150      4.57G     0.8888     0.7567      1.081         13        640: 100%|██████████| 1663/1663 [05:07<00:00,  5.41it/s]\n",
      "                 Class     Images  Instances      Box(P          R      mAP50  mAP50-95): 100%|██████████| 238/238 [00:38<00:00,  6.22it/s]\n"
     ]
    },
    {
     "name": "stdout",
     "output_type": "stream",
     "text": [
      "                   all       3798      14361      0.768      0.655      0.738      0.535\n",
      "\n",
      "      Epoch    GPU_mem   box_loss   cls_loss   dfl_loss  Instances       Size\n"
     ]
    },
    {
     "name": "stderr",
     "output_type": "stream",
     "text": [
      "    108/150      4.53G     0.8881     0.7539      1.084         33        640: 100%|██████████| 1663/1663 [05:07<00:00,  5.41it/s]\n",
      "                 Class     Images  Instances      Box(P          R      mAP50  mAP50-95): 100%|██████████| 238/238 [00:38<00:00,  6.22it/s]\n"
     ]
    },
    {
     "name": "stdout",
     "output_type": "stream",
     "text": [
      "                   all       3798      14361      0.767      0.655      0.738      0.535\n",
      "\n",
      "      Epoch    GPU_mem   box_loss   cls_loss   dfl_loss  Instances       Size\n"
     ]
    },
    {
     "name": "stderr",
     "output_type": "stream",
     "text": [
      "    109/150      4.58G     0.8765     0.7434      1.081         20        640: 100%|██████████| 1663/1663 [05:07<00:00,  5.41it/s]\n",
      "                 Class     Images  Instances      Box(P          R      mAP50  mAP50-95): 100%|██████████| 238/238 [00:38<00:00,  6.23it/s]\n"
     ]
    },
    {
     "name": "stdout",
     "output_type": "stream",
     "text": [
      "                   all       3798      14361      0.768      0.655      0.738      0.535\n",
      "\n",
      "      Epoch    GPU_mem   box_loss   cls_loss   dfl_loss  Instances       Size\n"
     ]
    },
    {
     "name": "stderr",
     "output_type": "stream",
     "text": [
      "    110/150      4.58G     0.8779     0.7401      1.077         18        640: 100%|██████████| 1663/1663 [05:07<00:00,  5.41it/s]\n",
      "                 Class     Images  Instances      Box(P          R      mAP50  mAP50-95): 100%|██████████| 238/238 [00:38<00:00,  6.22it/s]\n"
     ]
    },
    {
     "name": "stdout",
     "output_type": "stream",
     "text": [
      "                   all       3798      14361      0.767      0.655      0.738      0.535\n",
      "\n",
      "      Epoch    GPU_mem   box_loss   cls_loss   dfl_loss  Instances       Size\n"
     ]
    },
    {
     "name": "stderr",
     "output_type": "stream",
     "text": [
      "    111/150      4.57G     0.8755     0.7369      1.075         16        640: 100%|██████████| 1663/1663 [05:07<00:00,  5.41it/s]\n",
      "                 Class     Images  Instances      Box(P          R      mAP50  mAP50-95): 100%|██████████| 238/238 [00:38<00:00,  6.22it/s]\n"
     ]
    },
    {
     "name": "stdout",
     "output_type": "stream",
     "text": [
      "                   all       3798      14361      0.768      0.654      0.738      0.535\n",
      "\n",
      "      Epoch    GPU_mem   box_loss   cls_loss   dfl_loss  Instances       Size\n"
     ]
    },
    {
     "name": "stderr",
     "output_type": "stream",
     "text": [
      "    112/150      4.57G     0.8741      0.734      1.071         14        640: 100%|██████████| 1663/1663 [05:07<00:00,  5.41it/s]\n",
      "                 Class     Images  Instances      Box(P          R      mAP50  mAP50-95): 100%|██████████| 238/238 [00:38<00:00,  6.22it/s]\n"
     ]
    },
    {
     "name": "stdout",
     "output_type": "stream",
     "text": [
      "                   all       3798      14361      0.768      0.654      0.738      0.535\n",
      "\n",
      "      Epoch    GPU_mem   box_loss   cls_loss   dfl_loss  Instances       Size\n"
     ]
    },
    {
     "name": "stderr",
     "output_type": "stream",
     "text": [
      "    113/150      4.57G     0.8692     0.7276      1.072         29        640: 100%|██████████| 1663/1663 [05:07<00:00,  5.41it/s]\n",
      "                 Class     Images  Instances      Box(P          R      mAP50  mAP50-95): 100%|██████████| 238/238 [00:38<00:00,  6.22it/s]\n"
     ]
    },
    {
     "name": "stdout",
     "output_type": "stream",
     "text": [
      "                   all       3798      14361      0.769      0.653      0.738      0.535\n",
      "\n",
      "      Epoch    GPU_mem   box_loss   cls_loss   dfl_loss  Instances       Size\n"
     ]
    },
    {
     "name": "stderr",
     "output_type": "stream",
     "text": [
      "    114/150      4.57G      0.869     0.7208      1.073         12        640: 100%|██████████| 1663/1663 [05:12<00:00,  5.32it/s]\n",
      "                 Class     Images  Instances      Box(P          R      mAP50  mAP50-95): 100%|██████████| 238/238 [00:40<00:00,  5.88it/s]\n"
     ]
    },
    {
     "name": "stdout",
     "output_type": "stream",
     "text": [
      "                   all       3798      14361      0.769      0.652      0.737      0.535\n",
      "\n",
      "      Epoch    GPU_mem   box_loss   cls_loss   dfl_loss  Instances       Size\n"
     ]
    },
    {
     "name": "stderr",
     "output_type": "stream",
     "text": [
      "    115/150      4.58G     0.8675     0.7129      1.069         18        640: 100%|██████████| 1663/1663 [05:24<00:00,  5.13it/s]\n",
      "                 Class     Images  Instances      Box(P          R      mAP50  mAP50-95): 100%|██████████| 238/238 [00:41<00:00,  5.72it/s]\n"
     ]
    },
    {
     "name": "stdout",
     "output_type": "stream",
     "text": [
      "                   all       3798      14361       0.77      0.652      0.738      0.536\n",
      "\n",
      "      Epoch    GPU_mem   box_loss   cls_loss   dfl_loss  Instances       Size\n"
     ]
    },
    {
     "name": "stderr",
     "output_type": "stream",
     "text": [
      "    116/150      4.53G     0.8624     0.7103      1.065         15        640: 100%|██████████| 1663/1663 [05:22<00:00,  5.16it/s]\n",
      "                 Class     Images  Instances      Box(P          R      mAP50  mAP50-95): 100%|██████████| 238/238 [00:40<00:00,  5.82it/s]\n"
     ]
    },
    {
     "name": "stdout",
     "output_type": "stream",
     "text": [
      "                   all       3798      14361      0.767      0.653      0.737      0.535\n",
      "\n",
      "      Epoch    GPU_mem   box_loss   cls_loss   dfl_loss  Instances       Size\n"
     ]
    },
    {
     "name": "stderr",
     "output_type": "stream",
     "text": [
      "    117/150      4.58G     0.8587     0.7091      1.068         13        640: 100%|██████████| 1663/1663 [05:27<00:00,  5.08it/s]\n",
      "                 Class     Images  Instances      Box(P          R      mAP50  mAP50-95): 100%|██████████| 238/238 [00:41<00:00,  5.74it/s]\n"
     ]
    },
    {
     "name": "stdout",
     "output_type": "stream",
     "text": [
      "                   all       3798      14361      0.764      0.656      0.737      0.535\n",
      "\n",
      "      Epoch    GPU_mem   box_loss   cls_loss   dfl_loss  Instances       Size\n"
     ]
    },
    {
     "name": "stderr",
     "output_type": "stream",
     "text": [
      "    118/150      4.57G     0.8543     0.7049      1.062         13        640: 100%|██████████| 1663/1663 [05:23<00:00,  5.13it/s]\n",
      "                 Class     Images  Instances      Box(P          R      mAP50  mAP50-95): 100%|██████████| 238/238 [00:39<00:00,  6.06it/s]\n"
     ]
    },
    {
     "name": "stdout",
     "output_type": "stream",
     "text": [
      "                   all       3798      14361      0.764      0.657      0.737      0.535\n",
      "\n",
      "      Epoch    GPU_mem   box_loss   cls_loss   dfl_loss  Instances       Size\n"
     ]
    },
    {
     "name": "stderr",
     "output_type": "stream",
     "text": [
      "    119/150      4.57G     0.8536     0.6981       1.06         28        640: 100%|██████████| 1663/1663 [05:15<00:00,  5.28it/s]\n",
      "                 Class     Images  Instances      Box(P          R      mAP50  mAP50-95): 100%|██████████| 238/238 [00:40<00:00,  5.91it/s]\n"
     ]
    },
    {
     "name": "stdout",
     "output_type": "stream",
     "text": [
      "                   all       3798      14361      0.763      0.657      0.737      0.535\n",
      "\n",
      "      Epoch    GPU_mem   box_loss   cls_loss   dfl_loss  Instances       Size\n"
     ]
    },
    {
     "name": "stderr",
     "output_type": "stream",
     "text": [
      "    120/150      4.58G     0.8476     0.6929      1.057         29        640: 100%|██████████| 1663/1663 [05:29<00:00,  5.05it/s]\n",
      "                 Class     Images  Instances      Box(P          R      mAP50  mAP50-95): 100%|██████████| 238/238 [00:42<00:00,  5.57it/s]\n"
     ]
    },
    {
     "name": "stdout",
     "output_type": "stream",
     "text": [
      "                   all       3798      14361      0.755      0.662      0.737      0.535\n",
      "\n",
      "      Epoch    GPU_mem   box_loss   cls_loss   dfl_loss  Instances       Size\n"
     ]
    },
    {
     "name": "stderr",
     "output_type": "stream",
     "text": [
      "    121/150      4.58G     0.8486     0.6887      1.059         37        640: 100%|██████████| 1663/1663 [05:32<00:00,  5.01it/s]\n",
      "                 Class     Images  Instances      Box(P          R      mAP50  mAP50-95): 100%|██████████| 238/238 [00:41<00:00,  5.80it/s]\n"
     ]
    },
    {
     "name": "stdout",
     "output_type": "stream",
     "text": [
      "                   all       3798      14361      0.765      0.656      0.737      0.535\n",
      "\n",
      "      Epoch    GPU_mem   box_loss   cls_loss   dfl_loss  Instances       Size\n"
     ]
    },
    {
     "name": "stderr",
     "output_type": "stream",
     "text": [
      "    122/150      4.57G     0.8474     0.6884      1.053         21        640: 100%|██████████| 1663/1663 [05:38<00:00,  4.92it/s]\n",
      "                 Class     Images  Instances      Box(P          R      mAP50  mAP50-95): 100%|██████████| 238/238 [01:11<00:00,  3.34it/s]\n"
     ]
    },
    {
     "name": "stdout",
     "output_type": "stream",
     "text": [
      "                   all       3798      14361      0.769      0.652      0.737      0.536\n",
      "\n",
      "      Epoch    GPU_mem   box_loss   cls_loss   dfl_loss  Instances       Size\n"
     ]
    },
    {
     "name": "stderr",
     "output_type": "stream",
     "text": [
      "    123/150      4.57G     0.8402     0.6764      1.054         13        640: 100%|██████████| 1663/1663 [06:42<00:00,  4.14it/s]\n",
      "                 Class     Images  Instances      Box(P          R      mAP50  mAP50-95): 100%|██████████| 238/238 [00:43<00:00,  5.47it/s]\n"
     ]
    },
    {
     "name": "stdout",
     "output_type": "stream",
     "text": [
      "                   all       3798      14361      0.769      0.653      0.737      0.536\n",
      "\n",
      "      Epoch    GPU_mem   box_loss   cls_loss   dfl_loss  Instances       Size\n"
     ]
    },
    {
     "name": "stderr",
     "output_type": "stream",
     "text": [
      "    124/150      4.53G     0.8364     0.6781      1.053         27        640: 100%|██████████| 1663/1663 [05:32<00:00,  5.01it/s]\n",
      "                 Class     Images  Instances      Box(P          R      mAP50  mAP50-95): 100%|██████████| 238/238 [00:40<00:00,  5.83it/s]\n"
     ]
    },
    {
     "name": "stdout",
     "output_type": "stream",
     "text": [
      "                   all       3798      14361      0.768      0.653      0.737      0.536\n",
      "\n",
      "      Epoch    GPU_mem   box_loss   cls_loss   dfl_loss  Instances       Size\n"
     ]
    },
    {
     "name": "stderr",
     "output_type": "stream",
     "text": [
      "    125/150      4.58G     0.8346     0.6708      1.049         14        640: 100%|██████████| 1663/1663 [05:11<00:00,  5.34it/s]\n",
      "                 Class     Images  Instances      Box(P          R      mAP50  mAP50-95): 100%|██████████| 238/238 [00:38<00:00,  6.11it/s]\n"
     ]
    },
    {
     "name": "stdout",
     "output_type": "stream",
     "text": [
      "                   all       3798      14361       0.77       0.65      0.737      0.536\n",
      "\n",
      "      Epoch    GPU_mem   box_loss   cls_loss   dfl_loss  Instances       Size\n"
     ]
    },
    {
     "name": "stderr",
     "output_type": "stream",
     "text": [
      "    126/150      4.57G     0.8321     0.6673      1.052         27        640: 100%|██████████| 1663/1663 [05:18<00:00,  5.22it/s]\n",
      "                 Class     Images  Instances      Box(P          R      mAP50  mAP50-95): 100%|██████████| 238/238 [00:39<00:00,  6.06it/s]\n"
     ]
    },
    {
     "name": "stdout",
     "output_type": "stream",
     "text": [
      "                   all       3798      14361      0.772      0.649      0.737      0.536\n",
      "\n",
      "      Epoch    GPU_mem   box_loss   cls_loss   dfl_loss  Instances       Size\n"
     ]
    },
    {
     "name": "stderr",
     "output_type": "stream",
     "text": [
      "    127/150      4.58G     0.8285     0.6613      1.045         20        640: 100%|██████████| 1663/1663 [05:15<00:00,  5.27it/s]\n",
      "                 Class     Images  Instances      Box(P          R      mAP50  mAP50-95): 100%|██████████| 238/238 [01:00<00:00,  3.94it/s]\n"
     ]
    },
    {
     "name": "stdout",
     "output_type": "stream",
     "text": [
      "                   all       3798      14361      0.767      0.654      0.737      0.536\n",
      "\n",
      "      Epoch    GPU_mem   box_loss   cls_loss   dfl_loss  Instances       Size\n"
     ]
    },
    {
     "name": "stderr",
     "output_type": "stream",
     "text": [
      "    128/150      4.58G     0.8237      0.662      1.046         21        640: 100%|██████████| 1663/1663 [06:08<00:00,  4.51it/s]\n",
      "                 Class     Images  Instances      Box(P          R      mAP50  mAP50-95): 100%|██████████| 238/238 [01:09<00:00,  3.44it/s]\n"
     ]
    },
    {
     "name": "stdout",
     "output_type": "stream",
     "text": [
      "                   all       3798      14361      0.771       0.65      0.737      0.536\n",
      "\n",
      "      Epoch    GPU_mem   box_loss   cls_loss   dfl_loss  Instances       Size\n"
     ]
    },
    {
     "name": "stderr",
     "output_type": "stream",
     "text": [
      "    129/150      4.58G     0.8252     0.6565      1.044         29        640: 100%|██████████| 1663/1663 [06:34<00:00,  4.21it/s]\n",
      "                 Class     Images  Instances      Box(P          R      mAP50  mAP50-95): 100%|██████████| 238/238 [00:42<00:00,  5.62it/s]\n"
     ]
    },
    {
     "name": "stdout",
     "output_type": "stream",
     "text": [
      "                   all       3798      14361      0.759      0.659      0.737      0.536\n",
      "\n",
      "      Epoch    GPU_mem   box_loss   cls_loss   dfl_loss  Instances       Size\n"
     ]
    },
    {
     "name": "stderr",
     "output_type": "stream",
     "text": [
      "    130/150      4.57G     0.8263     0.6542      1.045         21        640: 100%|██████████| 1663/1663 [05:32<00:00,  5.01it/s]\n",
      "                 Class     Images  Instances      Box(P          R      mAP50  mAP50-95): 100%|██████████| 238/238 [00:41<00:00,  5.78it/s]\n"
     ]
    },
    {
     "name": "stdout",
     "output_type": "stream",
     "text": [
      "                   all       3798      14361      0.758       0.66      0.737      0.536\n",
      "\n",
      "      Epoch    GPU_mem   box_loss   cls_loss   dfl_loss  Instances       Size\n"
     ]
    },
    {
     "name": "stderr",
     "output_type": "stream",
     "text": [
      "    131/150      4.58G     0.8281     0.6505      1.045         18        640: 100%|██████████| 1663/1663 [05:25<00:00,  5.11it/s]\n",
      "                 Class     Images  Instances      Box(P          R      mAP50  mAP50-95): 100%|██████████| 238/238 [00:39<00:00,  6.04it/s]\n"
     ]
    },
    {
     "name": "stdout",
     "output_type": "stream",
     "text": [
      "                   all       3798      14361      0.761      0.659      0.737      0.536\n",
      "\n",
      "      Epoch    GPU_mem   box_loss   cls_loss   dfl_loss  Instances       Size\n"
     ]
    },
    {
     "name": "stderr",
     "output_type": "stream",
     "text": [
      "    132/150      4.53G     0.8133     0.6377      1.036         32        640: 100%|██████████| 1663/1663 [05:13<00:00,  5.31it/s]\n",
      "                 Class     Images  Instances      Box(P          R      mAP50  mAP50-95): 100%|██████████| 238/238 [00:39<00:00,  6.09it/s]"
     ]
    },
    {
     "name": "stdout",
     "output_type": "stream",
     "text": [
      "                   all       3798      14361      0.759       0.66      0.737      0.536\n"
     ]
    },
    {
     "name": "stderr",
     "output_type": "stream",
     "text": [
      "\n"
     ]
    },
    {
     "name": "stdout",
     "output_type": "stream",
     "text": [
      "\n",
      "      Epoch    GPU_mem   box_loss   cls_loss   dfl_loss  Instances       Size\n"
     ]
    },
    {
     "name": "stderr",
     "output_type": "stream",
     "text": [
      "    133/150      4.58G     0.8163     0.6443       1.04         16        640: 100%|██████████| 1663/1663 [05:13<00:00,  5.31it/s]\n",
      "                 Class     Images  Instances      Box(P          R      mAP50  mAP50-95): 100%|██████████| 238/238 [00:39<00:00,  5.96it/s]\n"
     ]
    },
    {
     "name": "stdout",
     "output_type": "stream",
     "text": [
      "                   all       3798      14361       0.76      0.659      0.737      0.536\n",
      "\n",
      "      Epoch    GPU_mem   box_loss   cls_loss   dfl_loss  Instances       Size\n"
     ]
    },
    {
     "name": "stderr",
     "output_type": "stream",
     "text": [
      "    134/150      4.58G     0.8114      0.636      1.038         32        640: 100%|██████████| 1663/1663 [05:18<00:00,  5.22it/s]\n",
      "                 Class     Images  Instances      Box(P          R      mAP50  mAP50-95): 100%|██████████| 238/238 [00:41<00:00,  5.77it/s]\n"
     ]
    },
    {
     "name": "stdout",
     "output_type": "stream",
     "text": [
      "                   all       3798      14361      0.762      0.657      0.737      0.536\n",
      "\n",
      "      Epoch    GPU_mem   box_loss   cls_loss   dfl_loss  Instances       Size\n"
     ]
    },
    {
     "name": "stderr",
     "output_type": "stream",
     "text": [
      "    135/150      4.57G     0.8112     0.6314      1.037         26        640: 100%|██████████| 1663/1663 [05:14<00:00,  5.28it/s]\n",
      "                 Class     Images  Instances      Box(P          R      mAP50  mAP50-95): 100%|██████████| 238/238 [00:38<00:00,  6.22it/s]\n"
     ]
    },
    {
     "name": "stdout",
     "output_type": "stream",
     "text": [
      "                   all       3798      14361      0.762      0.657      0.737      0.535\n",
      "\n",
      "      Epoch    GPU_mem   box_loss   cls_loss   dfl_loss  Instances       Size\n"
     ]
    },
    {
     "name": "stderr",
     "output_type": "stream",
     "text": [
      "    136/150      4.58G     0.8045     0.6257      1.028         25        640: 100%|██████████| 1663/1663 [05:09<00:00,  5.38it/s]\n",
      "                 Class     Images  Instances      Box(P          R      mAP50  mAP50-95): 100%|██████████| 238/238 [00:39<00:00,  6.02it/s]"
     ]
    },
    {
     "name": "stdout",
     "output_type": "stream",
     "text": [
      "                   all       3798      14361      0.764      0.656      0.736      0.535\n"
     ]
    },
    {
     "name": "stderr",
     "output_type": "stream",
     "text": [
      "\n"
     ]
    },
    {
     "name": "stdout",
     "output_type": "stream",
     "text": [
      "\n",
      "      Epoch    GPU_mem   box_loss   cls_loss   dfl_loss  Instances       Size\n"
     ]
    },
    {
     "name": "stderr",
     "output_type": "stream",
     "text": [
      "    137/150      4.57G     0.8044     0.6207      1.029         14        640: 100%|██████████| 1663/1663 [05:15<00:00,  5.27it/s]\n",
      "                 Class     Images  Instances      Box(P          R      mAP50  mAP50-95): 100%|██████████| 238/238 [00:39<00:00,  6.06it/s]\n"
     ]
    },
    {
     "name": "stdout",
     "output_type": "stream",
     "text": [
      "                   all       3798      14361      0.764      0.657      0.737      0.535\n",
      "\n",
      "      Epoch    GPU_mem   box_loss   cls_loss   dfl_loss  Instances       Size\n"
     ]
    },
    {
     "name": "stderr",
     "output_type": "stream",
     "text": [
      "    138/150      4.57G     0.7967     0.6115      1.027         41        640: 100%|██████████| 1663/1663 [05:15<00:00,  5.28it/s]\n",
      "                 Class     Images  Instances      Box(P          R      mAP50  mAP50-95): 100%|██████████| 238/238 [00:39<00:00,  6.06it/s]"
     ]
    },
    {
     "name": "stdout",
     "output_type": "stream",
     "text": [
      "                   all       3798      14361      0.763      0.656      0.736      0.535\n"
     ]
    },
    {
     "name": "stderr",
     "output_type": "stream",
     "text": [
      "\n"
     ]
    },
    {
     "name": "stdout",
     "output_type": "stream",
     "text": [
      "\n",
      "      Epoch    GPU_mem   box_loss   cls_loss   dfl_loss  Instances       Size\n"
     ]
    },
    {
     "name": "stderr",
     "output_type": "stream",
     "text": [
      "    139/150      4.57G     0.7933     0.6096      1.028         21        640: 100%|██████████| 1663/1663 [05:14<00:00,  5.28it/s]\n",
      "                 Class     Images  Instances      Box(P          R      mAP50  mAP50-95): 100%|██████████| 238/238 [00:39<00:00,  6.05it/s]\n"
     ]
    },
    {
     "name": "stdout",
     "output_type": "stream",
     "text": [
      "                   all       3798      14361      0.764      0.657      0.737      0.535\n",
      "\n",
      "      Epoch    GPU_mem   box_loss   cls_loss   dfl_loss  Instances       Size\n"
     ]
    },
    {
     "name": "stderr",
     "output_type": "stream",
     "text": [
      "    140/150      4.52G     0.7918     0.6089      1.027          5        640: 100%|██████████| 1663/1663 [05:14<00:00,  5.29it/s]\n",
      "                 Class     Images  Instances      Box(P          R      mAP50  mAP50-95): 100%|██████████| 238/238 [00:39<00:00,  6.06it/s]"
     ]
    },
    {
     "name": "stdout",
     "output_type": "stream",
     "text": [
      "                   all       3798      14361      0.767      0.655      0.737      0.535\n"
     ]
    },
    {
     "name": "stderr",
     "output_type": "stream",
     "text": [
      "\n"
     ]
    },
    {
     "name": "stdout",
     "output_type": "stream",
     "text": [
      "Closing dataloader mosaic\n",
      "\n",
      "      Epoch    GPU_mem   box_loss   cls_loss   dfl_loss  Instances       Size\n"
     ]
    },
    {
     "name": "stderr",
     "output_type": "stream",
     "text": [
      "    141/150      4.58G     0.7862      0.535      1.002         11        640: 100%|██████████| 1663/1663 [09:27<00:00,  2.93it/s]\n",
      "                 Class     Images  Instances      Box(P          R      mAP50  mAP50-95): 100%|██████████| 238/238 [01:07<00:00,  3.53it/s]\n"
     ]
    },
    {
     "name": "stdout",
     "output_type": "stream",
     "text": [
      "                   all       3798      14361      0.762      0.657      0.736      0.535\n",
      "\n",
      "      Epoch    GPU_mem   box_loss   cls_loss   dfl_loss  Instances       Size\n"
     ]
    },
    {
     "name": "stderr",
     "output_type": "stream",
     "text": [
      "    142/150      4.56G     0.7743     0.5221     0.9937          9        640: 100%|██████████| 1663/1663 [09:34<00:00,  2.90it/s]\n",
      "                 Class     Images  Instances      Box(P          R      mAP50  mAP50-95): 100%|██████████| 238/238 [01:07<00:00,  3.53it/s]\n"
     ]
    },
    {
     "name": "stdout",
     "output_type": "stream",
     "text": [
      "                   all       3798      14361      0.764      0.657      0.736      0.535\n",
      "\n",
      "      Epoch    GPU_mem   box_loss   cls_loss   dfl_loss  Instances       Size\n"
     ]
    },
    {
     "name": "stderr",
     "output_type": "stream",
     "text": [
      "    143/150      4.58G     0.7736     0.5164     0.9949         15        640: 100%|██████████| 1663/1663 [09:29<00:00,  2.92it/s]\n",
      "                 Class     Images  Instances      Box(P          R      mAP50  mAP50-95): 100%|██████████| 238/238 [01:07<00:00,  3.53it/s]\n"
     ]
    },
    {
     "name": "stdout",
     "output_type": "stream",
     "text": [
      "                   all       3798      14361      0.764      0.658      0.736      0.535\n",
      "\n",
      "      Epoch    GPU_mem   box_loss   cls_loss   dfl_loss  Instances       Size\n"
     ]
    },
    {
     "name": "stderr",
     "output_type": "stream",
     "text": [
      "    144/150      4.58G     0.7652     0.5064     0.9871          9        640: 100%|██████████| 1663/1663 [09:32<00:00,  2.91it/s]\n",
      "                 Class     Images  Instances      Box(P          R      mAP50  mAP50-95): 100%|██████████| 238/238 [01:07<00:00,  3.54it/s]\n"
     ]
    },
    {
     "name": "stdout",
     "output_type": "stream",
     "text": [
      "                   all       3798      14361       0.77      0.653      0.736      0.535\n",
      "\n",
      "      Epoch    GPU_mem   box_loss   cls_loss   dfl_loss  Instances       Size\n"
     ]
    },
    {
     "name": "stderr",
     "output_type": "stream",
     "text": [
      "    145/150      4.58G     0.7624     0.5052     0.9862         16        640: 100%|██████████| 1663/1663 [09:31<00:00,  2.91it/s]\n",
      "                 Class     Images  Instances      Box(P          R      mAP50  mAP50-95): 100%|██████████| 238/238 [01:06<00:00,  3.59it/s]\n"
     ]
    },
    {
     "name": "stdout",
     "output_type": "stream",
     "text": [
      "                   all       3798      14361      0.769      0.654      0.736      0.535\n",
      "\n",
      "      Epoch    GPU_mem   box_loss   cls_loss   dfl_loss  Instances       Size\n"
     ]
    },
    {
     "name": "stderr",
     "output_type": "stream",
     "text": [
      "    146/150      4.57G     0.7588      0.498     0.9862          7        640: 100%|██████████| 1663/1663 [09:34<00:00,  2.90it/s]\n",
      "                 Class     Images  Instances      Box(P          R      mAP50  mAP50-95): 100%|██████████| 238/238 [01:06<00:00,  3.56it/s]\n"
     ]
    },
    {
     "name": "stdout",
     "output_type": "stream",
     "text": [
      "                   all       3798      14361      0.771      0.653      0.736      0.535\n",
      "\n",
      "      Epoch    GPU_mem   box_loss   cls_loss   dfl_loss  Instances       Size\n"
     ]
    },
    {
     "name": "stderr",
     "output_type": "stream",
     "text": [
      "    147/150      4.58G     0.7511     0.4939     0.9811         10        640: 100%|██████████| 1663/1663 [09:28<00:00,  2.92it/s]\n",
      "                 Class     Images  Instances      Box(P          R      mAP50  mAP50-95): 100%|██████████| 238/238 [01:06<00:00,  3.58it/s]\n"
     ]
    },
    {
     "name": "stdout",
     "output_type": "stream",
     "text": [
      "                   all       3798      14361      0.772      0.653      0.736      0.535\n",
      "\n",
      "      Epoch    GPU_mem   box_loss   cls_loss   dfl_loss  Instances       Size\n"
     ]
    },
    {
     "name": "stderr",
     "output_type": "stream",
     "text": [
      "    148/150      4.53G     0.7504     0.4912     0.9814         16        640: 100%|██████████| 1663/1663 [09:29<00:00,  2.92it/s]\n",
      "                 Class     Images  Instances      Box(P          R      mAP50  mAP50-95): 100%|██████████| 238/238 [01:07<00:00,  3.53it/s]\n"
     ]
    },
    {
     "name": "stdout",
     "output_type": "stream",
     "text": [
      "                   all       3798      14361      0.772      0.653      0.736      0.535\n",
      "\n",
      "      Epoch    GPU_mem   box_loss   cls_loss   dfl_loss  Instances       Size\n"
     ]
    },
    {
     "name": "stderr",
     "output_type": "stream",
     "text": [
      "    149/150      4.58G      0.746     0.4871     0.9797         14        640: 100%|██████████| 1663/1663 [09:28<00:00,  2.93it/s]\n",
      "                 Class     Images  Instances      Box(P          R      mAP50  mAP50-95): 100%|██████████| 238/238 [01:07<00:00,  3.53it/s]\n"
     ]
    },
    {
     "name": "stdout",
     "output_type": "stream",
     "text": [
      "                   all       3798      14361      0.772      0.652      0.736      0.535\n",
      "\n",
      "      Epoch    GPU_mem   box_loss   cls_loss   dfl_loss  Instances       Size\n"
     ]
    },
    {
     "name": "stderr",
     "output_type": "stream",
     "text": [
      "    150/150      4.58G     0.7452     0.4854     0.9793         13        640: 100%|██████████| 1663/1663 [09:26<00:00,  2.94it/s]\n",
      "                 Class     Images  Instances      Box(P          R      mAP50  mAP50-95): 100%|██████████| 238/238 [01:06<00:00,  3.56it/s]\n"
     ]
    },
    {
     "name": "stdout",
     "output_type": "stream",
     "text": [
      "                   all       3798      14361      0.773      0.652      0.736      0.535\n",
      "\n",
      "150 epochs completed in 16.211 hours.\n",
      "Optimizer stripped from runs\\detect\\train4\\weights\\last.pt, 40.5MB\n",
      "Optimizer stripped from runs\\detect\\train4\\weights\\best.pt, 40.5MB\n",
      "\n",
      "Validating runs\\detect\\train4\\weights\\best.pt...\n",
      "Ultralytics 8.3.39  Python-3.12.0 torch-2.5.1+cu124 CUDA:0 (NVIDIA GeForce RTX 3060 Ti, 8191MiB)\n",
      "YOLO11m summary (fused): 303 layers, 20,033,116 parameters, 0 gradients, 67.7 GFLOPs\n"
     ]
    },
    {
     "name": "stderr",
     "output_type": "stream",
     "text": [
      "                 Class     Images  Instances      Box(P          R      mAP50  mAP50-95): 100%|██████████| 238/238 [00:41<00:00,  5.73it/s]\n"
     ]
    },
    {
     "name": "stdout",
     "output_type": "stream",
     "text": [
      "                   all       3798      14361      0.772      0.651      0.737      0.536\n",
      "                   bus        817       1255       0.84      0.788      0.866      0.721\n",
      "                   car       2566       9188      0.782      0.647      0.733      0.492\n",
      "            motorcycle        729       1791      0.817      0.649      0.742      0.483\n",
      "                 truck       1277       2127      0.648      0.519      0.608      0.446\n",
      "Speed: 0.2ms preprocess, 6.1ms inference, 0.0ms loss, 1.0ms postprocess per image\n",
      "Results saved to \u001b[1mruns\\detect\\train4\u001b[0m\n"
     ]
    }
   ],
   "source": [
    "file_path = os.path.join(\"Vehicles-coco-2\", \"data.yaml\")\n",
    "results = model.train(data=file_path, epochs=50, batch=8)"
   ]
  },
  {
   "cell_type": "code",
   "execution_count": 3,
   "metadata": {},
   "outputs": [
    {
     "name": "stdout",
     "output_type": "stream",
     "text": [
      "Ultralytics 8.3.54  Python-3.12.0 torch-2.5.1+cu124 CUDA:0 (NVIDIA GeForce RTX 3060 Ti, 8191MiB)\n",
      "\u001b[34m\u001b[1mengine\\trainer: \u001b[0mtask=detect, mode=train, model=runs/detect/train4/weights/best.pt, data=Vehicles-coco-2\\data.yaml, epochs=50, time=None, patience=100, batch=8, imgsz=640, save=True, save_period=-1, cache=False, device=None, workers=8, project=None, name=train6, exist_ok=False, pretrained=True, optimizer=auto, verbose=True, seed=0, deterministic=True, single_cls=False, rect=False, cos_lr=False, close_mosaic=10, resume=False, amp=True, fraction=1.0, profile=False, freeze=None, multi_scale=False, overlap_mask=True, mask_ratio=4, dropout=0.0, val=True, split=val, save_json=False, save_hybrid=False, conf=None, iou=0.7, max_det=300, half=False, dnn=False, plots=True, source=None, vid_stride=1, stream_buffer=False, visualize=False, augment=False, agnostic_nms=False, classes=None, retina_masks=False, embed=None, show=False, save_frames=False, save_txt=False, save_conf=False, save_crop=False, show_labels=True, show_conf=True, show_boxes=True, line_width=None, format=torchscript, keras=False, optimize=False, int8=False, dynamic=False, simplify=True, opset=None, workspace=None, nms=False, lr0=0.01, lrf=0.01, momentum=0.937, weight_decay=0.0005, warmup_epochs=3.0, warmup_momentum=0.8, warmup_bias_lr=0.1, box=7.5, cls=0.5, dfl=1.5, pose=12.0, kobj=1.0, nbs=64, hsv_h=0.015, hsv_s=0.7, hsv_v=0.4, degrees=0.0, translate=0.1, scale=0.5, shear=0.0, perspective=0.0, flipud=0.0, fliplr=0.5, bgr=0.0, mosaic=1.0, mixup=0.0, copy_paste=0.0, copy_paste_mode=flip, auto_augment=randaugment, erasing=0.4, crop_fraction=1.0, cfg=None, tracker=botsort.yaml, save_dir=runs\\detect\\train6\n",
      "\n",
      "                   from  n    params  module                                       arguments                     \n",
      "  0                  -1  1      1856  ultralytics.nn.modules.conv.Conv             [3, 64, 3, 2]                 \n",
      "  1                  -1  1     73984  ultralytics.nn.modules.conv.Conv             [64, 128, 3, 2]               \n",
      "  2                  -1  1    111872  ultralytics.nn.modules.block.C3k2            [128, 256, 1, True, 0.25]     \n",
      "  3                  -1  1    590336  ultralytics.nn.modules.conv.Conv             [256, 256, 3, 2]              \n",
      "  4                  -1  1    444928  ultralytics.nn.modules.block.C3k2            [256, 512, 1, True, 0.25]     \n",
      "  5                  -1  1   2360320  ultralytics.nn.modules.conv.Conv             [512, 512, 3, 2]              \n",
      "  6                  -1  1   1380352  ultralytics.nn.modules.block.C3k2            [512, 512, 1, True]           \n",
      "  7                  -1  1   2360320  ultralytics.nn.modules.conv.Conv             [512, 512, 3, 2]              \n",
      "  8                  -1  1   1380352  ultralytics.nn.modules.block.C3k2            [512, 512, 1, True]           \n",
      "  9                  -1  1    656896  ultralytics.nn.modules.block.SPPF            [512, 512, 5]                 \n",
      " 10                  -1  1    990976  ultralytics.nn.modules.block.C2PSA           [512, 512, 1]                 \n",
      " 11                  -1  1         0  torch.nn.modules.upsampling.Upsample         [None, 2, 'nearest']          \n",
      " 12             [-1, 6]  1         0  ultralytics.nn.modules.conv.Concat           [1]                           \n",
      " 13                  -1  1   1642496  ultralytics.nn.modules.block.C3k2            [1024, 512, 1, True]          \n",
      " 14                  -1  1         0  torch.nn.modules.upsampling.Upsample         [None, 2, 'nearest']          \n",
      " 15             [-1, 4]  1         0  ultralytics.nn.modules.conv.Concat           [1]                           \n",
      " 16                  -1  1    542720  ultralytics.nn.modules.block.C3k2            [1024, 256, 1, True]          \n",
      " 17                  -1  1    590336  ultralytics.nn.modules.conv.Conv             [256, 256, 3, 2]              \n",
      " 18            [-1, 13]  1         0  ultralytics.nn.modules.conv.Concat           [1]                           \n",
      " 19                  -1  1   1511424  ultralytics.nn.modules.block.C3k2            [768, 512, 1, True]           \n",
      " 20                  -1  1   2360320  ultralytics.nn.modules.conv.Conv             [512, 512, 3, 2]              \n",
      " 21            [-1, 10]  1         0  ultralytics.nn.modules.conv.Concat           [1]                           \n",
      " 22                  -1  1   1642496  ultralytics.nn.modules.block.C3k2            [1024, 512, 1, True]          \n",
      " 23        [16, 19, 22]  1   1414108  ultralytics.nn.modules.head.Detect           [4, [256, 512, 512]]          \n",
      "YOLO11m summary: 409 layers, 20,056,092 parameters, 20,056,076 gradients, 68.2 GFLOPs\n",
      "\n",
      "Transferred 649/649 items from pretrained weights\n",
      "Freezing layer 'model.23.dfl.conv.weight'\n",
      "\u001b[34m\u001b[1mAMP: \u001b[0mrunning Automatic Mixed Precision (AMP) checks...\n",
      "\u001b[34m\u001b[1mAMP: \u001b[0mchecks passed \n"
     ]
    },
    {
     "name": "stderr",
     "output_type": "stream",
     "text": [
      "\u001b[34m\u001b[1mtrain: \u001b[0mScanning C:\\Users\\Ivan\\Desktop\\card\\Vehicles-coco-2\\train\\labels.cache... 13300 images, 0 backgrounds, 0 corrupt: 100%|██████████| 13300/13300 [00:00<?, ?it/s]"
     ]
    },
    {
     "name": "stdout",
     "output_type": "stream",
     "text": [
      "\u001b[34m\u001b[1mtrain: \u001b[0mWARNING  C:\\Users\\Ivan\\Desktop\\card\\Vehicles-coco-2\\train\\images\\000000099844_jpg.rf.a6e49a101154c78a342399f1861d9448.jpg: 2 duplicate labels removed\n"
     ]
    },
    {
     "name": "stderr",
     "output_type": "stream",
     "text": [
      "\n",
      "\u001b[34m\u001b[1mval: \u001b[0mScanning C:\\Users\\Ivan\\Desktop\\card\\Vehicles-coco-2\\valid\\labels.cache... 3798 images, 0 backgrounds, 0 corrupt: 100%|██████████| 3798/3798 [00:00<?, ?it/s]\n"
     ]
    },
    {
     "name": "stdout",
     "output_type": "stream",
     "text": [
      "Plotting labels to runs\\detect\\train6\\labels.jpg... \n",
      "\u001b[34m\u001b[1moptimizer:\u001b[0m 'optimizer=auto' found, ignoring 'lr0=0.01' and 'momentum=0.937' and determining best 'optimizer', 'lr0' and 'momentum' automatically... \n",
      "\u001b[34m\u001b[1moptimizer:\u001b[0m SGD(lr=0.01, momentum=0.9) with parameter groups 106 weight(decay=0.0), 113 weight(decay=0.0005), 112 bias(decay=0.0)\n",
      "Image sizes 640 train, 640 val\n",
      "Using 8 dataloader workers\n",
      "Logging results to \u001b[1mruns\\detect\\train6\u001b[0m\n",
      "Starting training for 50 epochs...\n",
      "\n",
      "      Epoch    GPU_mem   box_loss   cls_loss   dfl_loss  Instances       Size\n"
     ]
    },
    {
     "name": "stderr",
     "output_type": "stream",
     "text": [
      "       1/50      4.43G     0.8478     0.6842      1.063         28        640: 100%|██████████| 1663/1663 [05:44<00:00,  4.82it/s]\n",
      "                 Class     Images  Instances      Box(P          R      mAP50  mAP50-95): 100%|██████████| 238/238 [00:41<00:00,  5.79it/s]\n"
     ]
    },
    {
     "name": "stdout",
     "output_type": "stream",
     "text": [
      "                   all       3798      14361      0.739       0.65      0.719      0.518\n",
      "\n",
      "      Epoch    GPU_mem   box_loss   cls_loss   dfl_loss  Instances       Size\n"
     ]
    },
    {
     "name": "stderr",
     "output_type": "stream",
     "text": [
      "       2/50      4.53G     0.8719     0.7304      1.075         23        640: 100%|██████████| 1663/1663 [05:21<00:00,  5.17it/s]\n",
      "                 Class     Images  Instances      Box(P          R      mAP50  mAP50-95): 100%|██████████| 238/238 [00:39<00:00,  6.02it/s]\n"
     ]
    },
    {
     "name": "stdout",
     "output_type": "stream",
     "text": [
      "                   all       3798      14361      0.745      0.621      0.698      0.497\n",
      "\n",
      "      Epoch    GPU_mem   box_loss   cls_loss   dfl_loss  Instances       Size\n"
     ]
    },
    {
     "name": "stderr",
     "output_type": "stream",
     "text": [
      "       3/50      4.57G     0.9278     0.8324      1.102         24        640: 100%|██████████| 1663/1663 [05:16<00:00,  5.25it/s]\n",
      "                 Class     Images  Instances      Box(P          R      mAP50  mAP50-95): 100%|██████████| 238/238 [00:39<00:00,  6.02it/s]\n"
     ]
    },
    {
     "name": "stdout",
     "output_type": "stream",
     "text": [
      "                   all       3798      14361      0.722      0.604      0.674       0.47\n",
      "\n",
      "      Epoch    GPU_mem   box_loss   cls_loss   dfl_loss  Instances       Size\n"
     ]
    },
    {
     "name": "stderr",
     "output_type": "stream",
     "text": [
      "       4/50      4.55G      1.008     0.9669      1.156         28        640: 100%|██████████| 1663/1663 [05:16<00:00,  5.25it/s]\n",
      "                 Class     Images  Instances      Box(P          R      mAP50  mAP50-95): 100%|██████████| 238/238 [00:39<00:00,  5.99it/s]\n"
     ]
    },
    {
     "name": "stdout",
     "output_type": "stream",
     "text": [
      "                   all       3798      14361      0.721      0.606      0.675      0.467\n",
      "\n",
      "      Epoch    GPU_mem   box_loss   cls_loss   dfl_loss  Instances       Size\n"
     ]
    },
    {
     "name": "stderr",
     "output_type": "stream",
     "text": [
      "       5/50      4.58G      1.024     0.9961      1.167         21        640: 100%|██████████| 1663/1663 [05:15<00:00,  5.26it/s]\n",
      "                 Class     Images  Instances      Box(P          R      mAP50  mAP50-95): 100%|██████████| 238/238 [00:39<00:00,  6.03it/s]\n"
     ]
    },
    {
     "name": "stdout",
     "output_type": "stream",
     "text": [
      "                   all       3798      14361      0.715       0.59      0.661      0.457\n",
      "\n",
      "      Epoch    GPU_mem   box_loss   cls_loss   dfl_loss  Instances       Size\n"
     ]
    },
    {
     "name": "stderr",
     "output_type": "stream",
     "text": [
      "       6/50      4.58G      1.027      1.011      1.171         40        640: 100%|██████████| 1663/1663 [05:14<00:00,  5.28it/s]\n",
      "                 Class     Images  Instances      Box(P          R      mAP50  mAP50-95): 100%|██████████| 238/238 [00:39<00:00,  6.04it/s]\n"
     ]
    },
    {
     "name": "stdout",
     "output_type": "stream",
     "text": [
      "                   all       3798      14361      0.719        0.6       0.67      0.464\n",
      "\n",
      "      Epoch    GPU_mem   box_loss   cls_loss   dfl_loss  Instances       Size\n"
     ]
    },
    {
     "name": "stderr",
     "output_type": "stream",
     "text": [
      "       7/50      4.58G      1.026      1.001      1.171         27        640: 100%|██████████| 1663/1663 [05:15<00:00,  5.27it/s]\n",
      "                 Class     Images  Instances      Box(P          R      mAP50  mAP50-95): 100%|██████████| 238/238 [00:39<00:00,  6.04it/s]\n"
     ]
    },
    {
     "name": "stdout",
     "output_type": "stream",
     "text": [
      "                   all       3798      14361      0.726       0.59      0.669      0.466\n",
      "\n",
      "      Epoch    GPU_mem   box_loss   cls_loss   dfl_loss  Instances       Size\n"
     ]
    },
    {
     "name": "stderr",
     "output_type": "stream",
     "text": [
      "       8/50      4.58G      1.017     0.9881      1.165         26        640: 100%|██████████| 1663/1663 [05:15<00:00,  5.27it/s]\n",
      "                 Class     Images  Instances      Box(P          R      mAP50  mAP50-95): 100%|██████████| 238/238 [00:39<00:00,  6.01it/s]\n"
     ]
    },
    {
     "name": "stdout",
     "output_type": "stream",
     "text": [
      "                   all       3798      14361      0.737      0.595      0.675      0.473\n",
      "\n",
      "      Epoch    GPU_mem   box_loss   cls_loss   dfl_loss  Instances       Size\n"
     ]
    },
    {
     "name": "stderr",
     "output_type": "stream",
     "text": [
      "       9/50      4.58G      1.022     0.9948      1.163         11        640: 100%|██████████| 1663/1663 [05:14<00:00,  5.28it/s]\n",
      "                 Class     Images  Instances      Box(P          R      mAP50  mAP50-95): 100%|██████████| 238/238 [00:39<00:00,  6.00it/s]\n"
     ]
    },
    {
     "name": "stdout",
     "output_type": "stream",
     "text": [
      "                   all       3798      14361      0.736        0.6      0.676      0.469\n",
      "\n",
      "      Epoch    GPU_mem   box_loss   cls_loss   dfl_loss  Instances       Size\n"
     ]
    },
    {
     "name": "stderr",
     "output_type": "stream",
     "text": [
      "      10/50      4.56G      1.016     0.9824      1.163         37        640: 100%|██████████| 1663/1663 [05:15<00:00,  5.27it/s]\n",
      "                 Class     Images  Instances      Box(P          R      mAP50  mAP50-95): 100%|██████████| 238/238 [00:39<00:00,  6.02it/s]\n"
     ]
    },
    {
     "name": "stdout",
     "output_type": "stream",
     "text": [
      "                   all       3798      14361      0.722      0.603      0.674       0.47\n",
      "\n",
      "      Epoch    GPU_mem   box_loss   cls_loss   dfl_loss  Instances       Size\n"
     ]
    },
    {
     "name": "stderr",
     "output_type": "stream",
     "text": [
      "      11/50      4.58G      1.012      0.986      1.159         31        640: 100%|██████████| 1663/1663 [05:15<00:00,  5.27it/s]\n",
      "                 Class     Images  Instances      Box(P          R      mAP50  mAP50-95): 100%|██████████| 238/238 [00:39<00:00,  6.04it/s]\n"
     ]
    },
    {
     "name": "stdout",
     "output_type": "stream",
     "text": [
      "                   all       3798      14361      0.725      0.599      0.676      0.473\n",
      "\n",
      "      Epoch    GPU_mem   box_loss   cls_loss   dfl_loss  Instances       Size\n"
     ]
    },
    {
     "name": "stderr",
     "output_type": "stream",
     "text": [
      "      12/50      4.53G       1.01     0.9692      1.158         22        640: 100%|██████████| 1663/1663 [05:14<00:00,  5.28it/s]\n",
      "                 Class     Images  Instances      Box(P          R      mAP50  mAP50-95): 100%|██████████| 238/238 [00:39<00:00,  6.02it/s]\n"
     ]
    },
    {
     "name": "stdout",
     "output_type": "stream",
     "text": [
      "                   all       3798      14361      0.727      0.602      0.678      0.472\n",
      "\n",
      "      Epoch    GPU_mem   box_loss   cls_loss   dfl_loss  Instances       Size\n"
     ]
    },
    {
     "name": "stderr",
     "output_type": "stream",
     "text": [
      "      13/50      4.58G      1.001     0.9628      1.153         28        640: 100%|██████████| 1663/1663 [05:15<00:00,  5.27it/s]\n",
      "                 Class     Images  Instances      Box(P          R      mAP50  mAP50-95): 100%|██████████| 238/238 [00:39<00:00,  6.04it/s]\n"
     ]
    },
    {
     "name": "stdout",
     "output_type": "stream",
     "text": [
      "                   all       3798      14361      0.725      0.609      0.684      0.481\n",
      "\n",
      "      Epoch    GPU_mem   box_loss   cls_loss   dfl_loss  Instances       Size\n"
     ]
    },
    {
     "name": "stderr",
     "output_type": "stream",
     "text": [
      "      14/50      4.57G      1.003     0.9572      1.152         36        640: 100%|██████████| 1663/1663 [05:15<00:00,  5.27it/s]\n",
      "                 Class     Images  Instances      Box(P          R      mAP50  mAP50-95): 100%|██████████| 238/238 [00:39<00:00,  6.01it/s]\n"
     ]
    },
    {
     "name": "stdout",
     "output_type": "stream",
     "text": [
      "                   all       3798      14361      0.733      0.597       0.68      0.477\n",
      "\n",
      "      Epoch    GPU_mem   box_loss   cls_loss   dfl_loss  Instances       Size\n"
     ]
    },
    {
     "name": "stderr",
     "output_type": "stream",
     "text": [
      "      15/50      4.58G     0.9902     0.9465      1.146         20        640: 100%|██████████| 1663/1663 [05:15<00:00,  5.27it/s]\n",
      "                 Class     Images  Instances      Box(P          R      mAP50  mAP50-95): 100%|██████████| 238/238 [00:39<00:00,  5.99it/s]\n"
     ]
    },
    {
     "name": "stdout",
     "output_type": "stream",
     "text": [
      "                   all       3798      14361      0.718      0.616      0.685      0.483\n",
      "\n",
      "      Epoch    GPU_mem   box_loss   cls_loss   dfl_loss  Instances       Size\n"
     ]
    },
    {
     "name": "stderr",
     "output_type": "stream",
     "text": [
      "      16/50      4.58G     0.9844     0.9364      1.141         21        640: 100%|██████████| 1663/1663 [05:15<00:00,  5.27it/s]\n",
      "                 Class     Images  Instances      Box(P          R      mAP50  mAP50-95): 100%|██████████| 238/238 [00:39<00:00,  6.01it/s]\n"
     ]
    },
    {
     "name": "stdout",
     "output_type": "stream",
     "text": [
      "                   all       3798      14361      0.736      0.609      0.687      0.481\n",
      "\n",
      "      Epoch    GPU_mem   box_loss   cls_loss   dfl_loss  Instances       Size\n"
     ]
    },
    {
     "name": "stderr",
     "output_type": "stream",
     "text": [
      "      17/50      4.58G     0.9825      0.922      1.138         21        640: 100%|██████████| 1663/1663 [05:15<00:00,  5.27it/s]\n",
      "                 Class     Images  Instances      Box(P          R      mAP50  mAP50-95): 100%|██████████| 238/238 [00:39<00:00,  6.05it/s]\n"
     ]
    },
    {
     "name": "stdout",
     "output_type": "stream",
     "text": [
      "                   all       3798      14361      0.741      0.619      0.695       0.49\n",
      "\n",
      "      Epoch    GPU_mem   box_loss   cls_loss   dfl_loss  Instances       Size\n"
     ]
    },
    {
     "name": "stderr",
     "output_type": "stream",
     "text": [
      "      18/50      4.57G     0.9806     0.9142      1.143         18        640: 100%|██████████| 1663/1663 [05:14<00:00,  5.28it/s]\n",
      "                 Class     Images  Instances      Box(P          R      mAP50  mAP50-95): 100%|██████████| 238/238 [00:39<00:00,  6.04it/s]\n"
     ]
    },
    {
     "name": "stdout",
     "output_type": "stream",
     "text": [
      "                   all       3798      14361      0.731      0.625      0.697      0.492\n",
      "\n",
      "      Epoch    GPU_mem   box_loss   cls_loss   dfl_loss  Instances       Size\n"
     ]
    },
    {
     "name": "stderr",
     "output_type": "stream",
     "text": [
      "      19/50      4.57G     0.9708     0.8993      1.133         11        640: 100%|██████████| 1663/1663 [05:15<00:00,  5.28it/s]\n",
      "                 Class     Images  Instances      Box(P          R      mAP50  mAP50-95): 100%|██████████| 238/238 [00:39<00:00,  6.02it/s]\n"
     ]
    },
    {
     "name": "stdout",
     "output_type": "stream",
     "text": [
      "                   all       3798      14361      0.737      0.618      0.694       0.49\n",
      "\n",
      "      Epoch    GPU_mem   box_loss   cls_loss   dfl_loss  Instances       Size\n"
     ]
    },
    {
     "name": "stderr",
     "output_type": "stream",
     "text": [
      "      20/50      4.54G     0.9705     0.9002      1.132         15        640: 100%|██████████| 1663/1663 [05:15<00:00,  5.27it/s]\n",
      "                 Class     Images  Instances      Box(P          R      mAP50  mAP50-95): 100%|██████████| 238/238 [00:39<00:00,  6.01it/s]\n"
     ]
    },
    {
     "name": "stdout",
     "output_type": "stream",
     "text": [
      "                   all       3798      14361      0.727      0.626      0.695      0.491\n",
      "\n",
      "      Epoch    GPU_mem   box_loss   cls_loss   dfl_loss  Instances       Size\n"
     ]
    },
    {
     "name": "stderr",
     "output_type": "stream",
     "text": [
      "      21/50      4.61G     0.9619     0.8833       1.13         19        640: 100%|██████████| 1663/1663 [05:15<00:00,  5.27it/s]\n",
      "                 Class     Images  Instances      Box(P          R      mAP50  mAP50-95): 100%|██████████| 238/238 [00:39<00:00,  6.01it/s]\n"
     ]
    },
    {
     "name": "stdout",
     "output_type": "stream",
     "text": [
      "                   all       3798      14361      0.743      0.628      0.701      0.496\n",
      "\n",
      "      Epoch    GPU_mem   box_loss   cls_loss   dfl_loss  Instances       Size\n"
     ]
    },
    {
     "name": "stderr",
     "output_type": "stream",
     "text": [
      "      22/50      4.58G     0.9607     0.8705      1.125         14        640: 100%|██████████| 1663/1663 [05:15<00:00,  5.27it/s]\n",
      "                 Class     Images  Instances      Box(P          R      mAP50  mAP50-95): 100%|██████████| 238/238 [00:39<00:00,  6.01it/s]\n"
     ]
    },
    {
     "name": "stdout",
     "output_type": "stream",
     "text": [
      "                   all       3798      14361      0.735      0.626      0.702      0.495\n",
      "\n",
      "      Epoch    GPU_mem   box_loss   cls_loss   dfl_loss  Instances       Size\n"
     ]
    },
    {
     "name": "stderr",
     "output_type": "stream",
     "text": [
      "      23/50      4.58G     0.9508     0.8628      1.118          7        640: 100%|██████████| 1663/1663 [05:15<00:00,  5.27it/s]\n",
      "                 Class     Images  Instances      Box(P          R      mAP50  mAP50-95): 100%|██████████| 238/238 [00:39<00:00,  6.02it/s]\n"
     ]
    },
    {
     "name": "stdout",
     "output_type": "stream",
     "text": [
      "                   all       3798      14361      0.722       0.64      0.703      0.498\n",
      "\n",
      "      Epoch    GPU_mem   box_loss   cls_loss   dfl_loss  Instances       Size\n"
     ]
    },
    {
     "name": "stderr",
     "output_type": "stream",
     "text": [
      "      24/50      4.57G     0.9405     0.8474      1.111         34        640: 100%|██████████| 1663/1663 [05:15<00:00,  5.27it/s]\n",
      "                 Class     Images  Instances      Box(P          R      mAP50  mAP50-95): 100%|██████████| 238/238 [00:39<00:00,  6.04it/s]\n"
     ]
    },
    {
     "name": "stdout",
     "output_type": "stream",
     "text": [
      "                   all       3798      14361      0.744      0.632      0.707      0.502\n",
      "\n",
      "      Epoch    GPU_mem   box_loss   cls_loss   dfl_loss  Instances       Size\n"
     ]
    },
    {
     "name": "stderr",
     "output_type": "stream",
     "text": [
      "      25/50      4.58G      0.944     0.8461      1.118         23        640: 100%|██████████| 1663/1663 [05:15<00:00,  5.28it/s]\n",
      "                 Class     Images  Instances      Box(P          R      mAP50  mAP50-95): 100%|██████████| 238/238 [00:39<00:00,  5.95it/s]\n"
     ]
    },
    {
     "name": "stdout",
     "output_type": "stream",
     "text": [
      "                   all       3798      14361       0.74      0.634       0.71      0.504\n",
      "\n",
      "      Epoch    GPU_mem   box_loss   cls_loss   dfl_loss  Instances       Size\n"
     ]
    },
    {
     "name": "stderr",
     "output_type": "stream",
     "text": [
      "      26/50      4.57G     0.9404     0.8366      1.113         15        640: 100%|██████████| 1663/1663 [05:15<00:00,  5.27it/s]\n",
      "                 Class     Images  Instances      Box(P          R      mAP50  mAP50-95): 100%|██████████| 238/238 [00:39<00:00,  6.02it/s]\n"
     ]
    },
    {
     "name": "stdout",
     "output_type": "stream",
     "text": [
      "                   all       3798      14361      0.742      0.633      0.708      0.504\n",
      "\n",
      "      Epoch    GPU_mem   box_loss   cls_loss   dfl_loss  Instances       Size\n"
     ]
    },
    {
     "name": "stderr",
     "output_type": "stream",
     "text": [
      "      27/50      4.59G     0.9311     0.8317      1.107          9        640: 100%|██████████| 1663/1663 [05:15<00:00,  5.27it/s]\n",
      "                 Class     Images  Instances      Box(P          R      mAP50  mAP50-95): 100%|██████████| 238/238 [00:39<00:00,  6.00it/s]\n"
     ]
    },
    {
     "name": "stdout",
     "output_type": "stream",
     "text": [
      "                   all       3798      14361      0.757      0.627      0.707      0.501\n",
      "\n",
      "      Epoch    GPU_mem   box_loss   cls_loss   dfl_loss  Instances       Size\n"
     ]
    },
    {
     "name": "stderr",
     "output_type": "stream",
     "text": [
      "      28/50      4.53G     0.9291      0.818      1.106         14        640: 100%|██████████| 1663/1663 [05:15<00:00,  5.28it/s]\n",
      "                 Class     Images  Instances      Box(P          R      mAP50  mAP50-95): 100%|██████████| 238/238 [00:39<00:00,  6.00it/s]\n"
     ]
    },
    {
     "name": "stdout",
     "output_type": "stream",
     "text": [
      "                   all       3798      14361      0.744       0.64      0.711      0.505\n",
      "\n",
      "      Epoch    GPU_mem   box_loss   cls_loss   dfl_loss  Instances       Size\n"
     ]
    },
    {
     "name": "stderr",
     "output_type": "stream",
     "text": [
      "      29/50      4.58G     0.9197     0.8059      1.101         18        640: 100%|██████████| 1663/1663 [05:14<00:00,  5.28it/s]\n",
      "                 Class     Images  Instances      Box(P          R      mAP50  mAP50-95): 100%|██████████| 238/238 [00:39<00:00,  6.04it/s]\n"
     ]
    },
    {
     "name": "stdout",
     "output_type": "stream",
     "text": [
      "                   all       3798      14361      0.749      0.635      0.712      0.507\n",
      "\n",
      "      Epoch    GPU_mem   box_loss   cls_loss   dfl_loss  Instances       Size\n"
     ]
    },
    {
     "name": "stderr",
     "output_type": "stream",
     "text": [
      "      30/50      4.58G     0.9165     0.7915      1.098         12        640: 100%|██████████| 1663/1663 [05:15<00:00,  5.27it/s]\n",
      "                 Class     Images  Instances      Box(P          R      mAP50  mAP50-95): 100%|██████████| 238/238 [00:39<00:00,  6.06it/s]\n"
     ]
    },
    {
     "name": "stdout",
     "output_type": "stream",
     "text": [
      "                   all       3798      14361      0.736       0.64      0.708      0.505\n",
      "\n",
      "      Epoch    GPU_mem   box_loss   cls_loss   dfl_loss  Instances       Size\n"
     ]
    },
    {
     "name": "stderr",
     "output_type": "stream",
     "text": [
      "      31/50      4.58G      0.908     0.7914      1.094         28        640: 100%|██████████| 1663/1663 [05:15<00:00,  5.27it/s]\n",
      "                 Class     Images  Instances      Box(P          R      mAP50  mAP50-95): 100%|██████████| 238/238 [00:39<00:00,  6.05it/s]\n"
     ]
    },
    {
     "name": "stdout",
     "output_type": "stream",
     "text": [
      "                   all       3798      14361      0.746      0.634      0.709      0.505\n",
      "\n",
      "      Epoch    GPU_mem   box_loss   cls_loss   dfl_loss  Instances       Size\n"
     ]
    },
    {
     "name": "stderr",
     "output_type": "stream",
     "text": [
      "      32/50      4.58G     0.9041     0.7775      1.092         16        640: 100%|██████████| 1663/1663 [05:15<00:00,  5.28it/s]\n",
      "                 Class     Images  Instances      Box(P          R      mAP50  mAP50-95): 100%|██████████| 238/238 [00:39<00:00,  6.02it/s]\n"
     ]
    },
    {
     "name": "stdout",
     "output_type": "stream",
     "text": [
      "                   all       3798      14361      0.751      0.633       0.71      0.506\n",
      "\n",
      "      Epoch    GPU_mem   box_loss   cls_loss   dfl_loss  Instances       Size\n"
     ]
    },
    {
     "name": "stderr",
     "output_type": "stream",
     "text": [
      "      33/50      4.58G     0.8943     0.7709      1.086         15        640: 100%|██████████| 1663/1663 [05:15<00:00,  5.27it/s]\n",
      "                 Class     Images  Instances      Box(P          R      mAP50  mAP50-95): 100%|██████████| 238/238 [00:39<00:00,  6.02it/s]\n"
     ]
    },
    {
     "name": "stdout",
     "output_type": "stream",
     "text": [
      "                   all       3798      14361       0.77      0.617       0.71      0.506\n",
      "\n",
      "      Epoch    GPU_mem   box_loss   cls_loss   dfl_loss  Instances       Size\n"
     ]
    },
    {
     "name": "stderr",
     "output_type": "stream",
     "text": [
      "      34/50      4.57G     0.8934     0.7631      1.088          7        640: 100%|██████████| 1663/1663 [05:15<00:00,  5.26it/s]\n",
      "                 Class     Images  Instances      Box(P          R      mAP50  mAP50-95): 100%|██████████| 238/238 [00:39<00:00,  6.01it/s]\n"
     ]
    },
    {
     "name": "stdout",
     "output_type": "stream",
     "text": [
      "                   all       3798      14361      0.754      0.634      0.711      0.509\n",
      "\n",
      "      Epoch    GPU_mem   box_loss   cls_loss   dfl_loss  Instances       Size\n"
     ]
    },
    {
     "name": "stderr",
     "output_type": "stream",
     "text": [
      "      35/50      4.58G     0.8862     0.7471       1.08         15        640: 100%|██████████| 1663/1663 [05:15<00:00,  5.28it/s]\n",
      "                 Class     Images  Instances      Box(P          R      mAP50  mAP50-95): 100%|██████████| 238/238 [00:39<00:00,  6.05it/s]\n"
     ]
    },
    {
     "name": "stdout",
     "output_type": "stream",
     "text": [
      "                   all       3798      14361      0.753      0.638      0.713      0.509\n",
      "\n",
      "      Epoch    GPU_mem   box_loss   cls_loss   dfl_loss  Instances       Size\n"
     ]
    },
    {
     "name": "stderr",
     "output_type": "stream",
     "text": [
      "      36/50      4.54G     0.8817     0.7387      1.076         34        640: 100%|██████████| 1663/1663 [05:15<00:00,  5.27it/s]\n",
      "                 Class     Images  Instances      Box(P          R      mAP50  mAP50-95): 100%|██████████| 238/238 [00:39<00:00,  6.06it/s]\n"
     ]
    },
    {
     "name": "stdout",
     "output_type": "stream",
     "text": [
      "                   all       3798      14361      0.757       0.64      0.717      0.511\n",
      "\n",
      "      Epoch    GPU_mem   box_loss   cls_loss   dfl_loss  Instances       Size\n"
     ]
    },
    {
     "name": "stderr",
     "output_type": "stream",
     "text": [
      "      37/50      4.55G     0.8746     0.7259      1.075         12        640: 100%|██████████| 1663/1663 [05:15<00:00,  5.27it/s]\n",
      "                 Class     Images  Instances      Box(P          R      mAP50  mAP50-95): 100%|██████████| 238/238 [00:39<00:00,  6.05it/s]\n"
     ]
    },
    {
     "name": "stdout",
     "output_type": "stream",
     "text": [
      "                   all       3798      14361      0.768      0.631      0.716      0.511\n",
      "\n",
      "      Epoch    GPU_mem   box_loss   cls_loss   dfl_loss  Instances       Size\n"
     ]
    },
    {
     "name": "stderr",
     "output_type": "stream",
     "text": [
      "      38/50      4.57G     0.8681     0.7188      1.074         29        640: 100%|██████████| 1663/1663 [05:15<00:00,  5.27it/s]\n",
      "                 Class     Images  Instances      Box(P          R      mAP50  mAP50-95): 100%|██████████| 238/238 [00:39<00:00,  6.02it/s]\n"
     ]
    },
    {
     "name": "stdout",
     "output_type": "stream",
     "text": [
      "                   all       3798      14361      0.762      0.636      0.714      0.511\n",
      "\n",
      "      Epoch    GPU_mem   box_loss   cls_loss   dfl_loss  Instances       Size\n"
     ]
    },
    {
     "name": "stderr",
     "output_type": "stream",
     "text": [
      "      39/50      4.56G     0.8663     0.7079      1.067         21        640: 100%|██████████| 1663/1663 [05:15<00:00,  5.27it/s]\n",
      "                 Class     Images  Instances      Box(P          R      mAP50  mAP50-95): 100%|██████████| 238/238 [00:39<00:00,  6.02it/s]"
     ]
    },
    {
     "name": "stdout",
     "output_type": "stream",
     "text": [
      "                   all       3798      14361       0.76      0.638      0.714       0.51\n"
     ]
    },
    {
     "name": "stderr",
     "output_type": "stream",
     "text": [
      "\n"
     ]
    },
    {
     "name": "stdout",
     "output_type": "stream",
     "text": [
      "\n",
      "      Epoch    GPU_mem   box_loss   cls_loss   dfl_loss  Instances       Size\n"
     ]
    },
    {
     "name": "stderr",
     "output_type": "stream",
     "text": [
      "      40/50      4.58G      0.851     0.6977      1.064         24        640: 100%|██████████| 1663/1663 [05:15<00:00,  5.27it/s]\n",
      "                 Class     Images  Instances      Box(P          R      mAP50  mAP50-95): 100%|██████████| 238/238 [00:39<00:00,  6.02it/s]"
     ]
    },
    {
     "name": "stdout",
     "output_type": "stream",
     "text": [
      "                   all       3798      14361      0.756      0.643      0.716      0.512\n"
     ]
    },
    {
     "name": "stderr",
     "output_type": "stream",
     "text": [
      "\n"
     ]
    },
    {
     "name": "stdout",
     "output_type": "stream",
     "text": [
      "Closing dataloader mosaic\n",
      "\n",
      "      Epoch    GPU_mem   box_loss   cls_loss   dfl_loss  Instances       Size\n"
     ]
    },
    {
     "name": "stderr",
     "output_type": "stream",
     "text": [
      "      41/50      4.57G     0.8485     0.6202      1.039         13        640: 100%|██████████| 1663/1663 [05:24<00:00,  5.12it/s]\n",
      "                 Class     Images  Instances      Box(P          R      mAP50  mAP50-95): 100%|██████████| 238/238 [00:40<00:00,  5.84it/s]"
     ]
    },
    {
     "name": "stdout",
     "output_type": "stream",
     "text": [
      "                   all       3798      14361      0.766      0.634      0.713       0.51\n"
     ]
    },
    {
     "name": "stderr",
     "output_type": "stream",
     "text": [
      "\n"
     ]
    },
    {
     "name": "stdout",
     "output_type": "stream",
     "text": [
      "\n",
      "      Epoch    GPU_mem   box_loss   cls_loss   dfl_loss  Instances       Size\n"
     ]
    },
    {
     "name": "stderr",
     "output_type": "stream",
     "text": [
      "      42/50      4.58G     0.8419     0.6062      1.036          7        640: 100%|██████████| 1663/1663 [05:25<00:00,  5.11it/s]\n",
      "                 Class     Images  Instances      Box(P          R      mAP50  mAP50-95): 100%|██████████| 238/238 [00:40<00:00,  5.88it/s]"
     ]
    },
    {
     "name": "stdout",
     "output_type": "stream",
     "text": [
      "                   all       3798      14361      0.748      0.642      0.711       0.51\n"
     ]
    },
    {
     "name": "stderr",
     "output_type": "stream",
     "text": [
      "\n"
     ]
    },
    {
     "name": "stdout",
     "output_type": "stream",
     "text": [
      "\n",
      "      Epoch    GPU_mem   box_loss   cls_loss   dfl_loss  Instances       Size\n"
     ]
    },
    {
     "name": "stderr",
     "output_type": "stream",
     "text": [
      "      43/50      4.57G     0.8346     0.5975       1.03         11        640: 100%|██████████| 1663/1663 [05:26<00:00,  5.09it/s]\n",
      "                 Class     Images  Instances      Box(P          R      mAP50  mAP50-95): 100%|██████████| 238/238 [00:40<00:00,  5.92it/s]"
     ]
    },
    {
     "name": "stdout",
     "output_type": "stream",
     "text": [
      "                   all       3798      14361      0.756      0.639       0.71      0.509\n"
     ]
    },
    {
     "name": "stderr",
     "output_type": "stream",
     "text": [
      "\n"
     ]
    },
    {
     "name": "stdout",
     "output_type": "stream",
     "text": [
      "\n",
      "      Epoch    GPU_mem   box_loss   cls_loss   dfl_loss  Instances       Size\n"
     ]
    },
    {
     "name": "stderr",
     "output_type": "stream",
     "text": [
      "      44/50      4.53G     0.8224     0.5782      1.018         16        640: 100%|██████████| 1663/1663 [05:24<00:00,  5.12it/s]\n",
      "                 Class     Images  Instances      Box(P          R      mAP50  mAP50-95): 100%|██████████| 238/238 [00:40<00:00,  5.81it/s]"
     ]
    },
    {
     "name": "stdout",
     "output_type": "stream",
     "text": [
      "                   all       3798      14361       0.74      0.648      0.709      0.508\n"
     ]
    },
    {
     "name": "stderr",
     "output_type": "stream",
     "text": [
      "\n"
     ]
    },
    {
     "name": "stdout",
     "output_type": "stream",
     "text": [
      "\n",
      "      Epoch    GPU_mem   box_loss   cls_loss   dfl_loss  Instances       Size\n"
     ]
    },
    {
     "name": "stderr",
     "output_type": "stream",
     "text": [
      "      45/50      4.56G     0.8201     0.5717      1.019         30        640: 100%|██████████| 1663/1663 [05:25<00:00,  5.11it/s]\n",
      "                 Class     Images  Instances      Box(P          R      mAP50  mAP50-95): 100%|██████████| 238/238 [00:40<00:00,  5.81it/s]"
     ]
    },
    {
     "name": "stdout",
     "output_type": "stream",
     "text": [
      "                   all       3798      14361      0.756      0.638      0.708      0.507\n"
     ]
    },
    {
     "name": "stderr",
     "output_type": "stream",
     "text": [
      "\n"
     ]
    },
    {
     "name": "stdout",
     "output_type": "stream",
     "text": [
      "\n",
      "      Epoch    GPU_mem   box_loss   cls_loss   dfl_loss  Instances       Size\n"
     ]
    },
    {
     "name": "stderr",
     "output_type": "stream",
     "text": [
      "      46/50      4.57G     0.8093     0.5591      1.017         15        640: 100%|██████████| 1663/1663 [05:25<00:00,  5.11it/s]\n",
      "                 Class     Images  Instances      Box(P          R      mAP50  mAP50-95): 100%|██████████| 238/238 [00:40<00:00,  5.89it/s]"
     ]
    },
    {
     "name": "stdout",
     "output_type": "stream",
     "text": [
      "                   all       3798      14361      0.765      0.634      0.709      0.508\n"
     ]
    },
    {
     "name": "stderr",
     "output_type": "stream",
     "text": [
      "\n"
     ]
    },
    {
     "name": "stdout",
     "output_type": "stream",
     "text": [
      "\n",
      "      Epoch    GPU_mem   box_loss   cls_loss   dfl_loss  Instances       Size\n"
     ]
    },
    {
     "name": "stderr",
     "output_type": "stream",
     "text": [
      "      47/50      4.57G     0.8044     0.5517      1.015         12        640: 100%|██████████| 1663/1663 [06:38<00:00,  4.18it/s]\n",
      "                 Class     Images  Instances      Box(P          R      mAP50  mAP50-95): 100%|██████████| 238/238 [00:54<00:00,  4.33it/s]"
     ]
    },
    {
     "name": "stdout",
     "output_type": "stream",
     "text": [
      "                   all       3798      14361      0.756      0.635      0.708      0.509\n"
     ]
    },
    {
     "name": "stderr",
     "output_type": "stream",
     "text": [
      "\n"
     ]
    },
    {
     "name": "stdout",
     "output_type": "stream",
     "text": [
      "\n",
      "      Epoch    GPU_mem   box_loss   cls_loss   dfl_loss  Instances       Size\n"
     ]
    },
    {
     "name": "stderr",
     "output_type": "stream",
     "text": [
      "      48/50      4.58G     0.7899     0.5343      1.003         31        640: 100%|██████████| 1663/1663 [06:49<00:00,  4.06it/s]\n",
      "                 Class     Images  Instances      Box(P          R      mAP50  mAP50-95): 100%|██████████| 238/238 [00:39<00:00,  5.98it/s]"
     ]
    },
    {
     "name": "stdout",
     "output_type": "stream",
     "text": [
      "                   all       3798      14361       0.76      0.631      0.707      0.508\n"
     ]
    },
    {
     "name": "stderr",
     "output_type": "stream",
     "text": [
      "\n"
     ]
    },
    {
     "name": "stdout",
     "output_type": "stream",
     "text": [
      "\n",
      "      Epoch    GPU_mem   box_loss   cls_loss   dfl_loss  Instances       Size\n"
     ]
    },
    {
     "name": "stderr",
     "output_type": "stream",
     "text": [
      "      49/50      4.57G     0.7861     0.5284      1.003         11        640: 100%|██████████| 1663/1663 [05:39<00:00,  4.90it/s]\n",
      "                 Class     Images  Instances      Box(P          R      mAP50  mAP50-95): 100%|██████████| 238/238 [00:40<00:00,  5.93it/s]"
     ]
    },
    {
     "name": "stdout",
     "output_type": "stream",
     "text": [
      "                   all       3798      14361      0.759      0.628      0.704      0.507\n"
     ]
    },
    {
     "name": "stderr",
     "output_type": "stream",
     "text": [
      "\n"
     ]
    },
    {
     "name": "stdout",
     "output_type": "stream",
     "text": [
      "\n",
      "      Epoch    GPU_mem   box_loss   cls_loss   dfl_loss  Instances       Size\n"
     ]
    },
    {
     "name": "stderr",
     "output_type": "stream",
     "text": [
      "      50/50      4.56G     0.7808     0.5238     0.9986         16        640: 100%|██████████| 1663/1663 [05:22<00:00,  5.16it/s]\n",
      "                 Class     Images  Instances      Box(P          R      mAP50  mAP50-95): 100%|██████████| 238/238 [00:41<00:00,  5.72it/s]"
     ]
    },
    {
     "name": "stdout",
     "output_type": "stream",
     "text": [
      "                   all       3798      14361      0.752      0.634      0.704      0.507\n"
     ]
    },
    {
     "name": "stderr",
     "output_type": "stream",
     "text": [
      "\n"
     ]
    },
    {
     "name": "stdout",
     "output_type": "stream",
     "text": [
      "\n",
      "50 epochs completed in 5.044 hours.\n",
      "Optimizer stripped from runs\\detect\\train6\\weights\\last.pt, 40.5MB\n",
      "Optimizer stripped from runs\\detect\\train6\\weights\\best.pt, 40.5MB\n",
      "\n",
      "Validating runs\\detect\\train6\\weights\\best.pt...\n",
      "Ultralytics 8.3.54  Python-3.12.0 torch-2.5.1+cu124 CUDA:0 (NVIDIA GeForce RTX 3060 Ti, 8191MiB)\n",
      "YOLO11m summary (fused): 303 layers, 20,033,116 parameters, 0 gradients, 67.7 GFLOPs\n"
     ]
    },
    {
     "name": "stderr",
     "output_type": "stream",
     "text": [
      "                 Class     Images  Instances      Box(P          R      mAP50  mAP50-95): 100%|██████████| 238/238 [00:42<00:00,  5.63it/s]\n"
     ]
    },
    {
     "name": "stdout",
     "output_type": "stream",
     "text": [
      "                   all       3798      14361      0.738       0.65      0.719      0.518\n",
      "                   bus        817       1255      0.864      0.753      0.846      0.702\n",
      "                   car       2566       9188      0.753      0.649      0.719      0.476\n",
      "            motorcycle        729       1791      0.751       0.66       0.73       0.47\n",
      "                 truck       1277       2127      0.586      0.537      0.581      0.425\n",
      "Speed: 0.2ms preprocess, 6.1ms inference, 0.0ms loss, 1.0ms postprocess per image\n",
      "Results saved to \u001b[1mruns\\detect\\train6\u001b[0m\n"
     ]
    }
   ],
   "source": [
    "file_path = os.path.join(\"Vehicles-coco-2\", \"data.yaml\")\n",
    "results = model.train(data=file_path, epochs=50, batch=8)"
   ]
  },
  {
   "cell_type": "code",
   "execution_count": 8,
   "metadata": {},
   "outputs": [
    {
     "name": "stdout",
     "output_type": "stream",
     "text": [
      "\n",
      "video 1/1 (frame 1/956) c:\\Users\\Ivan\\Desktop\\card\\test1.mp4: 384x640 21 cars, 1 truck, 12.0ms\n",
      "video 1/1 (frame 2/956) c:\\Users\\Ivan\\Desktop\\card\\test1.mp4: 384x640 20 cars, 1 truck, 14.1ms\n",
      "video 1/1 (frame 3/956) c:\\Users\\Ivan\\Desktop\\card\\test1.mp4: 384x640 20 cars, 1 truck, 11.2ms\n",
      "video 1/1 (frame 4/956) c:\\Users\\Ivan\\Desktop\\card\\test1.mp4: 384x640 19 cars, 1 truck, 11.0ms\n",
      "video 1/1 (frame 5/956) c:\\Users\\Ivan\\Desktop\\card\\test1.mp4: 384x640 18 cars, 1 truck, 12.0ms\n",
      "video 1/1 (frame 6/956) c:\\Users\\Ivan\\Desktop\\card\\test1.mp4: 384x640 17 cars, 1 truck, 11.0ms\n",
      "video 1/1 (frame 7/956) c:\\Users\\Ivan\\Desktop\\card\\test1.mp4: 384x640 16 cars, 1 truck, 11.0ms\n",
      "video 1/1 (frame 8/956) c:\\Users\\Ivan\\Desktop\\card\\test1.mp4: 384x640 18 cars, 1 truck, 11.2ms\n",
      "video 1/1 (frame 9/956) c:\\Users\\Ivan\\Desktop\\card\\test1.mp4: 384x640 18 cars, 2 trucks, 12.1ms\n",
      "video 1/1 (frame 10/956) c:\\Users\\Ivan\\Desktop\\card\\test1.mp4: 384x640 18 cars, 2 trucks, 11.1ms\n",
      "video 1/1 (frame 11/956) c:\\Users\\Ivan\\Desktop\\card\\test1.mp4: 384x640 17 cars, 2 trucks, 13.3ms\n",
      "video 1/1 (frame 12/956) c:\\Users\\Ivan\\Desktop\\card\\test1.mp4: 384x640 18 cars, 13.1ms\n",
      "video 1/1 (frame 13/956) c:\\Users\\Ivan\\Desktop\\card\\test1.mp4: 384x640 18 cars, 1 truck, 12.1ms\n",
      "video 1/1 (frame 14/956) c:\\Users\\Ivan\\Desktop\\card\\test1.mp4: 384x640 20 cars, 1 truck, 12.2ms\n",
      "video 1/1 (frame 15/956) c:\\Users\\Ivan\\Desktop\\card\\test1.mp4: 384x640 21 cars, 1 truck, 12.0ms\n",
      "video 1/1 (frame 16/956) c:\\Users\\Ivan\\Desktop\\card\\test1.mp4: 384x640 21 cars, 1 truck, 14.0ms\n",
      "video 1/1 (frame 17/956) c:\\Users\\Ivan\\Desktop\\card\\test1.mp4: 384x640 21 cars, 1 truck, 13.0ms\n",
      "video 1/1 (frame 18/956) c:\\Users\\Ivan\\Desktop\\card\\test1.mp4: 384x640 21 cars, 1 truck, 13.0ms\n",
      "video 1/1 (frame 19/956) c:\\Users\\Ivan\\Desktop\\card\\test1.mp4: 384x640 21 cars, 1 truck, 13.0ms\n",
      "video 1/1 (frame 20/956) c:\\Users\\Ivan\\Desktop\\card\\test1.mp4: 384x640 21 cars, 1 truck, 12.0ms\n",
      "video 1/1 (frame 21/956) c:\\Users\\Ivan\\Desktop\\card\\test1.mp4: 384x640 21 cars, 1 truck, 12.0ms\n",
      "video 1/1 (frame 22/956) c:\\Users\\Ivan\\Desktop\\card\\test1.mp4: 384x640 21 cars, 1 truck, 14.1ms\n",
      "video 1/1 (frame 23/956) c:\\Users\\Ivan\\Desktop\\card\\test1.mp4: 384x640 21 cars, 1 truck, 14.0ms\n",
      "video 1/1 (frame 24/956) c:\\Users\\Ivan\\Desktop\\card\\test1.mp4: 384x640 21 cars, 1 truck, 13.0ms\n",
      "video 1/1 (frame 25/956) c:\\Users\\Ivan\\Desktop\\card\\test1.mp4: 384x640 21 cars, 1 truck, 13.0ms\n",
      "video 1/1 (frame 26/956) c:\\Users\\Ivan\\Desktop\\card\\test1.mp4: 384x640 19 cars, 2 trucks, 12.0ms\n",
      "video 1/1 (frame 27/956) c:\\Users\\Ivan\\Desktop\\card\\test1.mp4: 384x640 21 cars, 12.0ms\n",
      "video 1/1 (frame 28/956) c:\\Users\\Ivan\\Desktop\\card\\test1.mp4: 384x640 21 cars, 13.0ms\n",
      "video 1/1 (frame 29/956) c:\\Users\\Ivan\\Desktop\\card\\test1.mp4: 384x640 20 cars, 1 truck, 13.2ms\n",
      "video 1/1 (frame 30/956) c:\\Users\\Ivan\\Desktop\\card\\test1.mp4: 384x640 20 cars, 1 truck, 14.1ms\n",
      "video 1/1 (frame 31/956) c:\\Users\\Ivan\\Desktop\\card\\test1.mp4: 384x640 20 cars, 1 truck, 14.2ms\n",
      "video 1/1 (frame 32/956) c:\\Users\\Ivan\\Desktop\\card\\test1.mp4: 384x640 20 cars, 1 truck, 13.2ms\n",
      "video 1/1 (frame 33/956) c:\\Users\\Ivan\\Desktop\\card\\test1.mp4: 384x640 19 cars, 1 truck, 12.3ms\n",
      "video 1/1 (frame 34/956) c:\\Users\\Ivan\\Desktop\\card\\test1.mp4: 384x640 19 cars, 15.1ms\n",
      "video 1/1 (frame 35/956) c:\\Users\\Ivan\\Desktop\\card\\test1.mp4: 384x640 20 cars, 1 truck, 15.1ms\n",
      "video 1/1 (frame 36/956) c:\\Users\\Ivan\\Desktop\\card\\test1.mp4: 384x640 20 cars, 1 truck, 14.2ms\n",
      "video 1/1 (frame 37/956) c:\\Users\\Ivan\\Desktop\\card\\test1.mp4: 384x640 19 cars, 1 truck, 14.0ms\n",
      "video 1/1 (frame 38/956) c:\\Users\\Ivan\\Desktop\\card\\test1.mp4: 384x640 18 cars, 1 truck, 15.1ms\n",
      "video 1/1 (frame 39/956) c:\\Users\\Ivan\\Desktop\\card\\test1.mp4: 384x640 19 cars, 2 trucks, 13.0ms\n",
      "video 1/1 (frame 40/956) c:\\Users\\Ivan\\Desktop\\card\\test1.mp4: 384x640 20 cars, 2 trucks, 14.1ms\n",
      "video 1/1 (frame 41/956) c:\\Users\\Ivan\\Desktop\\card\\test1.mp4: 384x640 19 cars, 1 truck, 15.2ms\n",
      "video 1/1 (frame 42/956) c:\\Users\\Ivan\\Desktop\\card\\test1.mp4: 384x640 18 cars, 1 truck, 15.0ms\n",
      "video 1/1 (frame 43/956) c:\\Users\\Ivan\\Desktop\\card\\test1.mp4: 384x640 18 cars, 1 truck, 15.0ms\n",
      "video 1/1 (frame 44/956) c:\\Users\\Ivan\\Desktop\\card\\test1.mp4: 384x640 17 cars, 2 trucks, 13.1ms\n",
      "video 1/1 (frame 45/956) c:\\Users\\Ivan\\Desktop\\card\\test1.mp4: 384x640 17 cars, 2 trucks, 13.1ms\n",
      "video 1/1 (frame 46/956) c:\\Users\\Ivan\\Desktop\\card\\test1.mp4: 384x640 18 cars, 1 truck, 13.1ms\n",
      "video 1/1 (frame 47/956) c:\\Users\\Ivan\\Desktop\\card\\test1.mp4: 384x640 18 cars, 14.2ms\n",
      "video 1/1 (frame 48/956) c:\\Users\\Ivan\\Desktop\\card\\test1.mp4: 384x640 17 cars, 1 truck, 14.3ms\n",
      "video 1/1 (frame 49/956) c:\\Users\\Ivan\\Desktop\\card\\test1.mp4: 384x640 16 cars, 2 trucks, 15.2ms\n",
      "video 1/1 (frame 50/956) c:\\Users\\Ivan\\Desktop\\card\\test1.mp4: 384x640 15 cars, 3 trucks, 15.1ms\n",
      "video 1/1 (frame 51/956) c:\\Users\\Ivan\\Desktop\\card\\test1.mp4: 384x640 16 cars, 2 trucks, 15.2ms\n",
      "video 1/1 (frame 52/956) c:\\Users\\Ivan\\Desktop\\card\\test1.mp4: 384x640 16 cars, 2 trucks, 13.2ms\n",
      "video 1/1 (frame 53/956) c:\\Users\\Ivan\\Desktop\\card\\test1.mp4: 384x640 16 cars, 2 trucks, 13.3ms\n",
      "video 1/1 (frame 54/956) c:\\Users\\Ivan\\Desktop\\card\\test1.mp4: 384x640 16 cars, 2 trucks, 16.0ms\n",
      "video 1/1 (frame 55/956) c:\\Users\\Ivan\\Desktop\\card\\test1.mp4: 384x640 16 cars, 2 trucks, 16.1ms\n",
      "video 1/1 (frame 56/956) c:\\Users\\Ivan\\Desktop\\card\\test1.mp4: 384x640 17 cars, 2 trucks, 15.1ms\n",
      "video 1/1 (frame 57/956) c:\\Users\\Ivan\\Desktop\\card\\test1.mp4: 384x640 16 cars, 1 truck, 13.2ms\n",
      "video 1/1 (frame 58/956) c:\\Users\\Ivan\\Desktop\\card\\test1.mp4: 384x640 16 cars, 2 trucks, 14.1ms\n",
      "video 1/1 (frame 59/956) c:\\Users\\Ivan\\Desktop\\card\\test1.mp4: 384x640 16 cars, 2 trucks, 14.0ms\n",
      "video 1/1 (frame 60/956) c:\\Users\\Ivan\\Desktop\\card\\test1.mp4: 384x640 15 cars, 3 trucks, 14.0ms\n",
      "video 1/1 (frame 61/956) c:\\Users\\Ivan\\Desktop\\card\\test1.mp4: 384x640 16 cars, 2 trucks, 14.0ms\n",
      "video 1/1 (frame 62/956) c:\\Users\\Ivan\\Desktop\\card\\test1.mp4: 384x640 16 cars, 2 trucks, 15.2ms\n",
      "video 1/1 (frame 63/956) c:\\Users\\Ivan\\Desktop\\card\\test1.mp4: 384x640 16 cars, 4 trucks, 14.1ms\n",
      "video 1/1 (frame 64/956) c:\\Users\\Ivan\\Desktop\\card\\test1.mp4: 384x640 17 cars, 2 trucks, 15.1ms\n",
      "video 1/1 (frame 65/956) c:\\Users\\Ivan\\Desktop\\card\\test1.mp4: 384x640 17 cars, 1 truck, 15.0ms\n",
      "video 1/1 (frame 66/956) c:\\Users\\Ivan\\Desktop\\card\\test1.mp4: 384x640 17 cars, 1 truck, 14.2ms\n",
      "video 1/1 (frame 67/956) c:\\Users\\Ivan\\Desktop\\card\\test1.mp4: 384x640 15 cars, 2 trucks, 14.1ms\n",
      "video 1/1 (frame 68/956) c:\\Users\\Ivan\\Desktop\\card\\test1.mp4: 384x640 15 cars, 3 trucks, 15.1ms\n",
      "video 1/1 (frame 69/956) c:\\Users\\Ivan\\Desktop\\card\\test1.mp4: 384x640 14 cars, 2 trucks, 14.2ms\n",
      "video 1/1 (frame 70/956) c:\\Users\\Ivan\\Desktop\\card\\test1.mp4: 384x640 16 cars, 2 trucks, 16.0ms\n",
      "video 1/1 (frame 71/956) c:\\Users\\Ivan\\Desktop\\card\\test1.mp4: 384x640 12 cars, 1 truck, 15.2ms\n",
      "video 1/1 (frame 72/956) c:\\Users\\Ivan\\Desktop\\card\\test1.mp4: 384x640 13 cars, 3 trucks, 15.1ms\n",
      "video 1/1 (frame 73/956) c:\\Users\\Ivan\\Desktop\\card\\test1.mp4: 384x640 14 cars, 1 truck, 14.2ms\n",
      "video 1/1 (frame 74/956) c:\\Users\\Ivan\\Desktop\\card\\test1.mp4: 384x640 15 cars, 1 truck, 13.7ms\n",
      "video 1/1 (frame 75/956) c:\\Users\\Ivan\\Desktop\\card\\test1.mp4: 384x640 14 cars, 1 truck, 14.2ms\n",
      "video 1/1 (frame 76/956) c:\\Users\\Ivan\\Desktop\\card\\test1.mp4: 384x640 13 cars, 2 trucks, 15.1ms\n",
      "video 1/1 (frame 77/956) c:\\Users\\Ivan\\Desktop\\card\\test1.mp4: 384x640 13 cars, 15.0ms\n",
      "video 1/1 (frame 78/956) c:\\Users\\Ivan\\Desktop\\card\\test1.mp4: 384x640 15 cars, 1 truck, 15.1ms\n",
      "video 1/1 (frame 79/956) c:\\Users\\Ivan\\Desktop\\card\\test1.mp4: 384x640 16 cars, 1 truck, 15.1ms\n",
      "video 1/1 (frame 80/956) c:\\Users\\Ivan\\Desktop\\card\\test1.mp4: 384x640 16 cars, 1 truck, 14.1ms\n",
      "video 1/1 (frame 81/956) c:\\Users\\Ivan\\Desktop\\card\\test1.mp4: 384x640 16 cars, 14.2ms\n",
      "video 1/1 (frame 82/956) c:\\Users\\Ivan\\Desktop\\card\\test1.mp4: 384x640 15 cars, 1 truck, 15.1ms\n",
      "video 1/1 (frame 83/956) c:\\Users\\Ivan\\Desktop\\card\\test1.mp4: 384x640 14 cars, 1 truck, 15.3ms\n",
      "video 1/1 (frame 84/956) c:\\Users\\Ivan\\Desktop\\card\\test1.mp4: 384x640 15 cars, 1 truck, 15.2ms\n",
      "video 1/1 (frame 85/956) c:\\Users\\Ivan\\Desktop\\card\\test1.mp4: 384x640 15 cars, 1 truck, 15.2ms\n",
      "video 1/1 (frame 86/956) c:\\Users\\Ivan\\Desktop\\card\\test1.mp4: 384x640 15 cars, 2 trucks, 14.2ms\n",
      "video 1/1 (frame 87/956) c:\\Users\\Ivan\\Desktop\\card\\test1.mp4: 384x640 14 cars, 2 trucks, 15.1ms\n",
      "video 1/1 (frame 88/956) c:\\Users\\Ivan\\Desktop\\card\\test1.mp4: 384x640 14 cars, 2 trucks, 15.0ms\n",
      "video 1/1 (frame 89/956) c:\\Users\\Ivan\\Desktop\\card\\test1.mp4: 384x640 16 cars, 1 truck, 15.0ms\n",
      "video 1/1 (frame 90/956) c:\\Users\\Ivan\\Desktop\\card\\test1.mp4: 384x640 16 cars, 1 truck, 15.0ms\n",
      "video 1/1 (frame 91/956) c:\\Users\\Ivan\\Desktop\\card\\test1.mp4: 384x640 15 cars, 15.2ms\n",
      "video 1/1 (frame 92/956) c:\\Users\\Ivan\\Desktop\\card\\test1.mp4: 384x640 16 cars, 15.0ms\n",
      "video 1/1 (frame 93/956) c:\\Users\\Ivan\\Desktop\\card\\test1.mp4: 384x640 16 cars, 1 truck, 14.1ms\n",
      "video 1/1 (frame 94/956) c:\\Users\\Ivan\\Desktop\\card\\test1.mp4: 384x640 16 cars, 15.2ms\n",
      "video 1/1 (frame 95/956) c:\\Users\\Ivan\\Desktop\\card\\test1.mp4: 384x640 14 cars, 16.0ms\n",
      "video 1/1 (frame 96/956) c:\\Users\\Ivan\\Desktop\\card\\test1.mp4: 384x640 15 cars, 1 truck, 15.0ms\n",
      "video 1/1 (frame 97/956) c:\\Users\\Ivan\\Desktop\\card\\test1.mp4: 384x640 15 cars, 1 truck, 15.0ms\n",
      "video 1/1 (frame 98/956) c:\\Users\\Ivan\\Desktop\\card\\test1.mp4: 384x640 16 cars, 3 trucks, 15.6ms\n",
      "video 1/1 (frame 99/956) c:\\Users\\Ivan\\Desktop\\card\\test1.mp4: 384x640 14 cars, 1 truck, 15.1ms\n",
      "video 1/1 (frame 100/956) c:\\Users\\Ivan\\Desktop\\card\\test1.mp4: 384x640 15 cars, 16.0ms\n",
      "video 1/1 (frame 101/956) c:\\Users\\Ivan\\Desktop\\card\\test1.mp4: 384x640 16 cars, 15.3ms\n",
      "video 1/1 (frame 102/956) c:\\Users\\Ivan\\Desktop\\card\\test1.mp4: 384x640 15 cars, 15.2ms\n",
      "video 1/1 (frame 103/956) c:\\Users\\Ivan\\Desktop\\card\\test1.mp4: 384x640 13 cars, 2 trucks, 16.2ms\n",
      "video 1/1 (frame 104/956) c:\\Users\\Ivan\\Desktop\\card\\test1.mp4: 384x640 16 cars, 15.4ms\n",
      "video 1/1 (frame 105/956) c:\\Users\\Ivan\\Desktop\\card\\test1.mp4: 384x640 13 cars, 2 trucks, 21.0ms\n",
      "video 1/1 (frame 106/956) c:\\Users\\Ivan\\Desktop\\card\\test1.mp4: 384x640 13 cars, 2 trucks, 17.3ms\n",
      "video 1/1 (frame 107/956) c:\\Users\\Ivan\\Desktop\\card\\test1.mp4: 384x640 15 cars, 16.3ms\n",
      "video 1/1 (frame 108/956) c:\\Users\\Ivan\\Desktop\\card\\test1.mp4: 384x640 15 cars, 1 truck, 16.1ms\n",
      "video 1/1 (frame 109/956) c:\\Users\\Ivan\\Desktop\\card\\test1.mp4: 384x640 14 cars, 1 truck, 15.1ms\n",
      "video 1/1 (frame 110/956) c:\\Users\\Ivan\\Desktop\\card\\test1.mp4: 384x640 14 cars, 1 truck, 15.0ms\n",
      "video 1/1 (frame 111/956) c:\\Users\\Ivan\\Desktop\\card\\test1.mp4: 384x640 13 cars, 1 truck, 16.1ms\n",
      "video 1/1 (frame 112/956) c:\\Users\\Ivan\\Desktop\\card\\test1.mp4: 384x640 14 cars, 1 truck, 15.1ms\n",
      "video 1/1 (frame 113/956) c:\\Users\\Ivan\\Desktop\\card\\test1.mp4: 384x640 14 cars, 15.2ms\n",
      "video 1/1 (frame 114/956) c:\\Users\\Ivan\\Desktop\\card\\test1.mp4: 384x640 14 cars, 16.1ms\n",
      "video 1/1 (frame 115/956) c:\\Users\\Ivan\\Desktop\\card\\test1.mp4: 384x640 15 cars, 1 truck, 16.3ms\n",
      "video 1/1 (frame 116/956) c:\\Users\\Ivan\\Desktop\\card\\test1.mp4: 384x640 14 cars, 15.3ms\n",
      "video 1/1 (frame 117/956) c:\\Users\\Ivan\\Desktop\\card\\test1.mp4: 384x640 14 cars, 16.1ms\n",
      "video 1/1 (frame 118/956) c:\\Users\\Ivan\\Desktop\\card\\test1.mp4: 384x640 14 cars, 17.2ms\n",
      "video 1/1 (frame 119/956) c:\\Users\\Ivan\\Desktop\\card\\test1.mp4: 384x640 14 cars, 16.1ms\n",
      "video 1/1 (frame 120/956) c:\\Users\\Ivan\\Desktop\\card\\test1.mp4: 384x640 14 cars, 16.0ms\n",
      "video 1/1 (frame 121/956) c:\\Users\\Ivan\\Desktop\\card\\test1.mp4: 384x640 14 cars, 16.2ms\n",
      "video 1/1 (frame 122/956) c:\\Users\\Ivan\\Desktop\\card\\test1.mp4: 384x640 14 cars, 16.1ms\n",
      "video 1/1 (frame 123/956) c:\\Users\\Ivan\\Desktop\\card\\test1.mp4: 384x640 14 cars, 16.1ms\n",
      "video 1/1 (frame 124/956) c:\\Users\\Ivan\\Desktop\\card\\test1.mp4: 384x640 14 cars, 16.2ms\n",
      "video 1/1 (frame 125/956) c:\\Users\\Ivan\\Desktop\\card\\test1.mp4: 384x640 14 cars, 15.1ms\n",
      "video 1/1 (frame 126/956) c:\\Users\\Ivan\\Desktop\\card\\test1.mp4: 384x640 15 cars, 17.2ms\n",
      "video 1/1 (frame 127/956) c:\\Users\\Ivan\\Desktop\\card\\test1.mp4: 384x640 15 cars, 16.0ms\n",
      "video 1/1 (frame 128/956) c:\\Users\\Ivan\\Desktop\\card\\test1.mp4: 384x640 14 cars, 16.1ms\n",
      "video 1/1 (frame 129/956) c:\\Users\\Ivan\\Desktop\\card\\test1.mp4: 384x640 14 cars, 16.1ms\n",
      "video 1/1 (frame 130/956) c:\\Users\\Ivan\\Desktop\\card\\test1.mp4: 384x640 13 cars, 15.2ms\n",
      "video 1/1 (frame 131/956) c:\\Users\\Ivan\\Desktop\\card\\test1.mp4: 384x640 12 cars, 1 truck, 17.0ms\n",
      "video 1/1 (frame 132/956) c:\\Users\\Ivan\\Desktop\\card\\test1.mp4: 384x640 14 cars, 16.3ms\n",
      "video 1/1 (frame 133/956) c:\\Users\\Ivan\\Desktop\\card\\test1.mp4: 384x640 14 cars, 16.2ms\n",
      "video 1/1 (frame 134/956) c:\\Users\\Ivan\\Desktop\\card\\test1.mp4: 384x640 13 cars, 1 truck, 17.1ms\n",
      "video 1/1 (frame 135/956) c:\\Users\\Ivan\\Desktop\\card\\test1.mp4: 384x640 15 cars, 15.1ms\n",
      "video 1/1 (frame 136/956) c:\\Users\\Ivan\\Desktop\\card\\test1.mp4: 384x640 15 cars, 1 truck, 17.0ms\n",
      "video 1/1 (frame 137/956) c:\\Users\\Ivan\\Desktop\\card\\test1.mp4: 384x640 16 cars, 16.0ms\n",
      "video 1/1 (frame 138/956) c:\\Users\\Ivan\\Desktop\\card\\test1.mp4: 384x640 15 cars, 15.3ms\n",
      "video 1/1 (frame 139/956) c:\\Users\\Ivan\\Desktop\\card\\test1.mp4: 384x640 16 cars, 16.1ms\n",
      "video 1/1 (frame 140/956) c:\\Users\\Ivan\\Desktop\\card\\test1.mp4: 384x640 16 cars, 16.2ms\n",
      "video 1/1 (frame 141/956) c:\\Users\\Ivan\\Desktop\\card\\test1.mp4: 384x640 16 cars, 15.1ms\n",
      "video 1/1 (frame 142/956) c:\\Users\\Ivan\\Desktop\\card\\test1.mp4: 384x640 15 cars, 17.2ms\n",
      "video 1/1 (frame 143/956) c:\\Users\\Ivan\\Desktop\\card\\test1.mp4: 384x640 15 cars, 17.0ms\n",
      "video 1/1 (frame 144/956) c:\\Users\\Ivan\\Desktop\\card\\test1.mp4: 384x640 15 cars, 17.1ms\n",
      "video 1/1 (frame 145/956) c:\\Users\\Ivan\\Desktop\\card\\test1.mp4: 384x640 16 cars, 17.1ms\n",
      "video 1/1 (frame 146/956) c:\\Users\\Ivan\\Desktop\\card\\test1.mp4: 384x640 16 cars, 16.2ms\n",
      "video 1/1 (frame 147/956) c:\\Users\\Ivan\\Desktop\\card\\test1.mp4: 384x640 16 cars, 1 truck, 16.0ms\n",
      "video 1/1 (frame 148/956) c:\\Users\\Ivan\\Desktop\\card\\test1.mp4: 384x640 16 cars, 1 truck, 17.0ms\n",
      "video 1/1 (frame 149/956) c:\\Users\\Ivan\\Desktop\\card\\test1.mp4: 384x640 15 cars, 17.3ms\n",
      "video 1/1 (frame 150/956) c:\\Users\\Ivan\\Desktop\\card\\test1.mp4: 384x640 15 cars, 16.1ms\n",
      "video 1/1 (frame 151/956) c:\\Users\\Ivan\\Desktop\\card\\test1.mp4: 384x640 15 cars, 11.2ms\n",
      "video 1/1 (frame 152/956) c:\\Users\\Ivan\\Desktop\\card\\test1.mp4: 384x640 16 cars, 11.0ms\n",
      "video 1/1 (frame 153/956) c:\\Users\\Ivan\\Desktop\\card\\test1.mp4: 384x640 16 cars, 12.2ms\n",
      "video 1/1 (frame 154/956) c:\\Users\\Ivan\\Desktop\\card\\test1.mp4: 384x640 17 cars, 11.1ms\n",
      "video 1/1 (frame 155/956) c:\\Users\\Ivan\\Desktop\\card\\test1.mp4: 384x640 17 cars, 11.0ms\n",
      "video 1/1 (frame 156/956) c:\\Users\\Ivan\\Desktop\\card\\test1.mp4: 384x640 17 cars, 12.1ms\n",
      "video 1/1 (frame 157/956) c:\\Users\\Ivan\\Desktop\\card\\test1.mp4: 384x640 16 cars, 11.1ms\n",
      "video 1/1 (frame 158/956) c:\\Users\\Ivan\\Desktop\\card\\test1.mp4: 384x640 15 cars, 10.1ms\n",
      "video 1/1 (frame 159/956) c:\\Users\\Ivan\\Desktop\\card\\test1.mp4: 384x640 17 cars, 11.0ms\n",
      "video 1/1 (frame 160/956) c:\\Users\\Ivan\\Desktop\\card\\test1.mp4: 384x640 16 cars, 10.3ms\n",
      "video 1/1 (frame 161/956) c:\\Users\\Ivan\\Desktop\\card\\test1.mp4: 384x640 17 cars, 12.0ms\n",
      "video 1/1 (frame 162/956) c:\\Users\\Ivan\\Desktop\\card\\test1.mp4: 384x640 17 cars, 1 truck, 11.0ms\n",
      "video 1/1 (frame 163/956) c:\\Users\\Ivan\\Desktop\\card\\test1.mp4: 384x640 16 cars, 1 truck, 11.0ms\n",
      "video 1/1 (frame 164/956) c:\\Users\\Ivan\\Desktop\\card\\test1.mp4: 384x640 16 cars, 1 truck, 11.2ms\n",
      "video 1/1 (frame 165/956) c:\\Users\\Ivan\\Desktop\\card\\test1.mp4: 384x640 16 cars, 11.1ms\n",
      "video 1/1 (frame 166/956) c:\\Users\\Ivan\\Desktop\\card\\test1.mp4: 384x640 16 cars, 1 truck, 10.1ms\n",
      "video 1/1 (frame 167/956) c:\\Users\\Ivan\\Desktop\\card\\test1.mp4: 384x640 16 cars, 1 truck, 11.1ms\n",
      "video 1/1 (frame 168/956) c:\\Users\\Ivan\\Desktop\\card\\test1.mp4: 384x640 16 cars, 1 truck, 11.0ms\n",
      "video 1/1 (frame 169/956) c:\\Users\\Ivan\\Desktop\\card\\test1.mp4: 384x640 15 cars, 1 truck, 11.2ms\n",
      "video 1/1 (frame 170/956) c:\\Users\\Ivan\\Desktop\\card\\test1.mp4: 384x640 15 cars, 10.0ms\n",
      "video 1/1 (frame 171/956) c:\\Users\\Ivan\\Desktop\\card\\test1.mp4: 384x640 16 cars, 11.0ms\n",
      "video 1/1 (frame 172/956) c:\\Users\\Ivan\\Desktop\\card\\test1.mp4: 384x640 16 cars, 12.2ms\n",
      "video 1/1 (frame 173/956) c:\\Users\\Ivan\\Desktop\\card\\test1.mp4: 384x640 16 cars, 11.1ms\n",
      "video 1/1 (frame 174/956) c:\\Users\\Ivan\\Desktop\\card\\test1.mp4: 384x640 16 cars, 11.0ms\n",
      "video 1/1 (frame 175/956) c:\\Users\\Ivan\\Desktop\\card\\test1.mp4: 384x640 16 cars, 10.1ms\n",
      "video 1/1 (frame 176/956) c:\\Users\\Ivan\\Desktop\\card\\test1.mp4: 384x640 15 cars, 11.0ms\n",
      "video 1/1 (frame 177/956) c:\\Users\\Ivan\\Desktop\\card\\test1.mp4: 384x640 15 cars, 11.1ms\n",
      "video 1/1 (frame 178/956) c:\\Users\\Ivan\\Desktop\\card\\test1.mp4: 384x640 15 cars, 11.0ms\n",
      "video 1/1 (frame 179/956) c:\\Users\\Ivan\\Desktop\\card\\test1.mp4: 384x640 15 cars, 12.3ms\n",
      "video 1/1 (frame 180/956) c:\\Users\\Ivan\\Desktop\\card\\test1.mp4: 384x640 15 cars, 13.0ms\n",
      "video 1/1 (frame 181/956) c:\\Users\\Ivan\\Desktop\\card\\test1.mp4: 384x640 16 cars, 11.1ms\n",
      "video 1/1 (frame 182/956) c:\\Users\\Ivan\\Desktop\\card\\test1.mp4: 384x640 15 cars, 11.2ms\n",
      "video 1/1 (frame 183/956) c:\\Users\\Ivan\\Desktop\\card\\test1.mp4: 384x640 14 cars, 10.0ms\n",
      "video 1/1 (frame 184/956) c:\\Users\\Ivan\\Desktop\\card\\test1.mp4: 384x640 15 cars, 11.2ms\n",
      "video 1/1 (frame 185/956) c:\\Users\\Ivan\\Desktop\\card\\test1.mp4: 384x640 14 cars, 11.0ms\n",
      "video 1/1 (frame 186/956) c:\\Users\\Ivan\\Desktop\\card\\test1.mp4: 384x640 13 cars, 14.0ms\n",
      "video 1/1 (frame 187/956) c:\\Users\\Ivan\\Desktop\\card\\test1.mp4: 384x640 14 cars, 11.2ms\n",
      "video 1/1 (frame 188/956) c:\\Users\\Ivan\\Desktop\\card\\test1.mp4: 384x640 13 cars, 1 truck, 16.0ms\n",
      "video 1/1 (frame 189/956) c:\\Users\\Ivan\\Desktop\\card\\test1.mp4: 384x640 14 cars, 10.1ms\n",
      "video 1/1 (frame 190/956) c:\\Users\\Ivan\\Desktop\\card\\test1.mp4: 384x640 14 cars, 10.2ms\n",
      "video 1/1 (frame 191/956) c:\\Users\\Ivan\\Desktop\\card\\test1.mp4: 384x640 14 cars, 12.0ms\n",
      "video 1/1 (frame 192/956) c:\\Users\\Ivan\\Desktop\\card\\test1.mp4: 384x640 14 cars, 11.2ms\n",
      "video 1/1 (frame 193/956) c:\\Users\\Ivan\\Desktop\\card\\test1.mp4: 384x640 13 cars, 1 truck, 11.2ms\n",
      "video 1/1 (frame 194/956) c:\\Users\\Ivan\\Desktop\\card\\test1.mp4: 384x640 14 cars, 10.2ms\n",
      "video 1/1 (frame 195/956) c:\\Users\\Ivan\\Desktop\\card\\test1.mp4: 384x640 15 cars, 10.0ms\n",
      "video 1/1 (frame 196/956) c:\\Users\\Ivan\\Desktop\\card\\test1.mp4: 384x640 14 cars, 12.2ms\n",
      "video 1/1 (frame 197/956) c:\\Users\\Ivan\\Desktop\\card\\test1.mp4: 384x640 15 cars, 11.0ms\n",
      "video 1/1 (frame 198/956) c:\\Users\\Ivan\\Desktop\\card\\test1.mp4: 384x640 14 cars, 1 truck, 13.1ms\n",
      "video 1/1 (frame 199/956) c:\\Users\\Ivan\\Desktop\\card\\test1.mp4: 384x640 15 cars, 1 truck, 12.0ms\n",
      "video 1/1 (frame 200/956) c:\\Users\\Ivan\\Desktop\\card\\test1.mp4: 384x640 15 cars, 1 truck, 11.2ms\n",
      "video 1/1 (frame 201/956) c:\\Users\\Ivan\\Desktop\\card\\test1.mp4: 384x640 15 cars, 11.0ms\n",
      "video 1/1 (frame 202/956) c:\\Users\\Ivan\\Desktop\\card\\test1.mp4: 384x640 15 cars, 10.0ms\n",
      "video 1/1 (frame 203/956) c:\\Users\\Ivan\\Desktop\\card\\test1.mp4: 384x640 15 cars, 1 truck, 11.1ms\n",
      "video 1/1 (frame 204/956) c:\\Users\\Ivan\\Desktop\\card\\test1.mp4: 384x640 14 cars, 11.0ms\n",
      "video 1/1 (frame 205/956) c:\\Users\\Ivan\\Desktop\\card\\test1.mp4: 384x640 15 cars, 1 truck, 10.1ms\n",
      "video 1/1 (frame 206/956) c:\\Users\\Ivan\\Desktop\\card\\test1.mp4: 384x640 13 cars, 1 truck, 11.3ms\n",
      "video 1/1 (frame 207/956) c:\\Users\\Ivan\\Desktop\\card\\test1.mp4: 384x640 12 cars, 2 trucks, 10.0ms\n",
      "video 1/1 (frame 208/956) c:\\Users\\Ivan\\Desktop\\card\\test1.mp4: 384x640 13 cars, 1 truck, 11.0ms\n",
      "video 1/1 (frame 209/956) c:\\Users\\Ivan\\Desktop\\card\\test1.mp4: 384x640 13 cars, 1 truck, 11.2ms\n",
      "video 1/1 (frame 210/956) c:\\Users\\Ivan\\Desktop\\card\\test1.mp4: 384x640 14 cars, 1 truck, 11.1ms\n",
      "video 1/1 (frame 211/956) c:\\Users\\Ivan\\Desktop\\card\\test1.mp4: 384x640 13 cars, 2 trucks, 12.0ms\n",
      "video 1/1 (frame 212/956) c:\\Users\\Ivan\\Desktop\\card\\test1.mp4: 384x640 14 cars, 2 trucks, 10.0ms\n",
      "video 1/1 (frame 213/956) c:\\Users\\Ivan\\Desktop\\card\\test1.mp4: 384x640 13 cars, 2 trucks, 11.2ms\n",
      "video 1/1 (frame 214/956) c:\\Users\\Ivan\\Desktop\\card\\test1.mp4: 384x640 14 cars, 2 trucks, 10.0ms\n",
      "video 1/1 (frame 215/956) c:\\Users\\Ivan\\Desktop\\card\\test1.mp4: 384x640 13 cars, 2 trucks, 10.2ms\n",
      "video 1/1 (frame 216/956) c:\\Users\\Ivan\\Desktop\\card\\test1.mp4: 384x640 13 cars, 1 truck, 11.0ms\n",
      "video 1/1 (frame 217/956) c:\\Users\\Ivan\\Desktop\\card\\test1.mp4: 384x640 16 cars, 1 truck, 11.1ms\n",
      "video 1/1 (frame 218/956) c:\\Users\\Ivan\\Desktop\\card\\test1.mp4: 384x640 15 cars, 1 truck, 12.0ms\n",
      "video 1/1 (frame 219/956) c:\\Users\\Ivan\\Desktop\\card\\test1.mp4: 384x640 14 cars, 1 truck, 10.2ms\n",
      "video 1/1 (frame 220/956) c:\\Users\\Ivan\\Desktop\\card\\test1.mp4: 384x640 14 cars, 1 truck, 12.0ms\n",
      "video 1/1 (frame 221/956) c:\\Users\\Ivan\\Desktop\\card\\test1.mp4: 384x640 14 cars, 1 truck, 12.0ms\n",
      "video 1/1 (frame 222/956) c:\\Users\\Ivan\\Desktop\\card\\test1.mp4: 384x640 15 cars, 1 truck, 10.2ms\n",
      "video 1/1 (frame 223/956) c:\\Users\\Ivan\\Desktop\\card\\test1.mp4: 384x640 15 cars, 2 trucks, 10.0ms\n",
      "video 1/1 (frame 224/956) c:\\Users\\Ivan\\Desktop\\card\\test1.mp4: 384x640 15 cars, 1 truck, 12.1ms\n",
      "video 1/1 (frame 225/956) c:\\Users\\Ivan\\Desktop\\card\\test1.mp4: 384x640 15 cars, 1 truck, 11.1ms\n",
      "video 1/1 (frame 226/956) c:\\Users\\Ivan\\Desktop\\card\\test1.mp4: 384x640 15 cars, 1 truck, 11.0ms\n",
      "video 1/1 (frame 227/956) c:\\Users\\Ivan\\Desktop\\card\\test1.mp4: 384x640 15 cars, 1 truck, 12.1ms\n",
      "video 1/1 (frame 228/956) c:\\Users\\Ivan\\Desktop\\card\\test1.mp4: 384x640 14 cars, 1 truck, 10.1ms\n",
      "video 1/1 (frame 229/956) c:\\Users\\Ivan\\Desktop\\card\\test1.mp4: 384x640 14 cars, 1 truck, 11.0ms\n",
      "video 1/1 (frame 230/956) c:\\Users\\Ivan\\Desktop\\card\\test1.mp4: 384x640 15 cars, 1 truck, 10.0ms\n",
      "video 1/1 (frame 231/956) c:\\Users\\Ivan\\Desktop\\card\\test1.mp4: 384x640 15 cars, 1 truck, 12.2ms\n",
      "video 1/1 (frame 232/956) c:\\Users\\Ivan\\Desktop\\card\\test1.mp4: 384x640 14 cars, 2 trucks, 12.0ms\n",
      "video 1/1 (frame 233/956) c:\\Users\\Ivan\\Desktop\\card\\test1.mp4: 384x640 13 cars, 1 truck, 11.0ms\n",
      "video 1/1 (frame 234/956) c:\\Users\\Ivan\\Desktop\\card\\test1.mp4: 384x640 13 cars, 1 truck, 10.1ms\n",
      "video 1/1 (frame 235/956) c:\\Users\\Ivan\\Desktop\\card\\test1.mp4: 384x640 14 cars, 1 truck, 11.0ms\n",
      "video 1/1 (frame 236/956) c:\\Users\\Ivan\\Desktop\\card\\test1.mp4: 384x640 14 cars, 1 truck, 10.1ms\n",
      "video 1/1 (frame 237/956) c:\\Users\\Ivan\\Desktop\\card\\test1.mp4: 384x640 14 cars, 1 truck, 10.0ms\n",
      "video 1/1 (frame 238/956) c:\\Users\\Ivan\\Desktop\\card\\test1.mp4: 384x640 14 cars, 1 truck, 11.3ms\n",
      "video 1/1 (frame 239/956) c:\\Users\\Ivan\\Desktop\\card\\test1.mp4: 384x640 14 cars, 1 truck, 11.2ms\n",
      "video 1/1 (frame 240/956) c:\\Users\\Ivan\\Desktop\\card\\test1.mp4: 384x640 13 cars, 2 trucks, 11.1ms\n",
      "video 1/1 (frame 241/956) c:\\Users\\Ivan\\Desktop\\card\\test1.mp4: 384x640 15 cars, 11.0ms\n",
      "video 1/1 (frame 242/956) c:\\Users\\Ivan\\Desktop\\card\\test1.mp4: 384x640 15 cars, 1 truck, 11.0ms\n",
      "video 1/1 (frame 243/956) c:\\Users\\Ivan\\Desktop\\card\\test1.mp4: 384x640 16 cars, 1 truck, 11.0ms\n",
      "video 1/1 (frame 244/956) c:\\Users\\Ivan\\Desktop\\card\\test1.mp4: 384x640 16 cars, 1 truck, 11.1ms\n",
      "video 1/1 (frame 245/956) c:\\Users\\Ivan\\Desktop\\card\\test1.mp4: 384x640 15 cars, 11.0ms\n",
      "video 1/1 (frame 246/956) c:\\Users\\Ivan\\Desktop\\card\\test1.mp4: 384x640 15 cars, 2 trucks, 11.1ms\n",
      "video 1/1 (frame 247/956) c:\\Users\\Ivan\\Desktop\\card\\test1.mp4: 384x640 15 cars, 2 trucks, 11.2ms\n",
      "video 1/1 (frame 248/956) c:\\Users\\Ivan\\Desktop\\card\\test1.mp4: 384x640 15 cars, 1 truck, 11.0ms\n",
      "video 1/1 (frame 249/956) c:\\Users\\Ivan\\Desktop\\card\\test1.mp4: 384x640 15 cars, 1 truck, 11.0ms\n",
      "video 1/1 (frame 250/956) c:\\Users\\Ivan\\Desktop\\card\\test1.mp4: 384x640 15 cars, 1 truck, 11.0ms\n",
      "video 1/1 (frame 251/956) c:\\Users\\Ivan\\Desktop\\card\\test1.mp4: 384x640 16 cars, 1 truck, 12.2ms\n",
      "video 1/1 (frame 252/956) c:\\Users\\Ivan\\Desktop\\card\\test1.mp4: 384x640 16 cars, 1 truck, 13.3ms\n",
      "video 1/1 (frame 253/956) c:\\Users\\Ivan\\Desktop\\card\\test1.mp4: 384x640 16 cars, 1 truck, 12.1ms\n",
      "video 1/1 (frame 254/956) c:\\Users\\Ivan\\Desktop\\card\\test1.mp4: 384x640 15 cars, 1 truck, 12.1ms\n",
      "video 1/1 (frame 255/956) c:\\Users\\Ivan\\Desktop\\card\\test1.mp4: 384x640 16 cars, 1 truck, 12.0ms\n",
      "video 1/1 (frame 256/956) c:\\Users\\Ivan\\Desktop\\card\\test1.mp4: 384x640 16 cars, 1 truck, 11.1ms\n",
      "video 1/1 (frame 257/956) c:\\Users\\Ivan\\Desktop\\card\\test1.mp4: 384x640 16 cars, 1 truck, 11.0ms\n",
      "video 1/1 (frame 258/956) c:\\Users\\Ivan\\Desktop\\card\\test1.mp4: 384x640 17 cars, 1 truck, 11.0ms\n",
      "video 1/1 (frame 259/956) c:\\Users\\Ivan\\Desktop\\card\\test1.mp4: 384x640 17 cars, 1 truck, 11.2ms\n",
      "video 1/1 (frame 260/956) c:\\Users\\Ivan\\Desktop\\card\\test1.mp4: 384x640 16 cars, 1 truck, 11.1ms\n",
      "video 1/1 (frame 261/956) c:\\Users\\Ivan\\Desktop\\card\\test1.mp4: 384x640 15 cars, 1 truck, 12.3ms\n",
      "video 1/1 (frame 262/956) c:\\Users\\Ivan\\Desktop\\card\\test1.mp4: 384x640 15 cars, 1 truck, 12.0ms\n",
      "video 1/1 (frame 263/956) c:\\Users\\Ivan\\Desktop\\card\\test1.mp4: 384x640 1 bus, 16 cars, 13.2ms\n",
      "video 1/1 (frame 264/956) c:\\Users\\Ivan\\Desktop\\card\\test1.mp4: 384x640 15 cars, 1 truck, 13.1ms\n",
      "video 1/1 (frame 265/956) c:\\Users\\Ivan\\Desktop\\card\\test1.mp4: 384x640 16 cars, 1 truck, 12.0ms\n",
      "video 1/1 (frame 266/956) c:\\Users\\Ivan\\Desktop\\card\\test1.mp4: 384x640 17 cars, 1 truck, 11.3ms\n",
      "video 1/1 (frame 267/956) c:\\Users\\Ivan\\Desktop\\card\\test1.mp4: 384x640 16 cars, 1 truck, 12.2ms\n",
      "video 1/1 (frame 268/956) c:\\Users\\Ivan\\Desktop\\card\\test1.mp4: 384x640 19 cars, 1 truck, 13.1ms\n",
      "video 1/1 (frame 269/956) c:\\Users\\Ivan\\Desktop\\card\\test1.mp4: 384x640 19 cars, 1 truck, 12.0ms\n",
      "video 1/1 (frame 270/956) c:\\Users\\Ivan\\Desktop\\card\\test1.mp4: 384x640 18 cars, 1 truck, 13.0ms\n",
      "video 1/1 (frame 271/956) c:\\Users\\Ivan\\Desktop\\card\\test1.mp4: 384x640 18 cars, 1 truck, 13.0ms\n",
      "video 1/1 (frame 272/956) c:\\Users\\Ivan\\Desktop\\card\\test1.mp4: 384x640 19 cars, 1 truck, 12.2ms\n",
      "video 1/1 (frame 273/956) c:\\Users\\Ivan\\Desktop\\card\\test1.mp4: 384x640 18 cars, 1 truck, 13.2ms\n",
      "video 1/1 (frame 274/956) c:\\Users\\Ivan\\Desktop\\card\\test1.mp4: 384x640 18 cars, 2 trucks, 13.0ms\n",
      "video 1/1 (frame 275/956) c:\\Users\\Ivan\\Desktop\\card\\test1.mp4: 384x640 17 cars, 2 trucks, 13.3ms\n",
      "video 1/1 (frame 276/956) c:\\Users\\Ivan\\Desktop\\card\\test1.mp4: 384x640 17 cars, 1 truck, 12.1ms\n",
      "video 1/1 (frame 277/956) c:\\Users\\Ivan\\Desktop\\card\\test1.mp4: 384x640 17 cars, 1 truck, 12.1ms\n",
      "video 1/1 (frame 278/956) c:\\Users\\Ivan\\Desktop\\card\\test1.mp4: 384x640 17 cars, 2 trucks, 13.1ms\n",
      "video 1/1 (frame 279/956) c:\\Users\\Ivan\\Desktop\\card\\test1.mp4: 384x640 17 cars, 2 trucks, 13.1ms\n",
      "video 1/1 (frame 280/956) c:\\Users\\Ivan\\Desktop\\card\\test1.mp4: 384x640 17 cars, 2 trucks, 14.1ms\n",
      "video 1/1 (frame 281/956) c:\\Users\\Ivan\\Desktop\\card\\test1.mp4: 384x640 17 cars, 2 trucks, 13.2ms\n",
      "video 1/1 (frame 282/956) c:\\Users\\Ivan\\Desktop\\card\\test1.mp4: 384x640 19 cars, 1 truck, 13.1ms\n",
      "video 1/1 (frame 283/956) c:\\Users\\Ivan\\Desktop\\card\\test1.mp4: 384x640 19 cars, 1 truck, 13.2ms\n",
      "video 1/1 (frame 284/956) c:\\Users\\Ivan\\Desktop\\card\\test1.mp4: 384x640 18 cars, 2 trucks, 13.1ms\n",
      "video 1/1 (frame 285/956) c:\\Users\\Ivan\\Desktop\\card\\test1.mp4: 384x640 18 cars, 2 trucks, 14.1ms\n",
      "video 1/1 (frame 286/956) c:\\Users\\Ivan\\Desktop\\card\\test1.mp4: 384x640 18 cars, 1 truck, 13.2ms\n",
      "video 1/1 (frame 287/956) c:\\Users\\Ivan\\Desktop\\card\\test1.mp4: 384x640 17 cars, 1 truck, 14.0ms\n",
      "video 1/1 (frame 288/956) c:\\Users\\Ivan\\Desktop\\card\\test1.mp4: 384x640 17 cars, 1 truck, 13.2ms\n",
      "video 1/1 (frame 289/956) c:\\Users\\Ivan\\Desktop\\card\\test1.mp4: 384x640 18 cars, 2 trucks, 13.0ms\n",
      "video 1/1 (frame 290/956) c:\\Users\\Ivan\\Desktop\\card\\test1.mp4: 384x640 17 cars, 1 truck, 13.1ms\n",
      "video 1/1 (frame 291/956) c:\\Users\\Ivan\\Desktop\\card\\test1.mp4: 384x640 17 cars, 1 truck, 14.1ms\n",
      "video 1/1 (frame 292/956) c:\\Users\\Ivan\\Desktop\\card\\test1.mp4: 384x640 17 cars, 1 truck, 14.4ms\n",
      "video 1/1 (frame 293/956) c:\\Users\\Ivan\\Desktop\\card\\test1.mp4: 384x640 17 cars, 1 truck, 13.0ms\n",
      "video 1/1 (frame 294/956) c:\\Users\\Ivan\\Desktop\\card\\test1.mp4: 384x640 17 cars, 1 truck, 13.2ms\n",
      "video 1/1 (frame 295/956) c:\\Users\\Ivan\\Desktop\\card\\test1.mp4: 384x640 17 cars, 1 truck, 13.2ms\n",
      "video 1/1 (frame 296/956) c:\\Users\\Ivan\\Desktop\\card\\test1.mp4: 384x640 17 cars, 1 truck, 14.2ms\n",
      "video 1/1 (frame 297/956) c:\\Users\\Ivan\\Desktop\\card\\test1.mp4: 384x640 16 cars, 1 truck, 14.0ms\n",
      "video 1/1 (frame 298/956) c:\\Users\\Ivan\\Desktop\\card\\test1.mp4: 384x640 15 cars, 1 truck, 14.2ms\n",
      "video 1/1 (frame 299/956) c:\\Users\\Ivan\\Desktop\\card\\test1.mp4: 384x640 16 cars, 1 truck, 14.5ms\n",
      "video 1/1 (frame 300/956) c:\\Users\\Ivan\\Desktop\\card\\test1.mp4: 384x640 16 cars, 1 truck, 13.2ms\n",
      "video 1/1 (frame 301/956) c:\\Users\\Ivan\\Desktop\\card\\test1.mp4: 384x640 16 cars, 1 truck, 14.0ms\n",
      "video 1/1 (frame 302/956) c:\\Users\\Ivan\\Desktop\\card\\test1.mp4: 384x640 17 cars, 1 truck, 14.1ms\n",
      "video 1/1 (frame 303/956) c:\\Users\\Ivan\\Desktop\\card\\test1.mp4: 384x640 17 cars, 1 truck, 14.0ms\n",
      "video 1/1 (frame 304/956) c:\\Users\\Ivan\\Desktop\\card\\test1.mp4: 384x640 17 cars, 1 truck, 14.0ms\n",
      "video 1/1 (frame 305/956) c:\\Users\\Ivan\\Desktop\\card\\test1.mp4: 384x640 17 cars, 1 truck, 14.1ms\n",
      "video 1/1 (frame 306/956) c:\\Users\\Ivan\\Desktop\\card\\test1.mp4: 384x640 17 cars, 1 truck, 14.0ms\n",
      "video 1/1 (frame 307/956) c:\\Users\\Ivan\\Desktop\\card\\test1.mp4: 384x640 17 cars, 1 truck, 14.1ms\n",
      "video 1/1 (frame 308/956) c:\\Users\\Ivan\\Desktop\\card\\test1.mp4: 384x640 17 cars, 1 truck, 14.1ms\n",
      "video 1/1 (frame 309/956) c:\\Users\\Ivan\\Desktop\\card\\test1.mp4: 384x640 16 cars, 1 truck, 14.1ms\n",
      "video 1/1 (frame 310/956) c:\\Users\\Ivan\\Desktop\\card\\test1.mp4: 384x640 17 cars, 1 truck, 15.2ms\n",
      "video 1/1 (frame 311/956) c:\\Users\\Ivan\\Desktop\\card\\test1.mp4: 384x640 16 cars, 1 truck, 14.1ms\n",
      "video 1/1 (frame 312/956) c:\\Users\\Ivan\\Desktop\\card\\test1.mp4: 384x640 16 cars, 1 truck, 14.2ms\n",
      "video 1/1 (frame 313/956) c:\\Users\\Ivan\\Desktop\\card\\test1.mp4: 384x640 16 cars, 1 truck, 15.2ms\n",
      "video 1/1 (frame 314/956) c:\\Users\\Ivan\\Desktop\\card\\test1.mp4: 384x640 16 cars, 1 truck, 14.0ms\n",
      "video 1/1 (frame 315/956) c:\\Users\\Ivan\\Desktop\\card\\test1.mp4: 384x640 16 cars, 1 truck, 15.1ms\n",
      "video 1/1 (frame 316/956) c:\\Users\\Ivan\\Desktop\\card\\test1.mp4: 384x640 16 cars, 1 truck, 14.7ms\n",
      "video 1/1 (frame 317/956) c:\\Users\\Ivan\\Desktop\\card\\test1.mp4: 384x640 16 cars, 1 truck, 15.1ms\n",
      "video 1/1 (frame 318/956) c:\\Users\\Ivan\\Desktop\\card\\test1.mp4: 384x640 16 cars, 1 truck, 15.3ms\n",
      "video 1/1 (frame 319/956) c:\\Users\\Ivan\\Desktop\\card\\test1.mp4: 384x640 15 cars, 1 truck, 15.2ms\n",
      "video 1/1 (frame 320/956) c:\\Users\\Ivan\\Desktop\\card\\test1.mp4: 384x640 16 cars, 1 truck, 14.1ms\n",
      "video 1/1 (frame 321/956) c:\\Users\\Ivan\\Desktop\\card\\test1.mp4: 384x640 17 cars, 1 truck, 15.2ms\n",
      "video 1/1 (frame 322/956) c:\\Users\\Ivan\\Desktop\\card\\test1.mp4: 384x640 18 cars, 1 truck, 15.0ms\n",
      "video 1/1 (frame 323/956) c:\\Users\\Ivan\\Desktop\\card\\test1.mp4: 384x640 17 cars, 1 truck, 16.0ms\n",
      "video 1/1 (frame 324/956) c:\\Users\\Ivan\\Desktop\\card\\test1.mp4: 384x640 17 cars, 1 truck, 14.1ms\n",
      "video 1/1 (frame 325/956) c:\\Users\\Ivan\\Desktop\\card\\test1.mp4: 384x640 16 cars, 1 truck, 15.1ms\n",
      "video 1/1 (frame 326/956) c:\\Users\\Ivan\\Desktop\\card\\test1.mp4: 384x640 16 cars, 1 truck, 14.2ms\n",
      "video 1/1 (frame 327/956) c:\\Users\\Ivan\\Desktop\\card\\test1.mp4: 384x640 16 cars, 1 truck, 16.2ms\n",
      "video 1/1 (frame 328/956) c:\\Users\\Ivan\\Desktop\\card\\test1.mp4: 384x640 16 cars, 1 truck, 15.3ms\n",
      "video 1/1 (frame 329/956) c:\\Users\\Ivan\\Desktop\\card\\test1.mp4: 384x640 16 cars, 1 truck, 15.1ms\n",
      "video 1/1 (frame 330/956) c:\\Users\\Ivan\\Desktop\\card\\test1.mp4: 384x640 16 cars, 1 truck, 14.3ms\n",
      "video 1/1 (frame 331/956) c:\\Users\\Ivan\\Desktop\\card\\test1.mp4: 384x640 17 cars, 1 truck, 15.2ms\n",
      "video 1/1 (frame 332/956) c:\\Users\\Ivan\\Desktop\\card\\test1.mp4: 384x640 17 cars, 1 truck, 15.2ms\n",
      "video 1/1 (frame 333/956) c:\\Users\\Ivan\\Desktop\\card\\test1.mp4: 384x640 16 cars, 1 truck, 15.0ms\n",
      "video 1/1 (frame 334/956) c:\\Users\\Ivan\\Desktop\\card\\test1.mp4: 384x640 15 cars, 1 truck, 15.2ms\n",
      "video 1/1 (frame 335/956) c:\\Users\\Ivan\\Desktop\\card\\test1.mp4: 384x640 14 cars, 1 truck, 15.1ms\n",
      "video 1/1 (frame 336/956) c:\\Users\\Ivan\\Desktop\\card\\test1.mp4: 384x640 15 cars, 1 truck, 15.2ms\n",
      "video 1/1 (frame 337/956) c:\\Users\\Ivan\\Desktop\\card\\test1.mp4: 384x640 15 cars, 1 truck, 15.2ms\n",
      "video 1/1 (frame 338/956) c:\\Users\\Ivan\\Desktop\\card\\test1.mp4: 384x640 15 cars, 1 truck, 15.2ms\n",
      "video 1/1 (frame 339/956) c:\\Users\\Ivan\\Desktop\\card\\test1.mp4: 384x640 15 cars, 1 truck, 15.0ms\n",
      "video 1/1 (frame 340/956) c:\\Users\\Ivan\\Desktop\\card\\test1.mp4: 384x640 15 cars, 1 truck, 15.7ms\n",
      "video 1/1 (frame 341/956) c:\\Users\\Ivan\\Desktop\\card\\test1.mp4: 384x640 16 cars, 1 truck, 15.1ms\n",
      "video 1/1 (frame 342/956) c:\\Users\\Ivan\\Desktop\\card\\test1.mp4: 384x640 15 cars, 1 truck, 15.2ms\n",
      "video 1/1 (frame 343/956) c:\\Users\\Ivan\\Desktop\\card\\test1.mp4: 384x640 15 cars, 1 truck, 15.4ms\n",
      "video 1/1 (frame 344/956) c:\\Users\\Ivan\\Desktop\\card\\test1.mp4: 384x640 14 cars, 1 truck, 16.3ms\n",
      "video 1/1 (frame 345/956) c:\\Users\\Ivan\\Desktop\\card\\test1.mp4: 384x640 15 cars, 1 truck, 16.2ms\n",
      "video 1/1 (frame 346/956) c:\\Users\\Ivan\\Desktop\\card\\test1.mp4: 384x640 15 cars, 2 trucks, 16.3ms\n",
      "video 1/1 (frame 347/956) c:\\Users\\Ivan\\Desktop\\card\\test1.mp4: 384x640 15 cars, 2 trucks, 15.1ms\n",
      "video 1/1 (frame 348/956) c:\\Users\\Ivan\\Desktop\\card\\test1.mp4: 384x640 15 cars, 2 trucks, 16.0ms\n",
      "video 1/1 (frame 349/956) c:\\Users\\Ivan\\Desktop\\card\\test1.mp4: 384x640 15 cars, 1 truck, 16.0ms\n",
      "video 1/1 (frame 350/956) c:\\Users\\Ivan\\Desktop\\card\\test1.mp4: 384x640 15 cars, 1 truck, 16.2ms\n",
      "video 1/1 (frame 351/956) c:\\Users\\Ivan\\Desktop\\card\\test1.mp4: 384x640 15 cars, 1 truck, 15.2ms\n",
      "video 1/1 (frame 352/956) c:\\Users\\Ivan\\Desktop\\card\\test1.mp4: 384x640 16 cars, 1 truck, 15.1ms\n",
      "video 1/1 (frame 353/956) c:\\Users\\Ivan\\Desktop\\card\\test1.mp4: 384x640 16 cars, 1 truck, 16.0ms\n",
      "video 1/1 (frame 354/956) c:\\Users\\Ivan\\Desktop\\card\\test1.mp4: 384x640 17 cars, 1 truck, 16.0ms\n",
      "video 1/1 (frame 355/956) c:\\Users\\Ivan\\Desktop\\card\\test1.mp4: 384x640 16 cars, 1 truck, 16.1ms\n",
      "video 1/1 (frame 356/956) c:\\Users\\Ivan\\Desktop\\card\\test1.mp4: 384x640 15 cars, 1 truck, 15.7ms\n",
      "video 1/1 (frame 357/956) c:\\Users\\Ivan\\Desktop\\card\\test1.mp4: 384x640 16 cars, 1 truck, 15.1ms\n",
      "video 1/1 (frame 358/956) c:\\Users\\Ivan\\Desktop\\card\\test1.mp4: 384x640 18 cars, 1 truck, 15.0ms\n",
      "video 1/1 (frame 359/956) c:\\Users\\Ivan\\Desktop\\card\\test1.mp4: 384x640 17 cars, 1 truck, 16.2ms\n",
      "video 1/1 (frame 360/956) c:\\Users\\Ivan\\Desktop\\card\\test1.mp4: 384x640 17 cars, 1 truck, 15.3ms\n",
      "video 1/1 (frame 361/956) c:\\Users\\Ivan\\Desktop\\card\\test1.mp4: 384x640 18 cars, 1 truck, 16.3ms\n",
      "video 1/1 (frame 362/956) c:\\Users\\Ivan\\Desktop\\card\\test1.mp4: 384x640 18 cars, 1 truck, 16.3ms\n",
      "video 1/1 (frame 363/956) c:\\Users\\Ivan\\Desktop\\card\\test1.mp4: 384x640 18 cars, 1 truck, 16.4ms\n",
      "video 1/1 (frame 364/956) c:\\Users\\Ivan\\Desktop\\card\\test1.mp4: 384x640 18 cars, 1 truck, 16.4ms\n",
      "video 1/1 (frame 365/956) c:\\Users\\Ivan\\Desktop\\card\\test1.mp4: 384x640 18 cars, 1 truck, 16.1ms\n",
      "video 1/1 (frame 366/956) c:\\Users\\Ivan\\Desktop\\card\\test1.mp4: 384x640 18 cars, 1 truck, 16.2ms\n",
      "video 1/1 (frame 367/956) c:\\Users\\Ivan\\Desktop\\card\\test1.mp4: 384x640 18 cars, 1 truck, 16.0ms\n",
      "video 1/1 (frame 368/956) c:\\Users\\Ivan\\Desktop\\card\\test1.mp4: 384x640 18 cars, 1 truck, 16.0ms\n",
      "video 1/1 (frame 369/956) c:\\Users\\Ivan\\Desktop\\card\\test1.mp4: 384x640 18 cars, 1 truck, 16.1ms\n",
      "video 1/1 (frame 370/956) c:\\Users\\Ivan\\Desktop\\card\\test1.mp4: 384x640 17 cars, 1 truck, 15.2ms\n",
      "video 1/1 (frame 371/956) c:\\Users\\Ivan\\Desktop\\card\\test1.mp4: 384x640 17 cars, 1 truck, 15.2ms\n",
      "video 1/1 (frame 372/956) c:\\Users\\Ivan\\Desktop\\card\\test1.mp4: 384x640 17 cars, 1 truck, 15.3ms\n",
      "video 1/1 (frame 373/956) c:\\Users\\Ivan\\Desktop\\card\\test1.mp4: 384x640 17 cars, 1 truck, 16.2ms\n",
      "video 1/1 (frame 374/956) c:\\Users\\Ivan\\Desktop\\card\\test1.mp4: 384x640 17 cars, 1 truck, 16.1ms\n",
      "video 1/1 (frame 375/956) c:\\Users\\Ivan\\Desktop\\card\\test1.mp4: 384x640 17 cars, 1 truck, 14.2ms\n",
      "video 1/1 (frame 376/956) c:\\Users\\Ivan\\Desktop\\card\\test1.mp4: 384x640 17 cars, 1 truck, 16.1ms\n",
      "video 1/1 (frame 377/956) c:\\Users\\Ivan\\Desktop\\card\\test1.mp4: 384x640 17 cars, 1 truck, 16.0ms\n",
      "video 1/1 (frame 378/956) c:\\Users\\Ivan\\Desktop\\card\\test1.mp4: 384x640 17 cars, 1 truck, 16.1ms\n",
      "video 1/1 (frame 379/956) c:\\Users\\Ivan\\Desktop\\card\\test1.mp4: 384x640 17 cars, 1 truck, 16.0ms\n",
      "video 1/1 (frame 380/956) c:\\Users\\Ivan\\Desktop\\card\\test1.mp4: 384x640 17 cars, 1 truck, 15.7ms\n",
      "video 1/1 (frame 381/956) c:\\Users\\Ivan\\Desktop\\card\\test1.mp4: 384x640 17 cars, 1 truck, 15.1ms\n",
      "video 1/1 (frame 382/956) c:\\Users\\Ivan\\Desktop\\card\\test1.mp4: 384x640 17 cars, 1 truck, 15.2ms\n",
      "video 1/1 (frame 383/956) c:\\Users\\Ivan\\Desktop\\card\\test1.mp4: 384x640 16 cars, 1 truck, 16.2ms\n",
      "video 1/1 (frame 384/956) c:\\Users\\Ivan\\Desktop\\card\\test1.mp4: 384x640 17 cars, 1 truck, 16.0ms\n",
      "video 1/1 (frame 385/956) c:\\Users\\Ivan\\Desktop\\card\\test1.mp4: 384x640 16 cars, 1 truck, 16.1ms\n",
      "video 1/1 (frame 386/956) c:\\Users\\Ivan\\Desktop\\card\\test1.mp4: 384x640 17 cars, 1 truck, 15.2ms\n",
      "video 1/1 (frame 387/956) c:\\Users\\Ivan\\Desktop\\card\\test1.mp4: 384x640 18 cars, 1 truck, 15.3ms\n",
      "video 1/1 (frame 388/956) c:\\Users\\Ivan\\Desktop\\card\\test1.mp4: 384x640 19 cars, 1 truck, 15.2ms\n",
      "video 1/1 (frame 389/956) c:\\Users\\Ivan\\Desktop\\card\\test1.mp4: 384x640 19 cars, 1 truck, 15.3ms\n",
      "video 1/1 (frame 390/956) c:\\Users\\Ivan\\Desktop\\card\\test1.mp4: 384x640 19 cars, 1 truck, 15.3ms\n",
      "video 1/1 (frame 391/956) c:\\Users\\Ivan\\Desktop\\card\\test1.mp4: 384x640 19 cars, 1 truck, 15.2ms\n",
      "video 1/1 (frame 392/956) c:\\Users\\Ivan\\Desktop\\card\\test1.mp4: 384x640 19 cars, 1 truck, 15.2ms\n",
      "video 1/1 (frame 393/956) c:\\Users\\Ivan\\Desktop\\card\\test1.mp4: 384x640 19 cars, 1 truck, 15.0ms\n",
      "video 1/1 (frame 394/956) c:\\Users\\Ivan\\Desktop\\card\\test1.mp4: 384x640 19 cars, 1 truck, 16.0ms\n",
      "video 1/1 (frame 395/956) c:\\Users\\Ivan\\Desktop\\card\\test1.mp4: 384x640 19 cars, 1 truck, 15.2ms\n",
      "video 1/1 (frame 396/956) c:\\Users\\Ivan\\Desktop\\card\\test1.mp4: 384x640 19 cars, 1 truck, 16.2ms\n",
      "video 1/1 (frame 397/956) c:\\Users\\Ivan\\Desktop\\card\\test1.mp4: 384x640 19 cars, 1 truck, 15.2ms\n",
      "video 1/1 (frame 398/956) c:\\Users\\Ivan\\Desktop\\card\\test1.mp4: 384x640 19 cars, 1 truck, 16.2ms\n",
      "video 1/1 (frame 399/956) c:\\Users\\Ivan\\Desktop\\card\\test1.mp4: 384x640 19 cars, 1 truck, 16.0ms\n",
      "video 1/1 (frame 400/956) c:\\Users\\Ivan\\Desktop\\card\\test1.mp4: 384x640 19 cars, 1 truck, 16.0ms\n",
      "video 1/1 (frame 401/956) c:\\Users\\Ivan\\Desktop\\card\\test1.mp4: 384x640 19 cars, 1 truck, 15.2ms\n",
      "video 1/1 (frame 402/956) c:\\Users\\Ivan\\Desktop\\card\\test1.mp4: 384x640 17 cars, 1 truck, 16.1ms\n",
      "video 1/1 (frame 403/956) c:\\Users\\Ivan\\Desktop\\card\\test1.mp4: 384x640 19 cars, 1 truck, 16.2ms\n",
      "video 1/1 (frame 404/956) c:\\Users\\Ivan\\Desktop\\card\\test1.mp4: 384x640 19 cars, 1 truck, 16.5ms\n",
      "video 1/1 (frame 405/956) c:\\Users\\Ivan\\Desktop\\card\\test1.mp4: 384x640 18 cars, 1 truck, 16.1ms\n",
      "video 1/1 (frame 406/956) c:\\Users\\Ivan\\Desktop\\card\\test1.mp4: 384x640 19 cars, 1 truck, 16.1ms\n",
      "video 1/1 (frame 407/956) c:\\Users\\Ivan\\Desktop\\card\\test1.mp4: 384x640 19 cars, 1 truck, 15.2ms\n",
      "video 1/1 (frame 408/956) c:\\Users\\Ivan\\Desktop\\card\\test1.mp4: 384x640 18 cars, 1 truck, 16.1ms\n",
      "video 1/1 (frame 409/956) c:\\Users\\Ivan\\Desktop\\card\\test1.mp4: 384x640 18 cars, 1 truck, 16.0ms\n",
      "video 1/1 (frame 410/956) c:\\Users\\Ivan\\Desktop\\card\\test1.mp4: 384x640 18 cars, 1 truck, 16.0ms\n",
      "video 1/1 (frame 411/956) c:\\Users\\Ivan\\Desktop\\card\\test1.mp4: 384x640 18 cars, 2 trucks, 16.1ms\n",
      "video 1/1 (frame 412/956) c:\\Users\\Ivan\\Desktop\\card\\test1.mp4: 384x640 18 cars, 2 trucks, 16.1ms\n",
      "video 1/1 (frame 413/956) c:\\Users\\Ivan\\Desktop\\card\\test1.mp4: 384x640 18 cars, 1 truck, 16.2ms\n",
      "video 1/1 (frame 414/956) c:\\Users\\Ivan\\Desktop\\card\\test1.mp4: 384x640 18 cars, 2 trucks, 16.1ms\n",
      "video 1/1 (frame 415/956) c:\\Users\\Ivan\\Desktop\\card\\test1.mp4: 384x640 21 cars, 1 truck, 16.1ms\n",
      "video 1/1 (frame 416/956) c:\\Users\\Ivan\\Desktop\\card\\test1.mp4: 384x640 22 cars, 1 truck, 16.0ms\n",
      "video 1/1 (frame 417/956) c:\\Users\\Ivan\\Desktop\\card\\test1.mp4: 384x640 23 cars, 1 truck, 16.0ms\n",
      "video 1/1 (frame 418/956) c:\\Users\\Ivan\\Desktop\\card\\test1.mp4: 384x640 23 cars, 1 truck, 16.2ms\n",
      "video 1/1 (frame 419/956) c:\\Users\\Ivan\\Desktop\\card\\test1.mp4: 384x640 22 cars, 2 trucks, 16.1ms\n",
      "video 1/1 (frame 420/956) c:\\Users\\Ivan\\Desktop\\card\\test1.mp4: 384x640 22 cars, 2 trucks, 16.2ms\n",
      "video 1/1 (frame 421/956) c:\\Users\\Ivan\\Desktop\\card\\test1.mp4: 384x640 22 cars, 1 truck, 16.3ms\n",
      "video 1/1 (frame 422/956) c:\\Users\\Ivan\\Desktop\\card\\test1.mp4: 384x640 20 cars, 1 truck, 16.1ms\n",
      "video 1/1 (frame 423/956) c:\\Users\\Ivan\\Desktop\\card\\test1.mp4: 384x640 20 cars, 1 truck, 17.1ms\n",
      "video 1/1 (frame 424/956) c:\\Users\\Ivan\\Desktop\\card\\test1.mp4: 384x640 20 cars, 1 truck, 15.2ms\n",
      "video 1/1 (frame 425/956) c:\\Users\\Ivan\\Desktop\\card\\test1.mp4: 384x640 21 cars, 1 truck, 17.1ms\n",
      "video 1/1 (frame 426/956) c:\\Users\\Ivan\\Desktop\\card\\test1.mp4: 384x640 20 cars, 1 truck, 17.1ms\n",
      "video 1/1 (frame 427/956) c:\\Users\\Ivan\\Desktop\\card\\test1.mp4: 384x640 21 cars, 1 truck, 16.1ms\n",
      "video 1/1 (frame 428/956) c:\\Users\\Ivan\\Desktop\\card\\test1.mp4: 384x640 21 cars, 2 trucks, 16.2ms\n",
      "video 1/1 (frame 429/956) c:\\Users\\Ivan\\Desktop\\card\\test1.mp4: 384x640 20 cars, 1 truck, 17.2ms\n",
      "video 1/1 (frame 430/956) c:\\Users\\Ivan\\Desktop\\card\\test1.mp4: 384x640 19 cars, 1 truck, 16.0ms\n",
      "video 1/1 (frame 431/956) c:\\Users\\Ivan\\Desktop\\card\\test1.mp4: 384x640 19 cars, 1 truck, 16.0ms\n",
      "video 1/1 (frame 432/956) c:\\Users\\Ivan\\Desktop\\card\\test1.mp4: 384x640 19 cars, 1 truck, 16.1ms\n",
      "video 1/1 (frame 433/956) c:\\Users\\Ivan\\Desktop\\card\\test1.mp4: 384x640 18 cars, 1 truck, 16.1ms\n",
      "video 1/1 (frame 434/956) c:\\Users\\Ivan\\Desktop\\card\\test1.mp4: 384x640 19 cars, 1 truck, 15.2ms\n",
      "video 1/1 (frame 435/956) c:\\Users\\Ivan\\Desktop\\card\\test1.mp4: 384x640 19 cars, 1 truck, 15.2ms\n",
      "video 1/1 (frame 436/956) c:\\Users\\Ivan\\Desktop\\card\\test1.mp4: 384x640 19 cars, 1 truck, 16.2ms\n",
      "video 1/1 (frame 437/956) c:\\Users\\Ivan\\Desktop\\card\\test1.mp4: 384x640 18 cars, 1 truck, 16.2ms\n",
      "video 1/1 (frame 438/956) c:\\Users\\Ivan\\Desktop\\card\\test1.mp4: 384x640 19 cars, 1 truck, 16.3ms\n",
      "video 1/1 (frame 439/956) c:\\Users\\Ivan\\Desktop\\card\\test1.mp4: 384x640 19 cars, 1 truck, 16.1ms\n",
      "video 1/1 (frame 440/956) c:\\Users\\Ivan\\Desktop\\card\\test1.mp4: 384x640 18 cars, 1 truck, 15.3ms\n",
      "video 1/1 (frame 441/956) c:\\Users\\Ivan\\Desktop\\card\\test1.mp4: 384x640 19 cars, 1 truck, 16.1ms\n",
      "video 1/1 (frame 442/956) c:\\Users\\Ivan\\Desktop\\card\\test1.mp4: 384x640 19 cars, 1 truck, 16.0ms\n",
      "video 1/1 (frame 443/956) c:\\Users\\Ivan\\Desktop\\card\\test1.mp4: 384x640 19 cars, 1 truck, 16.2ms\n",
      "video 1/1 (frame 444/956) c:\\Users\\Ivan\\Desktop\\card\\test1.mp4: 384x640 19 cars, 1 truck, 16.7ms\n",
      "video 1/1 (frame 445/956) c:\\Users\\Ivan\\Desktop\\card\\test1.mp4: 384x640 18 cars, 1 truck, 16.2ms\n",
      "video 1/1 (frame 446/956) c:\\Users\\Ivan\\Desktop\\card\\test1.mp4: 384x640 18 cars, 1 truck, 16.2ms\n",
      "video 1/1 (frame 447/956) c:\\Users\\Ivan\\Desktop\\card\\test1.mp4: 384x640 18 cars, 1 truck, 16.0ms\n",
      "video 1/1 (frame 448/956) c:\\Users\\Ivan\\Desktop\\card\\test1.mp4: 384x640 18 cars, 1 truck, 16.1ms\n",
      "video 1/1 (frame 449/956) c:\\Users\\Ivan\\Desktop\\card\\test1.mp4: 384x640 19 cars, 1 truck, 16.2ms\n",
      "video 1/1 (frame 450/956) c:\\Users\\Ivan\\Desktop\\card\\test1.mp4: 384x640 17 cars, 1 truck, 15.1ms\n",
      "video 1/1 (frame 451/956) c:\\Users\\Ivan\\Desktop\\card\\test1.mp4: 384x640 18 cars, 1 truck, 16.1ms\n",
      "video 1/1 (frame 452/956) c:\\Users\\Ivan\\Desktop\\card\\test1.mp4: 384x640 18 cars, 1 truck, 16.3ms\n",
      "video 1/1 (frame 453/956) c:\\Users\\Ivan\\Desktop\\card\\test1.mp4: 384x640 19 cars, 2 trucks, 16.2ms\n",
      "video 1/1 (frame 454/956) c:\\Users\\Ivan\\Desktop\\card\\test1.mp4: 384x640 19 cars, 1 truck, 16.1ms\n",
      "video 1/1 (frame 455/956) c:\\Users\\Ivan\\Desktop\\card\\test1.mp4: 384x640 18 cars, 1 truck, 15.2ms\n",
      "video 1/1 (frame 456/956) c:\\Users\\Ivan\\Desktop\\card\\test1.mp4: 384x640 18 cars, 1 truck, 15.0ms\n",
      "video 1/1 (frame 457/956) c:\\Users\\Ivan\\Desktop\\card\\test1.mp4: 384x640 18 cars, 1 truck, 16.1ms\n",
      "video 1/1 (frame 458/956) c:\\Users\\Ivan\\Desktop\\card\\test1.mp4: 384x640 17 cars, 2 trucks, 15.1ms\n",
      "video 1/1 (frame 459/956) c:\\Users\\Ivan\\Desktop\\card\\test1.mp4: 384x640 18 cars, 1 truck, 16.1ms\n",
      "video 1/1 (frame 460/956) c:\\Users\\Ivan\\Desktop\\card\\test1.mp4: 384x640 18 cars, 1 truck, 16.1ms\n",
      "video 1/1 (frame 461/956) c:\\Users\\Ivan\\Desktop\\card\\test1.mp4: 384x640 18 cars, 1 truck, 16.1ms\n",
      "video 1/1 (frame 462/956) c:\\Users\\Ivan\\Desktop\\card\\test1.mp4: 384x640 18 cars, 2 trucks, 15.3ms\n",
      "video 1/1 (frame 463/956) c:\\Users\\Ivan\\Desktop\\card\\test1.mp4: 384x640 19 cars, 2 trucks, 15.1ms\n",
      "video 1/1 (frame 464/956) c:\\Users\\Ivan\\Desktop\\card\\test1.mp4: 384x640 19 cars, 2 trucks, 16.1ms\n",
      "video 1/1 (frame 465/956) c:\\Users\\Ivan\\Desktop\\card\\test1.mp4: 384x640 18 cars, 2 trucks, 16.0ms\n",
      "video 1/1 (frame 466/956) c:\\Users\\Ivan\\Desktop\\card\\test1.mp4: 384x640 17 cars, 2 trucks, 16.0ms\n",
      "video 1/1 (frame 467/956) c:\\Users\\Ivan\\Desktop\\card\\test1.mp4: 384x640 18 cars, 2 trucks, 15.0ms\n",
      "video 1/1 (frame 468/956) c:\\Users\\Ivan\\Desktop\\card\\test1.mp4: 384x640 18 cars, 2 trucks, 15.6ms\n",
      "video 1/1 (frame 469/956) c:\\Users\\Ivan\\Desktop\\card\\test1.mp4: 384x640 18 cars, 2 trucks, 15.0ms\n",
      "video 1/1 (frame 470/956) c:\\Users\\Ivan\\Desktop\\card\\test1.mp4: 384x640 17 cars, 3 trucks, 15.1ms\n",
      "video 1/1 (frame 471/956) c:\\Users\\Ivan\\Desktop\\card\\test1.mp4: 384x640 17 cars, 2 trucks, 16.1ms\n",
      "video 1/1 (frame 472/956) c:\\Users\\Ivan\\Desktop\\card\\test1.mp4: 384x640 17 cars, 2 trucks, 16.2ms\n",
      "video 1/1 (frame 473/956) c:\\Users\\Ivan\\Desktop\\card\\test1.mp4: 384x640 18 cars, 2 trucks, 15.2ms\n",
      "video 1/1 (frame 474/956) c:\\Users\\Ivan\\Desktop\\card\\test1.mp4: 384x640 18 cars, 2 trucks, 15.2ms\n",
      "video 1/1 (frame 475/956) c:\\Users\\Ivan\\Desktop\\card\\test1.mp4: 384x640 18 cars, 2 trucks, 16.0ms\n",
      "video 1/1 (frame 476/956) c:\\Users\\Ivan\\Desktop\\card\\test1.mp4: 384x640 17 cars, 2 trucks, 16.1ms\n",
      "video 1/1 (frame 477/956) c:\\Users\\Ivan\\Desktop\\card\\test1.mp4: 384x640 17 cars, 2 trucks, 16.0ms\n",
      "video 1/1 (frame 478/956) c:\\Users\\Ivan\\Desktop\\card\\test1.mp4: 384x640 16 cars, 1 truck, 15.3ms\n",
      "video 1/1 (frame 479/956) c:\\Users\\Ivan\\Desktop\\card\\test1.mp4: 384x640 16 cars, 2 trucks, 16.0ms\n",
      "video 1/1 (frame 480/956) c:\\Users\\Ivan\\Desktop\\card\\test1.mp4: 384x640 16 cars, 2 trucks, 16.0ms\n",
      "video 1/1 (frame 481/956) c:\\Users\\Ivan\\Desktop\\card\\test1.mp4: 384x640 17 cars, 1 truck, 16.1ms\n",
      "video 1/1 (frame 482/956) c:\\Users\\Ivan\\Desktop\\card\\test1.mp4: 384x640 18 cars, 2 trucks, 16.0ms\n",
      "video 1/1 (frame 483/956) c:\\Users\\Ivan\\Desktop\\card\\test1.mp4: 384x640 17 cars, 2 trucks, 15.2ms\n",
      "video 1/1 (frame 484/956) c:\\Users\\Ivan\\Desktop\\card\\test1.mp4: 384x640 17 cars, 1 truck, 15.2ms\n",
      "video 1/1 (frame 485/956) c:\\Users\\Ivan\\Desktop\\card\\test1.mp4: 384x640 17 cars, 1 truck, 16.3ms\n",
      "video 1/1 (frame 486/956) c:\\Users\\Ivan\\Desktop\\card\\test1.mp4: 384x640 16 cars, 2 trucks, 16.2ms\n",
      "video 1/1 (frame 487/956) c:\\Users\\Ivan\\Desktop\\card\\test1.mp4: 384x640 19 cars, 1 truck, 16.2ms\n",
      "video 1/1 (frame 488/956) c:\\Users\\Ivan\\Desktop\\card\\test1.mp4: 384x640 19 cars, 2 trucks, 15.2ms\n",
      "video 1/1 (frame 489/956) c:\\Users\\Ivan\\Desktop\\card\\test1.mp4: 384x640 19 cars, 2 trucks, 16.0ms\n",
      "video 1/1 (frame 490/956) c:\\Users\\Ivan\\Desktop\\card\\test1.mp4: 384x640 18 cars, 2 trucks, 16.0ms\n",
      "video 1/1 (frame 491/956) c:\\Users\\Ivan\\Desktop\\card\\test1.mp4: 384x640 19 cars, 1 truck, 16.0ms\n",
      "video 1/1 (frame 492/956) c:\\Users\\Ivan\\Desktop\\card\\test1.mp4: 384x640 18 cars, 2 trucks, 16.0ms\n",
      "video 1/1 (frame 493/956) c:\\Users\\Ivan\\Desktop\\card\\test1.mp4: 384x640 20 cars, 2 trucks, 16.0ms\n",
      "video 1/1 (frame 494/956) c:\\Users\\Ivan\\Desktop\\card\\test1.mp4: 384x640 22 cars, 16.0ms\n",
      "video 1/1 (frame 495/956) c:\\Users\\Ivan\\Desktop\\card\\test1.mp4: 384x640 22 cars, 15.0ms\n",
      "video 1/1 (frame 496/956) c:\\Users\\Ivan\\Desktop\\card\\test1.mp4: 384x640 22 cars, 17.0ms\n",
      "video 1/1 (frame 497/956) c:\\Users\\Ivan\\Desktop\\card\\test1.mp4: 384x640 22 cars, 17.0ms\n",
      "video 1/1 (frame 498/956) c:\\Users\\Ivan\\Desktop\\card\\test1.mp4: 384x640 22 cars, 16.0ms\n",
      "video 1/1 (frame 499/956) c:\\Users\\Ivan\\Desktop\\card\\test1.mp4: 384x640 22 cars, 16.1ms\n",
      "video 1/1 (frame 500/956) c:\\Users\\Ivan\\Desktop\\card\\test1.mp4: 384x640 22 cars, 16.1ms\n",
      "video 1/1 (frame 501/956) c:\\Users\\Ivan\\Desktop\\card\\test1.mp4: 384x640 21 cars, 16.2ms\n",
      "video 1/1 (frame 502/956) c:\\Users\\Ivan\\Desktop\\card\\test1.mp4: 384x640 22 cars, 16.0ms\n",
      "video 1/1 (frame 503/956) c:\\Users\\Ivan\\Desktop\\card\\test1.mp4: 384x640 21 cars, 16.0ms\n",
      "video 1/1 (frame 504/956) c:\\Users\\Ivan\\Desktop\\card\\test1.mp4: 384x640 21 cars, 16.4ms\n",
      "video 1/1 (frame 505/956) c:\\Users\\Ivan\\Desktop\\card\\test1.mp4: 384x640 20 cars, 17.4ms\n",
      "video 1/1 (frame 506/956) c:\\Users\\Ivan\\Desktop\\card\\test1.mp4: 384x640 22 cars, 16.2ms\n",
      "video 1/1 (frame 507/956) c:\\Users\\Ivan\\Desktop\\card\\test1.mp4: 384x640 23 cars, 17.2ms\n",
      "video 1/1 (frame 508/956) c:\\Users\\Ivan\\Desktop\\card\\test1.mp4: 384x640 21 cars, 16.2ms\n",
      "video 1/1 (frame 509/956) c:\\Users\\Ivan\\Desktop\\card\\test1.mp4: 384x640 20 cars, 16.2ms\n",
      "video 1/1 (frame 510/956) c:\\Users\\Ivan\\Desktop\\card\\test1.mp4: 384x640 21 cars, 16.1ms\n",
      "video 1/1 (frame 511/956) c:\\Users\\Ivan\\Desktop\\card\\test1.mp4: 384x640 21 cars, 17.2ms\n",
      "video 1/1 (frame 512/956) c:\\Users\\Ivan\\Desktop\\card\\test1.mp4: 384x640 20 cars, 16.2ms\n",
      "video 1/1 (frame 513/956) c:\\Users\\Ivan\\Desktop\\card\\test1.mp4: 384x640 21 cars, 16.2ms\n",
      "video 1/1 (frame 514/956) c:\\Users\\Ivan\\Desktop\\card\\test1.mp4: 384x640 21 cars, 17.1ms\n",
      "video 1/1 (frame 515/956) c:\\Users\\Ivan\\Desktop\\card\\test1.mp4: 384x640 20 cars, 17.1ms\n",
      "video 1/1 (frame 516/956) c:\\Users\\Ivan\\Desktop\\card\\test1.mp4: 384x640 20 cars, 17.0ms\n",
      "video 1/1 (frame 517/956) c:\\Users\\Ivan\\Desktop\\card\\test1.mp4: 384x640 20 cars, 16.1ms\n",
      "video 1/1 (frame 518/956) c:\\Users\\Ivan\\Desktop\\card\\test1.mp4: 384x640 20 cars, 15.1ms\n",
      "video 1/1 (frame 519/956) c:\\Users\\Ivan\\Desktop\\card\\test1.mp4: 384x640 20 cars, 15.2ms\n",
      "video 1/1 (frame 520/956) c:\\Users\\Ivan\\Desktop\\card\\test1.mp4: 384x640 20 cars, 16.2ms\n",
      "video 1/1 (frame 521/956) c:\\Users\\Ivan\\Desktop\\card\\test1.mp4: 384x640 21 cars, 16.4ms\n",
      "video 1/1 (frame 522/956) c:\\Users\\Ivan\\Desktop\\card\\test1.mp4: 384x640 20 cars, 16.3ms\n",
      "video 1/1 (frame 523/956) c:\\Users\\Ivan\\Desktop\\card\\test1.mp4: 384x640 21 cars, 16.1ms\n",
      "video 1/1 (frame 524/956) c:\\Users\\Ivan\\Desktop\\card\\test1.mp4: 384x640 20 cars, 15.3ms\n",
      "video 1/1 (frame 525/956) c:\\Users\\Ivan\\Desktop\\card\\test1.mp4: 384x640 20 cars, 16.1ms\n",
      "video 1/1 (frame 526/956) c:\\Users\\Ivan\\Desktop\\card\\test1.mp4: 384x640 20 cars, 16.0ms\n",
      "video 1/1 (frame 527/956) c:\\Users\\Ivan\\Desktop\\card\\test1.mp4: 384x640 20 cars, 16.3ms\n",
      "video 1/1 (frame 528/956) c:\\Users\\Ivan\\Desktop\\card\\test1.mp4: 384x640 20 cars, 16.1ms\n",
      "video 1/1 (frame 529/956) c:\\Users\\Ivan\\Desktop\\card\\test1.mp4: 384x640 20 cars, 16.1ms\n",
      "video 1/1 (frame 530/956) c:\\Users\\Ivan\\Desktop\\card\\test1.mp4: 384x640 19 cars, 15.1ms\n",
      "video 1/1 (frame 531/956) c:\\Users\\Ivan\\Desktop\\card\\test1.mp4: 384x640 20 cars, 16.1ms\n",
      "video 1/1 (frame 532/956) c:\\Users\\Ivan\\Desktop\\card\\test1.mp4: 384x640 20 cars, 16.2ms\n",
      "video 1/1 (frame 533/956) c:\\Users\\Ivan\\Desktop\\card\\test1.mp4: 384x640 20 cars, 16.0ms\n",
      "video 1/1 (frame 534/956) c:\\Users\\Ivan\\Desktop\\card\\test1.mp4: 384x640 20 cars, 16.1ms\n",
      "video 1/1 (frame 535/956) c:\\Users\\Ivan\\Desktop\\card\\test1.mp4: 384x640 20 cars, 15.2ms\n",
      "video 1/1 (frame 536/956) c:\\Users\\Ivan\\Desktop\\card\\test1.mp4: 384x640 20 cars, 16.2ms\n",
      "video 1/1 (frame 537/956) c:\\Users\\Ivan\\Desktop\\card\\test1.mp4: 384x640 20 cars, 16.3ms\n",
      "video 1/1 (frame 538/956) c:\\Users\\Ivan\\Desktop\\card\\test1.mp4: 384x640 20 cars, 16.2ms\n",
      "video 1/1 (frame 539/956) c:\\Users\\Ivan\\Desktop\\card\\test1.mp4: 384x640 20 cars, 16.3ms\n",
      "video 1/1 (frame 540/956) c:\\Users\\Ivan\\Desktop\\card\\test1.mp4: 384x640 20 cars, 15.1ms\n",
      "video 1/1 (frame 541/956) c:\\Users\\Ivan\\Desktop\\card\\test1.mp4: 384x640 21 cars, 15.3ms\n",
      "video 1/1 (frame 542/956) c:\\Users\\Ivan\\Desktop\\card\\test1.mp4: 384x640 21 cars, 16.1ms\n",
      "video 1/1 (frame 543/956) c:\\Users\\Ivan\\Desktop\\card\\test1.mp4: 384x640 21 cars, 16.0ms\n",
      "video 1/1 (frame 544/956) c:\\Users\\Ivan\\Desktop\\card\\test1.mp4: 384x640 21 cars, 16.1ms\n",
      "video 1/1 (frame 545/956) c:\\Users\\Ivan\\Desktop\\card\\test1.mp4: 384x640 21 cars, 16.1ms\n",
      "video 1/1 (frame 546/956) c:\\Users\\Ivan\\Desktop\\card\\test1.mp4: 384x640 21 cars, 16.1ms\n",
      "video 1/1 (frame 547/956) c:\\Users\\Ivan\\Desktop\\card\\test1.mp4: 384x640 21 cars, 16.1ms\n",
      "video 1/1 (frame 548/956) c:\\Users\\Ivan\\Desktop\\card\\test1.mp4: 384x640 21 cars, 15.1ms\n",
      "video 1/1 (frame 549/956) c:\\Users\\Ivan\\Desktop\\card\\test1.mp4: 384x640 21 cars, 15.1ms\n",
      "video 1/1 (frame 550/956) c:\\Users\\Ivan\\Desktop\\card\\test1.mp4: 384x640 21 cars, 16.0ms\n",
      "video 1/1 (frame 551/956) c:\\Users\\Ivan\\Desktop\\card\\test1.mp4: 384x640 21 cars, 16.0ms\n",
      "video 1/1 (frame 552/956) c:\\Users\\Ivan\\Desktop\\card\\test1.mp4: 384x640 21 cars, 15.2ms\n",
      "video 1/1 (frame 553/956) c:\\Users\\Ivan\\Desktop\\card\\test1.mp4: 384x640 21 cars, 16.2ms\n",
      "video 1/1 (frame 554/956) c:\\Users\\Ivan\\Desktop\\card\\test1.mp4: 384x640 21 cars, 15.2ms\n",
      "video 1/1 (frame 555/956) c:\\Users\\Ivan\\Desktop\\card\\test1.mp4: 384x640 21 cars, 16.0ms\n",
      "video 1/1 (frame 556/956) c:\\Users\\Ivan\\Desktop\\card\\test1.mp4: 384x640 21 cars, 16.1ms\n",
      "video 1/1 (frame 557/956) c:\\Users\\Ivan\\Desktop\\card\\test1.mp4: 384x640 22 cars, 17.0ms\n",
      "video 1/1 (frame 558/956) c:\\Users\\Ivan\\Desktop\\card\\test1.mp4: 384x640 22 cars, 16.0ms\n",
      "video 1/1 (frame 559/956) c:\\Users\\Ivan\\Desktop\\card\\test1.mp4: 384x640 22 cars, 16.2ms\n",
      "video 1/1 (frame 560/956) c:\\Users\\Ivan\\Desktop\\card\\test1.mp4: 384x640 20 cars, 16.1ms\n",
      "video 1/1 (frame 561/956) c:\\Users\\Ivan\\Desktop\\card\\test1.mp4: 384x640 21 cars, 16.0ms\n",
      "video 1/1 (frame 562/956) c:\\Users\\Ivan\\Desktop\\card\\test1.mp4: 384x640 20 cars, 16.0ms\n",
      "video 1/1 (frame 563/956) c:\\Users\\Ivan\\Desktop\\card\\test1.mp4: 384x640 20 cars, 16.2ms\n",
      "video 1/1 (frame 564/956) c:\\Users\\Ivan\\Desktop\\card\\test1.mp4: 384x640 20 cars, 16.2ms\n",
      "video 1/1 (frame 565/956) c:\\Users\\Ivan\\Desktop\\card\\test1.mp4: 384x640 19 cars, 16.1ms\n",
      "video 1/1 (frame 566/956) c:\\Users\\Ivan\\Desktop\\card\\test1.mp4: 384x640 19 cars, 15.1ms\n",
      "video 1/1 (frame 567/956) c:\\Users\\Ivan\\Desktop\\card\\test1.mp4: 384x640 19 cars, 1 truck, 17.1ms\n",
      "video 1/1 (frame 568/956) c:\\Users\\Ivan\\Desktop\\card\\test1.mp4: 384x640 19 cars, 1 truck, 16.3ms\n",
      "video 1/1 (frame 569/956) c:\\Users\\Ivan\\Desktop\\card\\test1.mp4: 384x640 19 cars, 1 truck, 17.0ms\n",
      "video 1/1 (frame 570/956) c:\\Users\\Ivan\\Desktop\\card\\test1.mp4: 384x640 19 cars, 16.1ms\n",
      "video 1/1 (frame 571/956) c:\\Users\\Ivan\\Desktop\\card\\test1.mp4: 384x640 19 cars, 17.1ms\n",
      "video 1/1 (frame 572/956) c:\\Users\\Ivan\\Desktop\\card\\test1.mp4: 384x640 19 cars, 16.2ms\n",
      "video 1/1 (frame 573/956) c:\\Users\\Ivan\\Desktop\\card\\test1.mp4: 384x640 19 cars, 17.0ms\n",
      "video 1/1 (frame 574/956) c:\\Users\\Ivan\\Desktop\\card\\test1.mp4: 384x640 19 cars, 16.3ms\n",
      "video 1/1 (frame 575/956) c:\\Users\\Ivan\\Desktop\\card\\test1.mp4: 384x640 17 cars, 16.1ms\n",
      "video 1/1 (frame 576/956) c:\\Users\\Ivan\\Desktop\\card\\test1.mp4: 384x640 18 cars, 16.3ms\n",
      "video 1/1 (frame 577/956) c:\\Users\\Ivan\\Desktop\\card\\test1.mp4: 384x640 18 cars, 1 truck, 15.2ms\n",
      "video 1/1 (frame 578/956) c:\\Users\\Ivan\\Desktop\\card\\test1.mp4: 384x640 18 cars, 1 truck, 17.0ms\n",
      "video 1/1 (frame 579/956) c:\\Users\\Ivan\\Desktop\\card\\test1.mp4: 384x640 18 cars, 16.1ms\n",
      "video 1/1 (frame 580/956) c:\\Users\\Ivan\\Desktop\\card\\test1.mp4: 384x640 19 cars, 17.2ms\n",
      "video 1/1 (frame 581/956) c:\\Users\\Ivan\\Desktop\\card\\test1.mp4: 384x640 19 cars, 16.2ms\n",
      "video 1/1 (frame 582/956) c:\\Users\\Ivan\\Desktop\\card\\test1.mp4: 384x640 19 cars, 15.3ms\n",
      "video 1/1 (frame 583/956) c:\\Users\\Ivan\\Desktop\\card\\test1.mp4: 384x640 19 cars, 16.3ms\n",
      "video 1/1 (frame 584/956) c:\\Users\\Ivan\\Desktop\\card\\test1.mp4: 384x640 18 cars, 16.0ms\n",
      "video 1/1 (frame 585/956) c:\\Users\\Ivan\\Desktop\\card\\test1.mp4: 384x640 18 cars, 16.0ms\n",
      "video 1/1 (frame 586/956) c:\\Users\\Ivan\\Desktop\\card\\test1.mp4: 384x640 17 cars, 1 truck, 15.1ms\n",
      "video 1/1 (frame 587/956) c:\\Users\\Ivan\\Desktop\\card\\test1.mp4: 384x640 16 cars, 1 truck, 15.2ms\n",
      "video 1/1 (frame 588/956) c:\\Users\\Ivan\\Desktop\\card\\test1.mp4: 384x640 16 cars, 1 truck, 14.2ms\n",
      "video 1/1 (frame 589/956) c:\\Users\\Ivan\\Desktop\\card\\test1.mp4: 384x640 17 cars, 1 truck, 15.1ms\n",
      "video 1/1 (frame 590/956) c:\\Users\\Ivan\\Desktop\\card\\test1.mp4: 384x640 17 cars, 1 truck, 15.2ms\n",
      "video 1/1 (frame 591/956) c:\\Users\\Ivan\\Desktop\\card\\test1.mp4: 384x640 17 cars, 1 truck, 17.0ms\n",
      "video 1/1 (frame 592/956) c:\\Users\\Ivan\\Desktop\\card\\test1.mp4: 384x640 17 cars, 1 truck, 15.0ms\n",
      "video 1/1 (frame 593/956) c:\\Users\\Ivan\\Desktop\\card\\test1.mp4: 384x640 16 cars, 1 truck, 14.3ms\n",
      "video 1/1 (frame 594/956) c:\\Users\\Ivan\\Desktop\\card\\test1.mp4: 384x640 16 cars, 1 truck, 17.0ms\n",
      "video 1/1 (frame 595/956) c:\\Users\\Ivan\\Desktop\\card\\test1.mp4: 384x640 16 cars, 1 truck, 16.0ms\n",
      "video 1/1 (frame 596/956) c:\\Users\\Ivan\\Desktop\\card\\test1.mp4: 384x640 16 cars, 1 truck, 16.0ms\n",
      "video 1/1 (frame 597/956) c:\\Users\\Ivan\\Desktop\\card\\test1.mp4: 384x640 16 cars, 1 truck, 16.0ms\n",
      "video 1/1 (frame 598/956) c:\\Users\\Ivan\\Desktop\\card\\test1.mp4: 384x640 16 cars, 1 truck, 14.0ms\n",
      "video 1/1 (frame 599/956) c:\\Users\\Ivan\\Desktop\\card\\test1.mp4: 384x640 16 cars, 1 truck, 16.0ms\n",
      "video 1/1 (frame 600/956) c:\\Users\\Ivan\\Desktop\\card\\test1.mp4: 384x640 16 cars, 1 truck, 16.0ms\n",
      "video 1/1 (frame 601/956) c:\\Users\\Ivan\\Desktop\\card\\test1.mp4: 384x640 16 cars, 1 truck, 15.0ms\n",
      "video 1/1 (frame 602/956) c:\\Users\\Ivan\\Desktop\\card\\test1.mp4: 384x640 17 cars, 15.0ms\n",
      "video 1/1 (frame 603/956) c:\\Users\\Ivan\\Desktop\\card\\test1.mp4: 384x640 17 cars, 15.0ms\n",
      "video 1/1 (frame 604/956) c:\\Users\\Ivan\\Desktop\\card\\test1.mp4: 384x640 17 cars, 15.0ms\n",
      "video 1/1 (frame 605/956) c:\\Users\\Ivan\\Desktop\\card\\test1.mp4: 384x640 16 cars, 1 truck, 16.0ms\n",
      "video 1/1 (frame 606/956) c:\\Users\\Ivan\\Desktop\\card\\test1.mp4: 384x640 16 cars, 1 truck, 15.0ms\n",
      "video 1/1 (frame 607/956) c:\\Users\\Ivan\\Desktop\\card\\test1.mp4: 384x640 16 cars, 1 truck, 16.0ms\n",
      "video 1/1 (frame 608/956) c:\\Users\\Ivan\\Desktop\\card\\test1.mp4: 384x640 17 cars, 16.0ms\n",
      "video 1/1 (frame 609/956) c:\\Users\\Ivan\\Desktop\\card\\test1.mp4: 384x640 17 cars, 1 truck, 15.0ms\n",
      "video 1/1 (frame 610/956) c:\\Users\\Ivan\\Desktop\\card\\test1.mp4: 384x640 16 cars, 1 truck, 15.0ms\n",
      "video 1/1 (frame 611/956) c:\\Users\\Ivan\\Desktop\\card\\test1.mp4: 384x640 16 cars, 2 trucks, 14.0ms\n",
      "video 1/1 (frame 612/956) c:\\Users\\Ivan\\Desktop\\card\\test1.mp4: 384x640 16 cars, 2 trucks, 16.0ms\n",
      "video 1/1 (frame 613/956) c:\\Users\\Ivan\\Desktop\\card\\test1.mp4: 384x640 17 cars, 2 trucks, 15.0ms\n",
      "video 1/1 (frame 614/956) c:\\Users\\Ivan\\Desktop\\card\\test1.mp4: 384x640 15 cars, 3 trucks, 15.7ms\n",
      "video 1/1 (frame 615/956) c:\\Users\\Ivan\\Desktop\\card\\test1.mp4: 384x640 16 cars, 1 truck, 15.0ms\n",
      "video 1/1 (frame 616/956) c:\\Users\\Ivan\\Desktop\\card\\test1.mp4: 384x640 16 cars, 2 trucks, 16.0ms\n",
      "video 1/1 (frame 617/956) c:\\Users\\Ivan\\Desktop\\card\\test1.mp4: 384x640 16 cars, 2 trucks, 15.0ms\n",
      "video 1/1 (frame 618/956) c:\\Users\\Ivan\\Desktop\\card\\test1.mp4: 384x640 16 cars, 2 trucks, 14.0ms\n",
      "video 1/1 (frame 619/956) c:\\Users\\Ivan\\Desktop\\card\\test1.mp4: 384x640 16 cars, 1 truck, 16.0ms\n",
      "video 1/1 (frame 620/956) c:\\Users\\Ivan\\Desktop\\card\\test1.mp4: 384x640 15 cars, 2 trucks, 16.0ms\n",
      "video 1/1 (frame 621/956) c:\\Users\\Ivan\\Desktop\\card\\test1.mp4: 384x640 15 cars, 2 trucks, 16.0ms\n",
      "video 1/1 (frame 622/956) c:\\Users\\Ivan\\Desktop\\card\\test1.mp4: 384x640 16 cars, 2 trucks, 17.0ms\n",
      "video 1/1 (frame 623/956) c:\\Users\\Ivan\\Desktop\\card\\test1.mp4: 384x640 16 cars, 2 trucks, 17.0ms\n",
      "video 1/1 (frame 624/956) c:\\Users\\Ivan\\Desktop\\card\\test1.mp4: 384x640 15 cars, 1 truck, 15.0ms\n",
      "video 1/1 (frame 625/956) c:\\Users\\Ivan\\Desktop\\card\\test1.mp4: 384x640 16 cars, 1 truck, 16.0ms\n",
      "video 1/1 (frame 626/956) c:\\Users\\Ivan\\Desktop\\card\\test1.mp4: 384x640 16 cars, 1 truck, 15.0ms\n",
      "video 1/1 (frame 627/956) c:\\Users\\Ivan\\Desktop\\card\\test1.mp4: 384x640 15 cars, 17.0ms\n",
      "video 1/1 (frame 628/956) c:\\Users\\Ivan\\Desktop\\card\\test1.mp4: 384x640 15 cars, 1 truck, 17.0ms\n",
      "video 1/1 (frame 629/956) c:\\Users\\Ivan\\Desktop\\card\\test1.mp4: 384x640 15 cars, 1 truck, 19.0ms\n",
      "video 1/1 (frame 630/956) c:\\Users\\Ivan\\Desktop\\card\\test1.mp4: 384x640 17 cars, 17.0ms\n",
      "video 1/1 (frame 631/956) c:\\Users\\Ivan\\Desktop\\card\\test1.mp4: 384x640 17 cars, 1 truck, 17.0ms\n",
      "video 1/1 (frame 632/956) c:\\Users\\Ivan\\Desktop\\card\\test1.mp4: 384x640 17 cars, 1 truck, 16.0ms\n",
      "video 1/1 (frame 633/956) c:\\Users\\Ivan\\Desktop\\card\\test1.mp4: 384x640 17 cars, 1 truck, 16.0ms\n",
      "video 1/1 (frame 634/956) c:\\Users\\Ivan\\Desktop\\card\\test1.mp4: 384x640 17 cars, 1 truck, 17.0ms\n",
      "video 1/1 (frame 635/956) c:\\Users\\Ivan\\Desktop\\card\\test1.mp4: 384x640 16 cars, 1 truck, 16.7ms\n",
      "video 1/1 (frame 636/956) c:\\Users\\Ivan\\Desktop\\card\\test1.mp4: 384x640 16 cars, 2 trucks, 16.0ms\n",
      "video 1/1 (frame 637/956) c:\\Users\\Ivan\\Desktop\\card\\test1.mp4: 384x640 17 cars, 2 trucks, 17.0ms\n",
      "video 1/1 (frame 638/956) c:\\Users\\Ivan\\Desktop\\card\\test1.mp4: 384x640 17 cars, 2 trucks, 17.0ms\n",
      "video 1/1 (frame 639/956) c:\\Users\\Ivan\\Desktop\\card\\test1.mp4: 384x640 16 cars, 1 truck, 16.0ms\n",
      "video 1/1 (frame 640/956) c:\\Users\\Ivan\\Desktop\\card\\test1.mp4: 384x640 16 cars, 1 truck, 16.0ms\n",
      "video 1/1 (frame 641/956) c:\\Users\\Ivan\\Desktop\\card\\test1.mp4: 384x640 15 cars, 2 trucks, 16.0ms\n",
      "video 1/1 (frame 642/956) c:\\Users\\Ivan\\Desktop\\card\\test1.mp4: 384x640 15 cars, 2 trucks, 17.0ms\n",
      "video 1/1 (frame 643/956) c:\\Users\\Ivan\\Desktop\\card\\test1.mp4: 384x640 16 cars, 1 truck, 17.0ms\n",
      "video 1/1 (frame 644/956) c:\\Users\\Ivan\\Desktop\\card\\test1.mp4: 384x640 16 cars, 2 trucks, 16.0ms\n",
      "video 1/1 (frame 645/956) c:\\Users\\Ivan\\Desktop\\card\\test1.mp4: 384x640 17 cars, 2 trucks, 17.0ms\n",
      "video 1/1 (frame 646/956) c:\\Users\\Ivan\\Desktop\\card\\test1.mp4: 384x640 16 cars, 2 trucks, 17.0ms\n",
      "video 1/1 (frame 647/956) c:\\Users\\Ivan\\Desktop\\card\\test1.mp4: 384x640 17 cars, 2 trucks, 17.0ms\n",
      "video 1/1 (frame 648/956) c:\\Users\\Ivan\\Desktop\\card\\test1.mp4: 384x640 17 cars, 1 truck, 17.0ms\n",
      "video 1/1 (frame 649/956) c:\\Users\\Ivan\\Desktop\\card\\test1.mp4: 384x640 16 cars, 1 truck, 15.0ms\n",
      "video 1/1 (frame 650/956) c:\\Users\\Ivan\\Desktop\\card\\test1.mp4: 384x640 17 cars, 1 truck, 17.0ms\n",
      "video 1/1 (frame 651/956) c:\\Users\\Ivan\\Desktop\\card\\test1.mp4: 384x640 16 cars, 1 truck, 17.0ms\n",
      "video 1/1 (frame 652/956) c:\\Users\\Ivan\\Desktop\\card\\test1.mp4: 384x640 15 cars, 1 truck, 17.0ms\n",
      "video 1/1 (frame 653/956) c:\\Users\\Ivan\\Desktop\\card\\test1.mp4: 384x640 14 cars, 1 truck, 17.0ms\n",
      "video 1/1 (frame 654/956) c:\\Users\\Ivan\\Desktop\\card\\test1.mp4: 384x640 15 cars, 1 truck, 17.0ms\n",
      "video 1/1 (frame 655/956) c:\\Users\\Ivan\\Desktop\\card\\test1.mp4: 384x640 14 cars, 1 truck, 17.0ms\n",
      "video 1/1 (frame 656/956) c:\\Users\\Ivan\\Desktop\\card\\test1.mp4: 384x640 14 cars, 17.0ms\n",
      "video 1/1 (frame 657/956) c:\\Users\\Ivan\\Desktop\\card\\test1.mp4: 384x640 15 cars, 16.0ms\n",
      "video 1/1 (frame 658/956) c:\\Users\\Ivan\\Desktop\\card\\test1.mp4: 384x640 15 cars, 17.0ms\n",
      "video 1/1 (frame 659/956) c:\\Users\\Ivan\\Desktop\\card\\test1.mp4: 384x640 15 cars, 17.0ms\n",
      "video 1/1 (frame 660/956) c:\\Users\\Ivan\\Desktop\\card\\test1.mp4: 384x640 15 cars, 17.0ms\n",
      "video 1/1 (frame 661/956) c:\\Users\\Ivan\\Desktop\\card\\test1.mp4: 384x640 15 cars, 1 truck, 17.0ms\n",
      "video 1/1 (frame 662/956) c:\\Users\\Ivan\\Desktop\\card\\test1.mp4: 384x640 15 cars, 1 truck, 16.0ms\n",
      "video 1/1 (frame 663/956) c:\\Users\\Ivan\\Desktop\\card\\test1.mp4: 384x640 15 cars, 16.0ms\n",
      "video 1/1 (frame 664/956) c:\\Users\\Ivan\\Desktop\\card\\test1.mp4: 384x640 15 cars, 17.0ms\n",
      "video 1/1 (frame 665/956) c:\\Users\\Ivan\\Desktop\\card\\test1.mp4: 384x640 14 cars, 1 truck, 17.0ms\n",
      "video 1/1 (frame 666/956) c:\\Users\\Ivan\\Desktop\\card\\test1.mp4: 384x640 14 cars, 16.0ms\n",
      "video 1/1 (frame 667/956) c:\\Users\\Ivan\\Desktop\\card\\test1.mp4: 384x640 14 cars, 1 truck, 17.0ms\n",
      "video 1/1 (frame 668/956) c:\\Users\\Ivan\\Desktop\\card\\test1.mp4: 384x640 14 cars, 17.0ms\n",
      "video 1/1 (frame 669/956) c:\\Users\\Ivan\\Desktop\\card\\test1.mp4: 384x640 15 cars, 1 truck, 16.0ms\n",
      "video 1/1 (frame 670/956) c:\\Users\\Ivan\\Desktop\\card\\test1.mp4: 384x640 15 cars, 1 truck, 16.0ms\n",
      "video 1/1 (frame 671/956) c:\\Users\\Ivan\\Desktop\\card\\test1.mp4: 384x640 15 cars, 17.0ms\n",
      "video 1/1 (frame 672/956) c:\\Users\\Ivan\\Desktop\\card\\test1.mp4: 384x640 15 cars, 16.0ms\n",
      "video 1/1 (frame 673/956) c:\\Users\\Ivan\\Desktop\\card\\test1.mp4: 384x640 15 cars, 17.0ms\n",
      "video 1/1 (frame 674/956) c:\\Users\\Ivan\\Desktop\\card\\test1.mp4: 384x640 14 cars, 1 truck, 17.0ms\n",
      "video 1/1 (frame 675/956) c:\\Users\\Ivan\\Desktop\\card\\test1.mp4: 384x640 14 cars, 1 truck, 17.0ms\n",
      "video 1/1 (frame 676/956) c:\\Users\\Ivan\\Desktop\\card\\test1.mp4: 384x640 13 cars, 1 truck, 17.0ms\n",
      "video 1/1 (frame 677/956) c:\\Users\\Ivan\\Desktop\\card\\test1.mp4: 384x640 13 cars, 16.0ms\n",
      "video 1/1 (frame 678/956) c:\\Users\\Ivan\\Desktop\\card\\test1.mp4: 384x640 13 cars, 16.0ms\n",
      "video 1/1 (frame 679/956) c:\\Users\\Ivan\\Desktop\\card\\test1.mp4: 384x640 13 cars, 17.0ms\n",
      "video 1/1 (frame 680/956) c:\\Users\\Ivan\\Desktop\\card\\test1.mp4: 384x640 11 cars, 1 truck, 16.0ms\n",
      "video 1/1 (frame 681/956) c:\\Users\\Ivan\\Desktop\\card\\test1.mp4: 384x640 13 cars, 1 truck, 16.0ms\n",
      "video 1/1 (frame 682/956) c:\\Users\\Ivan\\Desktop\\card\\test1.mp4: 384x640 13 cars, 2 trucks, 17.0ms\n",
      "video 1/1 (frame 683/956) c:\\Users\\Ivan\\Desktop\\card\\test1.mp4: 384x640 14 cars, 2 trucks, 17.0ms\n",
      "video 1/1 (frame 684/956) c:\\Users\\Ivan\\Desktop\\card\\test1.mp4: 384x640 14 cars, 1 truck, 17.0ms\n",
      "video 1/1 (frame 685/956) c:\\Users\\Ivan\\Desktop\\card\\test1.mp4: 384x640 13 cars, 16.0ms\n",
      "video 1/1 (frame 686/956) c:\\Users\\Ivan\\Desktop\\card\\test1.mp4: 384x640 14 cars, 16.0ms\n",
      "video 1/1 (frame 687/956) c:\\Users\\Ivan\\Desktop\\card\\test1.mp4: 384x640 13 cars, 1 truck, 17.0ms\n",
      "video 1/1 (frame 688/956) c:\\Users\\Ivan\\Desktop\\card\\test1.mp4: 384x640 11 cars, 1 truck, 16.0ms\n",
      "video 1/1 (frame 689/956) c:\\Users\\Ivan\\Desktop\\card\\test1.mp4: 384x640 10 cars, 1 truck, 17.0ms\n",
      "video 1/1 (frame 690/956) c:\\Users\\Ivan\\Desktop\\card\\test1.mp4: 384x640 11 cars, 2 trucks, 17.0ms\n",
      "video 1/1 (frame 691/956) c:\\Users\\Ivan\\Desktop\\card\\test1.mp4: 384x640 13 cars, 2 trucks, 17.0ms\n",
      "video 1/1 (frame 692/956) c:\\Users\\Ivan\\Desktop\\card\\test1.mp4: 384x640 12 cars, 2 trucks, 16.0ms\n",
      "video 1/1 (frame 693/956) c:\\Users\\Ivan\\Desktop\\card\\test1.mp4: 384x640 10 cars, 2 trucks, 15.0ms\n",
      "video 1/1 (frame 694/956) c:\\Users\\Ivan\\Desktop\\card\\test1.mp4: 384x640 12 cars, 1 truck, 17.0ms\n",
      "video 1/1 (frame 695/956) c:\\Users\\Ivan\\Desktop\\card\\test1.mp4: 384x640 13 cars, 1 truck, 17.0ms\n",
      "video 1/1 (frame 696/956) c:\\Users\\Ivan\\Desktop\\card\\test1.mp4: 384x640 12 cars, 17.0ms\n",
      "video 1/1 (frame 697/956) c:\\Users\\Ivan\\Desktop\\card\\test1.mp4: 384x640 10 cars, 1 truck, 17.0ms\n",
      "video 1/1 (frame 698/956) c:\\Users\\Ivan\\Desktop\\card\\test1.mp4: 384x640 11 cars, 17.0ms\n",
      "video 1/1 (frame 699/956) c:\\Users\\Ivan\\Desktop\\card\\test1.mp4: 384x640 11 cars, 1 truck, 17.0ms\n",
      "video 1/1 (frame 700/956) c:\\Users\\Ivan\\Desktop\\card\\test1.mp4: 384x640 12 cars, 1 truck, 17.0ms\n",
      "video 1/1 (frame 701/956) c:\\Users\\Ivan\\Desktop\\card\\test1.mp4: 384x640 12 cars, 1 truck, 17.0ms\n",
      "video 1/1 (frame 702/956) c:\\Users\\Ivan\\Desktop\\card\\test1.mp4: 384x640 12 cars, 1 truck, 17.0ms\n",
      "video 1/1 (frame 703/956) c:\\Users\\Ivan\\Desktop\\card\\test1.mp4: 384x640 11 cars, 1 truck, 18.0ms\n",
      "video 1/1 (frame 704/956) c:\\Users\\Ivan\\Desktop\\card\\test1.mp4: 384x640 10 cars, 18.0ms\n",
      "video 1/1 (frame 705/956) c:\\Users\\Ivan\\Desktop\\card\\test1.mp4: 384x640 11 cars, 17.0ms\n",
      "video 1/1 (frame 706/956) c:\\Users\\Ivan\\Desktop\\card\\test1.mp4: 384x640 11 cars, 1 truck, 17.0ms\n",
      "video 1/1 (frame 707/956) c:\\Users\\Ivan\\Desktop\\card\\test1.mp4: 384x640 10 cars, 1 truck, 17.0ms\n",
      "video 1/1 (frame 708/956) c:\\Users\\Ivan\\Desktop\\card\\test1.mp4: 384x640 11 cars, 1 truck, 17.0ms\n",
      "video 1/1 (frame 709/956) c:\\Users\\Ivan\\Desktop\\card\\test1.mp4: 384x640 11 cars, 16.0ms\n",
      "video 1/1 (frame 710/956) c:\\Users\\Ivan\\Desktop\\card\\test1.mp4: 384x640 11 cars, 16.0ms\n",
      "video 1/1 (frame 711/956) c:\\Users\\Ivan\\Desktop\\card\\test1.mp4: 384x640 11 cars, 17.0ms\n",
      "video 1/1 (frame 712/956) c:\\Users\\Ivan\\Desktop\\card\\test1.mp4: 384x640 10 cars, 1 truck, 16.0ms\n",
      "video 1/1 (frame 713/956) c:\\Users\\Ivan\\Desktop\\card\\test1.mp4: 384x640 11 cars, 17.0ms\n",
      "video 1/1 (frame 714/956) c:\\Users\\Ivan\\Desktop\\card\\test1.mp4: 384x640 11 cars, 17.0ms\n",
      "video 1/1 (frame 715/956) c:\\Users\\Ivan\\Desktop\\card\\test1.mp4: 384x640 11 cars, 16.0ms\n",
      "video 1/1 (frame 716/956) c:\\Users\\Ivan\\Desktop\\card\\test1.mp4: 384x640 9 cars, 2 trucks, 16.0ms\n",
      "video 1/1 (frame 717/956) c:\\Users\\Ivan\\Desktop\\card\\test1.mp4: 384x640 11 cars, 1 truck, 16.0ms\n",
      "video 1/1 (frame 718/956) c:\\Users\\Ivan\\Desktop\\card\\test1.mp4: 384x640 10 cars, 2 trucks, 17.3ms\n",
      "video 1/1 (frame 719/956) c:\\Users\\Ivan\\Desktop\\card\\test1.mp4: 384x640 10 cars, 1 truck, 17.2ms\n",
      "video 1/1 (frame 720/956) c:\\Users\\Ivan\\Desktop\\card\\test1.mp4: 384x640 9 cars, 2 trucks, 16.3ms\n",
      "video 1/1 (frame 721/956) c:\\Users\\Ivan\\Desktop\\card\\test1.mp4: 384x640 9 cars, 2 trucks, 16.2ms\n",
      "video 1/1 (frame 722/956) c:\\Users\\Ivan\\Desktop\\card\\test1.mp4: 384x640 9 cars, 2 trucks, 16.2ms\n",
      "video 1/1 (frame 723/956) c:\\Users\\Ivan\\Desktop\\card\\test1.mp4: 384x640 9 cars, 2 trucks, 15.2ms\n",
      "video 1/1 (frame 724/956) c:\\Users\\Ivan\\Desktop\\card\\test1.mp4: 384x640 10 cars, 2 trucks, 17.1ms\n",
      "video 1/1 (frame 725/956) c:\\Users\\Ivan\\Desktop\\card\\test1.mp4: 384x640 10 cars, 2 trucks, 17.0ms\n",
      "video 1/1 (frame 726/956) c:\\Users\\Ivan\\Desktop\\card\\test1.mp4: 384x640 9 cars, 1 truck, 16.2ms\n",
      "video 1/1 (frame 727/956) c:\\Users\\Ivan\\Desktop\\card\\test1.mp4: 384x640 9 cars, 2 trucks, 17.1ms\n",
      "video 1/1 (frame 728/956) c:\\Users\\Ivan\\Desktop\\card\\test1.mp4: 384x640 8 cars, 1 truck, 17.1ms\n",
      "video 1/1 (frame 729/956) c:\\Users\\Ivan\\Desktop\\card\\test1.mp4: 384x640 9 cars, 1 truck, 16.2ms\n",
      "video 1/1 (frame 730/956) c:\\Users\\Ivan\\Desktop\\card\\test1.mp4: 384x640 8 cars, 1 truck, 15.3ms\n",
      "video 1/1 (frame 731/956) c:\\Users\\Ivan\\Desktop\\card\\test1.mp4: 384x640 8 cars, 17.2ms\n",
      "video 1/1 (frame 732/956) c:\\Users\\Ivan\\Desktop\\card\\test1.mp4: 384x640 8 cars, 1 truck, 17.0ms\n",
      "video 1/1 (frame 733/956) c:\\Users\\Ivan\\Desktop\\card\\test1.mp4: 384x640 8 cars, 1 truck, 17.0ms\n",
      "video 1/1 (frame 734/956) c:\\Users\\Ivan\\Desktop\\card\\test1.mp4: 384x640 9 cars, 17.0ms\n",
      "video 1/1 (frame 735/956) c:\\Users\\Ivan\\Desktop\\card\\test1.mp4: 384x640 8 cars, 16.0ms\n",
      "video 1/1 (frame 736/956) c:\\Users\\Ivan\\Desktop\\card\\test1.mp4: 384x640 8 cars, 1 truck, 16.1ms\n",
      "video 1/1 (frame 737/956) c:\\Users\\Ivan\\Desktop\\card\\test1.mp4: 384x640 8 cars, 16.2ms\n",
      "video 1/1 (frame 738/956) c:\\Users\\Ivan\\Desktop\\card\\test1.mp4: 384x640 8 cars, 16.3ms\n",
      "video 1/1 (frame 739/956) c:\\Users\\Ivan\\Desktop\\card\\test1.mp4: 384x640 8 cars, 17.1ms\n",
      "video 1/1 (frame 740/956) c:\\Users\\Ivan\\Desktop\\card\\test1.mp4: 384x640 8 cars, 16.3ms\n",
      "video 1/1 (frame 741/956) c:\\Users\\Ivan\\Desktop\\card\\test1.mp4: 384x640 8 cars, 1 truck, 15.2ms\n",
      "video 1/1 (frame 742/956) c:\\Users\\Ivan\\Desktop\\card\\test1.mp4: 384x640 8 cars, 17.0ms\n",
      "video 1/1 (frame 743/956) c:\\Users\\Ivan\\Desktop\\card\\test1.mp4: 384x640 8 cars, 16.1ms\n",
      "video 1/1 (frame 744/956) c:\\Users\\Ivan\\Desktop\\card\\test1.mp4: 384x640 8 cars, 17.3ms\n",
      "video 1/1 (frame 745/956) c:\\Users\\Ivan\\Desktop\\card\\test1.mp4: 384x640 8 cars, 16.4ms\n",
      "video 1/1 (frame 746/956) c:\\Users\\Ivan\\Desktop\\card\\test1.mp4: 384x640 8 cars, 15.2ms\n",
      "video 1/1 (frame 747/956) c:\\Users\\Ivan\\Desktop\\card\\test1.mp4: 384x640 8 cars, 17.2ms\n",
      "video 1/1 (frame 748/956) c:\\Users\\Ivan\\Desktop\\card\\test1.mp4: 384x640 10 cars, 17.1ms\n",
      "video 1/1 (frame 749/956) c:\\Users\\Ivan\\Desktop\\card\\test1.mp4: 384x640 11 cars, 17.1ms\n",
      "video 1/1 (frame 750/956) c:\\Users\\Ivan\\Desktop\\card\\test1.mp4: 384x640 11 cars, 16.1ms\n",
      "video 1/1 (frame 751/956) c:\\Users\\Ivan\\Desktop\\card\\test1.mp4: 384x640 9 cars, 1 truck, 16.2ms\n",
      "video 1/1 (frame 752/956) c:\\Users\\Ivan\\Desktop\\card\\test1.mp4: 384x640 11 cars, 16.2ms\n",
      "video 1/1 (frame 753/956) c:\\Users\\Ivan\\Desktop\\card\\test1.mp4: 384x640 11 cars, 16.2ms\n",
      "video 1/1 (frame 754/956) c:\\Users\\Ivan\\Desktop\\card\\test1.mp4: 384x640 10 cars, 16.2ms\n",
      "video 1/1 (frame 755/956) c:\\Users\\Ivan\\Desktop\\card\\test1.mp4: 384x640 12 cars, 16.1ms\n",
      "video 1/1 (frame 756/956) c:\\Users\\Ivan\\Desktop\\card\\test1.mp4: 384x640 12 cars, 16.2ms\n",
      "video 1/1 (frame 757/956) c:\\Users\\Ivan\\Desktop\\card\\test1.mp4: 384x640 12 cars, 15.2ms\n",
      "video 1/1 (frame 758/956) c:\\Users\\Ivan\\Desktop\\card\\test1.mp4: 384x640 12 cars, 16.0ms\n",
      "video 1/1 (frame 759/956) c:\\Users\\Ivan\\Desktop\\card\\test1.mp4: 384x640 12 cars, 17.0ms\n",
      "video 1/1 (frame 760/956) c:\\Users\\Ivan\\Desktop\\card\\test1.mp4: 384x640 12 cars, 17.1ms\n",
      "video 1/1 (frame 761/956) c:\\Users\\Ivan\\Desktop\\card\\test1.mp4: 384x640 12 cars, 16.7ms\n",
      "video 1/1 (frame 762/956) c:\\Users\\Ivan\\Desktop\\card\\test1.mp4: 384x640 12 cars, 16.2ms\n",
      "video 1/1 (frame 763/956) c:\\Users\\Ivan\\Desktop\\card\\test1.mp4: 384x640 12 cars, 16.1ms\n",
      "video 1/1 (frame 764/956) c:\\Users\\Ivan\\Desktop\\card\\test1.mp4: 384x640 11 cars, 17.3ms\n",
      "video 1/1 (frame 765/956) c:\\Users\\Ivan\\Desktop\\card\\test1.mp4: 384x640 10 cars, 17.1ms\n",
      "video 1/1 (frame 766/956) c:\\Users\\Ivan\\Desktop\\card\\test1.mp4: 384x640 10 cars, 17.0ms\n",
      "video 1/1 (frame 767/956) c:\\Users\\Ivan\\Desktop\\card\\test1.mp4: 384x640 10 cars, 17.1ms\n",
      "video 1/1 (frame 768/956) c:\\Users\\Ivan\\Desktop\\card\\test1.mp4: 384x640 10 cars, 16.1ms\n",
      "video 1/1 (frame 769/956) c:\\Users\\Ivan\\Desktop\\card\\test1.mp4: 384x640 10 cars, 15.1ms\n",
      "video 1/1 (frame 770/956) c:\\Users\\Ivan\\Desktop\\card\\test1.mp4: 384x640 11 cars, 15.1ms\n",
      "video 1/1 (frame 771/956) c:\\Users\\Ivan\\Desktop\\card\\test1.mp4: 384x640 11 cars, 16.2ms\n",
      "video 1/1 (frame 772/956) c:\\Users\\Ivan\\Desktop\\card\\test1.mp4: 384x640 11 cars, 16.3ms\n",
      "video 1/1 (frame 773/956) c:\\Users\\Ivan\\Desktop\\card\\test1.mp4: 384x640 11 cars, 16.1ms\n",
      "video 1/1 (frame 774/956) c:\\Users\\Ivan\\Desktop\\card\\test1.mp4: 384x640 11 cars, 15.2ms\n",
      "video 1/1 (frame 775/956) c:\\Users\\Ivan\\Desktop\\card\\test1.mp4: 384x640 10 cars, 16.0ms\n",
      "video 1/1 (frame 776/956) c:\\Users\\Ivan\\Desktop\\card\\test1.mp4: 384x640 10 cars, 17.0ms\n",
      "video 1/1 (frame 777/956) c:\\Users\\Ivan\\Desktop\\card\\test1.mp4: 384x640 9 cars, 16.2ms\n",
      "video 1/1 (frame 778/956) c:\\Users\\Ivan\\Desktop\\card\\test1.mp4: 384x640 9 cars, 16.3ms\n",
      "video 1/1 (frame 779/956) c:\\Users\\Ivan\\Desktop\\card\\test1.mp4: 384x640 8 cars, 16.1ms\n",
      "video 1/1 (frame 780/956) c:\\Users\\Ivan\\Desktop\\card\\test1.mp4: 384x640 8 cars, 16.2ms\n",
      "video 1/1 (frame 781/956) c:\\Users\\Ivan\\Desktop\\card\\test1.mp4: 384x640 9 cars, 16.2ms\n",
      "video 1/1 (frame 782/956) c:\\Users\\Ivan\\Desktop\\card\\test1.mp4: 384x640 8 cars, 16.0ms\n",
      "video 1/1 (frame 783/956) c:\\Users\\Ivan\\Desktop\\card\\test1.mp4: 384x640 8 cars, 16.1ms\n",
      "video 1/1 (frame 784/956) c:\\Users\\Ivan\\Desktop\\card\\test1.mp4: 384x640 9 cars, 17.1ms\n",
      "video 1/1 (frame 785/956) c:\\Users\\Ivan\\Desktop\\card\\test1.mp4: 384x640 9 cars, 15.7ms\n",
      "video 1/1 (frame 786/956) c:\\Users\\Ivan\\Desktop\\card\\test1.mp4: 384x640 10 cars, 16.3ms\n",
      "video 1/1 (frame 787/956) c:\\Users\\Ivan\\Desktop\\card\\test1.mp4: 384x640 10 cars, 17.1ms\n",
      "video 1/1 (frame 788/956) c:\\Users\\Ivan\\Desktop\\card\\test1.mp4: 384x640 10 cars, 17.3ms\n",
      "video 1/1 (frame 789/956) c:\\Users\\Ivan\\Desktop\\card\\test1.mp4: 384x640 10 cars, 16.2ms\n",
      "video 1/1 (frame 790/956) c:\\Users\\Ivan\\Desktop\\card\\test1.mp4: 384x640 10 cars, 16.1ms\n",
      "video 1/1 (frame 791/956) c:\\Users\\Ivan\\Desktop\\card\\test1.mp4: 384x640 10 cars, 16.3ms\n",
      "video 1/1 (frame 792/956) c:\\Users\\Ivan\\Desktop\\card\\test1.mp4: 384x640 11 cars, 16.2ms\n",
      "video 1/1 (frame 793/956) c:\\Users\\Ivan\\Desktop\\card\\test1.mp4: 384x640 10 cars, 16.2ms\n",
      "video 1/1 (frame 794/956) c:\\Users\\Ivan\\Desktop\\card\\test1.mp4: 384x640 10 cars, 16.4ms\n",
      "video 1/1 (frame 795/956) c:\\Users\\Ivan\\Desktop\\card\\test1.mp4: 384x640 10 cars, 16.1ms\n",
      "video 1/1 (frame 796/956) c:\\Users\\Ivan\\Desktop\\card\\test1.mp4: 384x640 10 cars, 15.2ms\n",
      "video 1/1 (frame 797/956) c:\\Users\\Ivan\\Desktop\\card\\test1.mp4: 384x640 10 cars, 15.2ms\n",
      "video 1/1 (frame 798/956) c:\\Users\\Ivan\\Desktop\\card\\test1.mp4: 384x640 10 cars, 16.2ms\n",
      "video 1/1 (frame 799/956) c:\\Users\\Ivan\\Desktop\\card\\test1.mp4: 384x640 9 cars, 17.2ms\n",
      "video 1/1 (frame 800/956) c:\\Users\\Ivan\\Desktop\\card\\test1.mp4: 384x640 9 cars, 16.1ms\n",
      "video 1/1 (frame 801/956) c:\\Users\\Ivan\\Desktop\\card\\test1.mp4: 384x640 9 cars, 16.2ms\n",
      "video 1/1 (frame 802/956) c:\\Users\\Ivan\\Desktop\\card\\test1.mp4: 384x640 9 cars, 16.1ms\n",
      "video 1/1 (frame 803/956) c:\\Users\\Ivan\\Desktop\\card\\test1.mp4: 384x640 8 cars, 16.2ms\n",
      "video 1/1 (frame 804/956) c:\\Users\\Ivan\\Desktop\\card\\test1.mp4: 384x640 8 cars, 17.2ms\n",
      "video 1/1 (frame 805/956) c:\\Users\\Ivan\\Desktop\\card\\test1.mp4: 384x640 8 cars, 16.2ms\n",
      "video 1/1 (frame 806/956) c:\\Users\\Ivan\\Desktop\\card\\test1.mp4: 384x640 7 cars, 17.2ms\n",
      "video 1/1 (frame 807/956) c:\\Users\\Ivan\\Desktop\\card\\test1.mp4: 384x640 7 cars, 16.3ms\n",
      "video 1/1 (frame 808/956) c:\\Users\\Ivan\\Desktop\\card\\test1.mp4: 384x640 7 cars, 16.3ms\n",
      "video 1/1 (frame 809/956) c:\\Users\\Ivan\\Desktop\\card\\test1.mp4: 384x640 8 cars, 16.1ms\n",
      "video 1/1 (frame 810/956) c:\\Users\\Ivan\\Desktop\\card\\test1.mp4: 384x640 8 cars, 17.3ms\n",
      "video 1/1 (frame 811/956) c:\\Users\\Ivan\\Desktop\\card\\test1.mp4: 384x640 8 cars, 17.0ms\n",
      "video 1/1 (frame 812/956) c:\\Users\\Ivan\\Desktop\\card\\test1.mp4: 384x640 8 cars, 17.1ms\n",
      "video 1/1 (frame 813/956) c:\\Users\\Ivan\\Desktop\\card\\test1.mp4: 384x640 8 cars, 17.4ms\n",
      "video 1/1 (frame 814/956) c:\\Users\\Ivan\\Desktop\\card\\test1.mp4: 384x640 9 cars, 16.1ms\n",
      "video 1/1 (frame 815/956) c:\\Users\\Ivan\\Desktop\\card\\test1.mp4: 384x640 9 cars, 17.1ms\n",
      "video 1/1 (frame 816/956) c:\\Users\\Ivan\\Desktop\\card\\test1.mp4: 384x640 8 cars, 17.0ms\n",
      "video 1/1 (frame 817/956) c:\\Users\\Ivan\\Desktop\\card\\test1.mp4: 384x640 8 cars, 17.1ms\n",
      "video 1/1 (frame 818/956) c:\\Users\\Ivan\\Desktop\\card\\test1.mp4: 384x640 8 cars, 16.1ms\n",
      "video 1/1 (frame 819/956) c:\\Users\\Ivan\\Desktop\\card\\test1.mp4: 384x640 8 cars, 17.0ms\n",
      "video 1/1 (frame 820/956) c:\\Users\\Ivan\\Desktop\\card\\test1.mp4: 384x640 7 cars, 18.0ms\n",
      "video 1/1 (frame 821/956) c:\\Users\\Ivan\\Desktop\\card\\test1.mp4: 384x640 8 cars, 17.2ms\n",
      "video 1/1 (frame 822/956) c:\\Users\\Ivan\\Desktop\\card\\test1.mp4: 384x640 9 cars, 17.0ms\n",
      "video 1/1 (frame 823/956) c:\\Users\\Ivan\\Desktop\\card\\test1.mp4: 384x640 9 cars, 17.2ms\n",
      "video 1/1 (frame 824/956) c:\\Users\\Ivan\\Desktop\\card\\test1.mp4: 384x640 8 cars, 18.1ms\n",
      "video 1/1 (frame 825/956) c:\\Users\\Ivan\\Desktop\\card\\test1.mp4: 384x640 8 cars, 16.8ms\n",
      "video 1/1 (frame 826/956) c:\\Users\\Ivan\\Desktop\\card\\test1.mp4: 384x640 9 cars, 17.4ms\n",
      "video 1/1 (frame 827/956) c:\\Users\\Ivan\\Desktop\\card\\test1.mp4: 384x640 9 cars, 17.1ms\n",
      "video 1/1 (frame 828/956) c:\\Users\\Ivan\\Desktop\\card\\test1.mp4: 384x640 9 cars, 16.2ms\n",
      "video 1/1 (frame 829/956) c:\\Users\\Ivan\\Desktop\\card\\test1.mp4: 384x640 9 cars, 16.1ms\n",
      "video 1/1 (frame 830/956) c:\\Users\\Ivan\\Desktop\\card\\test1.mp4: 384x640 9 cars, 17.2ms\n",
      "video 1/1 (frame 831/956) c:\\Users\\Ivan\\Desktop\\card\\test1.mp4: 384x640 10 cars, 17.0ms\n",
      "video 1/1 (frame 832/956) c:\\Users\\Ivan\\Desktop\\card\\test1.mp4: 384x640 10 cars, 17.0ms\n",
      "video 1/1 (frame 833/956) c:\\Users\\Ivan\\Desktop\\card\\test1.mp4: 384x640 9 cars, 16.1ms\n",
      "video 1/1 (frame 834/956) c:\\Users\\Ivan\\Desktop\\card\\test1.mp4: 384x640 10 cars, 15.1ms\n",
      "video 1/1 (frame 835/956) c:\\Users\\Ivan\\Desktop\\card\\test1.mp4: 384x640 10 cars, 17.0ms\n",
      "video 1/1 (frame 836/956) c:\\Users\\Ivan\\Desktop\\card\\test1.mp4: 384x640 9 cars, 17.1ms\n",
      "video 1/1 (frame 837/956) c:\\Users\\Ivan\\Desktop\\card\\test1.mp4: 384x640 9 cars, 17.1ms\n",
      "video 1/1 (frame 838/956) c:\\Users\\Ivan\\Desktop\\card\\test1.mp4: 384x640 10 cars, 17.0ms\n",
      "video 1/1 (frame 839/956) c:\\Users\\Ivan\\Desktop\\card\\test1.mp4: 384x640 10 cars, 17.0ms\n",
      "video 1/1 (frame 840/956) c:\\Users\\Ivan\\Desktop\\card\\test1.mp4: 384x640 10 cars, 17.2ms\n",
      "video 1/1 (frame 841/956) c:\\Users\\Ivan\\Desktop\\card\\test1.mp4: 384x640 10 cars, 14.1ms\n",
      "video 1/1 (frame 842/956) c:\\Users\\Ivan\\Desktop\\card\\test1.mp4: 384x640 10 cars, 14.1ms\n",
      "video 1/1 (frame 843/956) c:\\Users\\Ivan\\Desktop\\card\\test1.mp4: 384x640 10 cars, 16.0ms\n",
      "video 1/1 (frame 844/956) c:\\Users\\Ivan\\Desktop\\card\\test1.mp4: 384x640 10 cars, 15.0ms\n",
      "video 1/1 (frame 845/956) c:\\Users\\Ivan\\Desktop\\card\\test1.mp4: 384x640 10 cars, 15.0ms\n",
      "video 1/1 (frame 846/956) c:\\Users\\Ivan\\Desktop\\card\\test1.mp4: 384x640 8 cars, 16.0ms\n",
      "video 1/1 (frame 847/956) c:\\Users\\Ivan\\Desktop\\card\\test1.mp4: 384x640 9 cars, 16.7ms\n",
      "video 1/1 (frame 848/956) c:\\Users\\Ivan\\Desktop\\card\\test1.mp4: 384x640 9 cars, 14.1ms\n",
      "video 1/1 (frame 849/956) c:\\Users\\Ivan\\Desktop\\card\\test1.mp4: 384x640 9 cars, 14.2ms\n",
      "video 1/1 (frame 850/956) c:\\Users\\Ivan\\Desktop\\card\\test1.mp4: 384x640 9 cars, 15.6ms\n",
      "video 1/1 (frame 851/956) c:\\Users\\Ivan\\Desktop\\card\\test1.mp4: 384x640 9 cars, 16.0ms\n",
      "video 1/1 (frame 852/956) c:\\Users\\Ivan\\Desktop\\card\\test1.mp4: 384x640 9 cars, 14.1ms\n",
      "video 1/1 (frame 853/956) c:\\Users\\Ivan\\Desktop\\card\\test1.mp4: 384x640 9 cars, 15.2ms\n",
      "video 1/1 (frame 854/956) c:\\Users\\Ivan\\Desktop\\card\\test1.mp4: 384x640 9 cars, 14.1ms\n",
      "video 1/1 (frame 855/956) c:\\Users\\Ivan\\Desktop\\card\\test1.mp4: 384x640 9 cars, 13.1ms\n",
      "video 1/1 (frame 856/956) c:\\Users\\Ivan\\Desktop\\card\\test1.mp4: 384x640 9 cars, 14.2ms\n",
      "video 1/1 (frame 857/956) c:\\Users\\Ivan\\Desktop\\card\\test1.mp4: 384x640 9 cars, 15.0ms\n",
      "video 1/1 (frame 858/956) c:\\Users\\Ivan\\Desktop\\card\\test1.mp4: 384x640 9 cars, 16.0ms\n",
      "video 1/1 (frame 859/956) c:\\Users\\Ivan\\Desktop\\card\\test1.mp4: 384x640 9 cars, 17.1ms\n",
      "video 1/1 (frame 860/956) c:\\Users\\Ivan\\Desktop\\card\\test1.mp4: 384x640 9 cars, 13.1ms\n",
      "video 1/1 (frame 861/956) c:\\Users\\Ivan\\Desktop\\card\\test1.mp4: 384x640 9 cars, 16.0ms\n",
      "video 1/1 (frame 862/956) c:\\Users\\Ivan\\Desktop\\card\\test1.mp4: 384x640 9 cars, 14.1ms\n",
      "video 1/1 (frame 863/956) c:\\Users\\Ivan\\Desktop\\card\\test1.mp4: 384x640 9 cars, 15.2ms\n",
      "video 1/1 (frame 864/956) c:\\Users\\Ivan\\Desktop\\card\\test1.mp4: 384x640 9 cars, 14.3ms\n",
      "video 1/1 (frame 865/956) c:\\Users\\Ivan\\Desktop\\card\\test1.mp4: 384x640 9 cars, 14.2ms\n",
      "video 1/1 (frame 866/956) c:\\Users\\Ivan\\Desktop\\card\\test1.mp4: 384x640 9 cars, 13.1ms\n",
      "video 1/1 (frame 867/956) c:\\Users\\Ivan\\Desktop\\card\\test1.mp4: 384x640 9 cars, 13.1ms\n",
      "video 1/1 (frame 868/956) c:\\Users\\Ivan\\Desktop\\card\\test1.mp4: 384x640 9 cars, 16.0ms\n",
      "video 1/1 (frame 869/956) c:\\Users\\Ivan\\Desktop\\card\\test1.mp4: 384x640 9 cars, 16.0ms\n",
      "video 1/1 (frame 870/956) c:\\Users\\Ivan\\Desktop\\card\\test1.mp4: 384x640 9 cars, 16.0ms\n",
      "video 1/1 (frame 871/956) c:\\Users\\Ivan\\Desktop\\card\\test1.mp4: 384x640 9 cars, 16.2ms\n",
      "video 1/1 (frame 872/956) c:\\Users\\Ivan\\Desktop\\card\\test1.mp4: 384x640 9 cars, 13.1ms\n",
      "video 1/1 (frame 873/956) c:\\Users\\Ivan\\Desktop\\card\\test1.mp4: 384x640 9 cars, 15.0ms\n",
      "video 1/1 (frame 874/956) c:\\Users\\Ivan\\Desktop\\card\\test1.mp4: 384x640 9 cars, 14.1ms\n",
      "video 1/1 (frame 875/956) c:\\Users\\Ivan\\Desktop\\card\\test1.mp4: 384x640 9 cars, 14.1ms\n",
      "video 1/1 (frame 876/956) c:\\Users\\Ivan\\Desktop\\card\\test1.mp4: 384x640 9 cars, 13.1ms\n",
      "video 1/1 (frame 877/956) c:\\Users\\Ivan\\Desktop\\card\\test1.mp4: 384x640 9 cars, 14.1ms\n",
      "video 1/1 (frame 878/956) c:\\Users\\Ivan\\Desktop\\card\\test1.mp4: 384x640 9 cars, 13.9ms\n",
      "video 1/1 (frame 879/956) c:\\Users\\Ivan\\Desktop\\card\\test1.mp4: 384x640 9 cars, 15.1ms\n",
      "video 1/1 (frame 880/956) c:\\Users\\Ivan\\Desktop\\card\\test1.mp4: 384x640 9 cars, 14.1ms\n",
      "video 1/1 (frame 881/956) c:\\Users\\Ivan\\Desktop\\card\\test1.mp4: 384x640 9 cars, 14.1ms\n",
      "video 1/1 (frame 882/956) c:\\Users\\Ivan\\Desktop\\card\\test1.mp4: 384x640 9 cars, 15.3ms\n",
      "video 1/1 (frame 883/956) c:\\Users\\Ivan\\Desktop\\card\\test1.mp4: 384x640 9 cars, 17.0ms\n",
      "video 1/1 (frame 884/956) c:\\Users\\Ivan\\Desktop\\card\\test1.mp4: 384x640 9 cars, 17.1ms\n",
      "video 1/1 (frame 885/956) c:\\Users\\Ivan\\Desktop\\card\\test1.mp4: 384x640 9 cars, 16.1ms\n",
      "video 1/1 (frame 886/956) c:\\Users\\Ivan\\Desktop\\card\\test1.mp4: 384x640 9 cars, 1 truck, 17.1ms\n",
      "video 1/1 (frame 887/956) c:\\Users\\Ivan\\Desktop\\card\\test1.mp4: 384x640 9 cars, 1 truck, 14.0ms\n",
      "video 1/1 (frame 888/956) c:\\Users\\Ivan\\Desktop\\card\\test1.mp4: 384x640 9 cars, 1 truck, 13.0ms\n",
      "video 1/1 (frame 889/956) c:\\Users\\Ivan\\Desktop\\card\\test1.mp4: 384x640 9 cars, 1 truck, 13.5ms\n",
      "video 1/1 (frame 890/956) c:\\Users\\Ivan\\Desktop\\card\\test1.mp4: 384x640 8 cars, 1 truck, 13.0ms\n",
      "video 1/1 (frame 891/956) c:\\Users\\Ivan\\Desktop\\card\\test1.mp4: 384x640 8 cars, 13.0ms\n",
      "video 1/1 (frame 892/956) c:\\Users\\Ivan\\Desktop\\card\\test1.mp4: 384x640 8 cars, 1 truck, 13.0ms\n",
      "video 1/1 (frame 893/956) c:\\Users\\Ivan\\Desktop\\card\\test1.mp4: 384x640 8 cars, 1 truck, 13.0ms\n",
      "video 1/1 (frame 894/956) c:\\Users\\Ivan\\Desktop\\card\\test1.mp4: 384x640 8 cars, 1 truck, 13.1ms\n",
      "video 1/1 (frame 895/956) c:\\Users\\Ivan\\Desktop\\card\\test1.mp4: 384x640 8 cars, 1 truck, 13.1ms\n",
      "video 1/1 (frame 896/956) c:\\Users\\Ivan\\Desktop\\card\\test1.mp4: 384x640 9 cars, 1 truck, 13.2ms\n",
      "video 1/1 (frame 897/956) c:\\Users\\Ivan\\Desktop\\card\\test1.mp4: 384x640 9 cars, 1 truck, 13.1ms\n",
      "video 1/1 (frame 898/956) c:\\Users\\Ivan\\Desktop\\card\\test1.mp4: 384x640 9 cars, 1 truck, 13.0ms\n",
      "video 1/1 (frame 899/956) c:\\Users\\Ivan\\Desktop\\card\\test1.mp4: 384x640 9 cars, 1 truck, 13.2ms\n",
      "video 1/1 (frame 900/956) c:\\Users\\Ivan\\Desktop\\card\\test1.mp4: 384x640 9 cars, 1 truck, 13.2ms\n",
      "video 1/1 (frame 901/956) c:\\Users\\Ivan\\Desktop\\card\\test1.mp4: 384x640 9 cars, 1 truck, 13.6ms\n",
      "video 1/1 (frame 902/956) c:\\Users\\Ivan\\Desktop\\card\\test1.mp4: 384x640 9 cars, 13.3ms\n",
      "video 1/1 (frame 903/956) c:\\Users\\Ivan\\Desktop\\card\\test1.mp4: 384x640 9 cars, 13.0ms\n",
      "video 1/1 (frame 904/956) c:\\Users\\Ivan\\Desktop\\card\\test1.mp4: 384x640 9 cars, 15.1ms\n",
      "video 1/1 (frame 905/956) c:\\Users\\Ivan\\Desktop\\card\\test1.mp4: 384x640 9 cars, 13.2ms\n",
      "video 1/1 (frame 906/956) c:\\Users\\Ivan\\Desktop\\card\\test1.mp4: 384x640 9 cars, 13.0ms\n",
      "video 1/1 (frame 907/956) c:\\Users\\Ivan\\Desktop\\card\\test1.mp4: 384x640 9 cars, 13.0ms\n",
      "video 1/1 (frame 908/956) c:\\Users\\Ivan\\Desktop\\card\\test1.mp4: 384x640 8 cars, 13.0ms\n",
      "video 1/1 (frame 909/956) c:\\Users\\Ivan\\Desktop\\card\\test1.mp4: 384x640 9 cars, 13.1ms\n",
      "video 1/1 (frame 910/956) c:\\Users\\Ivan\\Desktop\\card\\test1.mp4: 384x640 8 cars, 13.2ms\n",
      "video 1/1 (frame 911/956) c:\\Users\\Ivan\\Desktop\\card\\test1.mp4: 384x640 9 cars, 14.1ms\n",
      "video 1/1 (frame 912/956) c:\\Users\\Ivan\\Desktop\\card\\test1.mp4: 384x640 9 cars, 13.0ms\n",
      "video 1/1 (frame 913/956) c:\\Users\\Ivan\\Desktop\\card\\test1.mp4: 384x640 10 cars, 12.3ms\n",
      "video 1/1 (frame 914/956) c:\\Users\\Ivan\\Desktop\\card\\test1.mp4: 384x640 10 cars, 13.2ms\n",
      "video 1/1 (frame 915/956) c:\\Users\\Ivan\\Desktop\\card\\test1.mp4: 384x640 10 cars, 12.0ms\n",
      "video 1/1 (frame 916/956) c:\\Users\\Ivan\\Desktop\\card\\test1.mp4: 384x640 10 cars, 12.0ms\n",
      "video 1/1 (frame 917/956) c:\\Users\\Ivan\\Desktop\\card\\test1.mp4: 384x640 10 cars, 12.1ms\n",
      "video 1/1 (frame 918/956) c:\\Users\\Ivan\\Desktop\\card\\test1.mp4: 384x640 10 cars, 12.0ms\n",
      "video 1/1 (frame 919/956) c:\\Users\\Ivan\\Desktop\\card\\test1.mp4: 384x640 10 cars, 12.1ms\n",
      "video 1/1 (frame 920/956) c:\\Users\\Ivan\\Desktop\\card\\test1.mp4: 384x640 10 cars, 12.2ms\n",
      "video 1/1 (frame 921/956) c:\\Users\\Ivan\\Desktop\\card\\test1.mp4: 384x640 9 cars, 12.0ms\n",
      "video 1/1 (frame 922/956) c:\\Users\\Ivan\\Desktop\\card\\test1.mp4: 384x640 9 cars, 13.1ms\n",
      "video 1/1 (frame 923/956) c:\\Users\\Ivan\\Desktop\\card\\test1.mp4: 384x640 9 cars, 12.0ms\n",
      "video 1/1 (frame 924/956) c:\\Users\\Ivan\\Desktop\\card\\test1.mp4: 384x640 9 cars, 12.0ms\n",
      "video 1/1 (frame 925/956) c:\\Users\\Ivan\\Desktop\\card\\test1.mp4: 384x640 8 cars, 12.0ms\n",
      "video 1/1 (frame 926/956) c:\\Users\\Ivan\\Desktop\\card\\test1.mp4: 384x640 8 cars, 13.0ms\n",
      "video 1/1 (frame 927/956) c:\\Users\\Ivan\\Desktop\\card\\test1.mp4: 384x640 10 cars, 12.0ms\n",
      "video 1/1 (frame 928/956) c:\\Users\\Ivan\\Desktop\\card\\test1.mp4: 384x640 10 cars, 12.1ms\n",
      "video 1/1 (frame 929/956) c:\\Users\\Ivan\\Desktop\\card\\test1.mp4: 384x640 9 cars, 12.0ms\n",
      "video 1/1 (frame 930/956) c:\\Users\\Ivan\\Desktop\\card\\test1.mp4: 384x640 10 cars, 13.2ms\n",
      "video 1/1 (frame 931/956) c:\\Users\\Ivan\\Desktop\\card\\test1.mp4: 384x640 10 cars, 13.2ms\n",
      "video 1/1 (frame 932/956) c:\\Users\\Ivan\\Desktop\\card\\test1.mp4: 384x640 10 cars, 12.0ms\n",
      "video 1/1 (frame 933/956) c:\\Users\\Ivan\\Desktop\\card\\test1.mp4: 384x640 10 cars, 12.0ms\n",
      "video 1/1 (frame 934/956) c:\\Users\\Ivan\\Desktop\\card\\test1.mp4: 384x640 10 cars, 12.0ms\n",
      "video 1/1 (frame 935/956) c:\\Users\\Ivan\\Desktop\\card\\test1.mp4: 384x640 11 cars, 12.1ms\n",
      "video 1/1 (frame 936/956) c:\\Users\\Ivan\\Desktop\\card\\test1.mp4: 384x640 11 cars, 12.0ms\n",
      "video 1/1 (frame 937/956) c:\\Users\\Ivan\\Desktop\\card\\test1.mp4: 384x640 10 cars, 12.1ms\n",
      "video 1/1 (frame 938/956) c:\\Users\\Ivan\\Desktop\\card\\test1.mp4: 384x640 11 cars, 1 truck, 12.1ms\n",
      "video 1/1 (frame 939/956) c:\\Users\\Ivan\\Desktop\\card\\test1.mp4: 384x640 10 cars, 1 truck, 12.0ms\n",
      "video 1/1 (frame 940/956) c:\\Users\\Ivan\\Desktop\\card\\test1.mp4: 384x640 10 cars, 1 truck, 13.1ms\n",
      "video 1/1 (frame 941/956) c:\\Users\\Ivan\\Desktop\\card\\test1.mp4: 384x640 10 cars, 1 truck, 13.0ms\n",
      "video 1/1 (frame 942/956) c:\\Users\\Ivan\\Desktop\\card\\test1.mp4: 384x640 12 cars, 1 truck, 12.2ms\n",
      "video 1/1 (frame 943/956) c:\\Users\\Ivan\\Desktop\\card\\test1.mp4: 384x640 12 cars, 1 truck, 12.2ms\n",
      "video 1/1 (frame 944/956) c:\\Users\\Ivan\\Desktop\\card\\test1.mp4: 384x640 12 cars, 1 truck, 12.1ms\n",
      "video 1/1 (frame 945/956) c:\\Users\\Ivan\\Desktop\\card\\test1.mp4: 384x640 12 cars, 1 truck, 12.0ms\n",
      "video 1/1 (frame 946/956) c:\\Users\\Ivan\\Desktop\\card\\test1.mp4: 384x640 11 cars, 1 truck, 13.0ms\n",
      "video 1/1 (frame 947/956) c:\\Users\\Ivan\\Desktop\\card\\test1.mp4: 384x640 11 cars, 1 truck, 12.3ms\n",
      "video 1/1 (frame 948/956) c:\\Users\\Ivan\\Desktop\\card\\test1.mp4: 384x640 11 cars, 13.0ms\n",
      "video 1/1 (frame 949/956) c:\\Users\\Ivan\\Desktop\\card\\test1.mp4: 384x640 10 cars, 13.0ms\n",
      "video 1/1 (frame 950/956) c:\\Users\\Ivan\\Desktop\\card\\test1.mp4: 384x640 10 cars, 1 truck, 13.3ms\n",
      "video 1/1 (frame 951/956) c:\\Users\\Ivan\\Desktop\\card\\test1.mp4: 384x640 10 cars, 13.2ms\n",
      "video 1/1 (frame 952/956) c:\\Users\\Ivan\\Desktop\\card\\test1.mp4: 384x640 10 cars, 12.0ms\n",
      "video 1/1 (frame 953/956) c:\\Users\\Ivan\\Desktop\\card\\test1.mp4: 384x640 10 cars, 12.1ms\n",
      "video 1/1 (frame 954/956) c:\\Users\\Ivan\\Desktop\\card\\test1.mp4: 384x640 10 cars, 12.0ms\n",
      "video 1/1 (frame 955/956) c:\\Users\\Ivan\\Desktop\\card\\test1.mp4: 384x640 10 cars, 1 truck, 12.3ms\n",
      "video 1/1 (frame 956/956) c:\\Users\\Ivan\\Desktop\\card\\test1.mp4: 384x640 9 cars, 12.6ms\n",
      "Speed: 1.9ms preprocess, 14.9ms inference, 2.2ms postprocess per image at shape (1, 3, 384, 640)\n",
      "Results saved to \u001b[1mruns\\detect\\track2\u001b[0m\n"
     ]
    }
   ],
   "source": [
    "import cv2\n",
    "from ultralytics import YOLO\n",
    "\n",
    "model = YOLO(\"runs/detect/train4/weights/best.pt\")\n",
    "\n",
    "video_path = \"test1.mp4\"\n",
    "cap = cv2.VideoCapture(video_path)\n",
    "\n",
    "if not cap.isOpened():\n",
    "    print(f\"Ошибка: Не удалось открыть видеофайл {video_path}.\")\n",
    "    exit()\n",
    "\n",
    "frame_width = int(cap.get(cv2.CAP_PROP_FRAME_WIDTH))\n",
    "frame_height = int(cap.get(cv2.CAP_PROP_FRAME_HEIGHT))\n",
    "fps = cap.get(cv2.CAP_PROP_FPS)\n",
    "\n",
    "output_video_path = \"TESTD.mp4\"\n",
    "fourcc = cv2.VideoWriter_fourcc(*'mp4v') \n",
    "out = cv2.VideoWriter(output_video_path, fourcc, fps, (frame_width, frame_height))\n",
    "\n",
    "frame_number = 0\n",
    "\n",
    "results = model.track(source=video_path,\n",
    "                      conf=0.25, iou=0.45, show=False, save=True,\n",
    "                      tracker=\"ultralytics/cfg/trackers/bytetrack.yaml\",\n",
    "                      stream=True)\n",
    "\n",
    "for annotated_frame in results:\n",
    "    if annotated_frame is not None:\n",
    "        out.write(annotated_frame.plot())  \n",
    "        cv2.imshow(\"YOLO Tracking\", annotated_frame.plot()) \n",
    "        \n",
    "        if cv2.waitKey(1) & 0xFF == ord(\"q\"):\n",
    "            break\n",
    "    else:\n",
    "        print(f\"Не удалось считать кадр {frame_number }. Завершаю обработку...\")\n",
    "        break\n",
    "    \n",
    "    frame_number += 1\n",
    "\n",
    "cap.release()\n",
    "out.release()\n",
    "cv2.destroyAllWindows()"
   ]
  },
  {
   "cell_type": "code",
   "execution_count": null,
   "metadata": {},
   "outputs": [],
   "source": []
  }
 ],
 "metadata": {
  "kernelspec": {
   "display_name": "venv",
   "language": "python",
   "name": "python3"
  },
  "language_info": {
   "codemirror_mode": {
    "name": "ipython",
    "version": 3
   },
   "file_extension": ".py",
   "mimetype": "text/x-python",
   "name": "python",
   "nbconvert_exporter": "python",
   "pygments_lexer": "ipython3",
   "version": "3.12.0"
  }
 },
 "nbformat": 4,
 "nbformat_minor": 2
}
